{
 "cells": [
  {
   "cell_type": "code",
   "execution_count": 1,
   "id": "4990aa01-2e28-4f6b-be28-b65e1b3297dd",
   "metadata": {},
   "outputs": [],
   "source": [
    "# Import the necessary libraries\n",
    "from langchain_groq.chat_models import ChatGroq\n",
    "import numpy as np\n",
    "import pandas as pd \n",
    "\n",
    "# Importing the api key\n",
    "import sec\n",
    "key = sec.key\n",
    "\n",
    "# setting up the model to use\n",
    "Groq_Token = key\n",
    "\n",
    "groq_models = {\"llama3-70b\": \"llama3-70b-8192\", \"mixtral\": \"mixtral-8x7b-32768\", \"gemma-7b\": \"gemma-7b-it\",\"llama3.1-70b\":\"llama-3.1-70b-versatile\",\"llama3-8b\":\"llama3-8b-8192\",\"llama3.1-8b\":\"llama-3.1-8b-instant\",\"gemma-9b\":\"gemma2-9b-it\"}\n",
    "model = 'llama3.1-70b'\n",
    "# model = \"llama3-70b\"\n",
    "\n",
    "\n",
    "\n",
    "# Create list for easy access of activities\n",
    "ACTIVITIES = {\n",
    "    1: 'WALKING'            ,\n",
    "    2: 'WALKING_UPSTAIRS'   ,\n",
    "    3: 'WALKING_DOWNSTAIRS' ,\n",
    "    4: 'SITTING'            ,\n",
    "    5: 'STANDING'           ,\n",
    "    6: 'LAYING'             ,\n",
    "}\n"
   ]
  },
  {
   "cell_type": "markdown",
   "id": "64ba785d",
   "metadata": {},
   "source": [
    "# Making the TSFEL featurized data and processing it"
   ]
  },
  {
   "cell_type": "code",
   "execution_count": 2,
   "id": "15271807",
   "metadata": {},
   "outputs": [
    {
     "name": "stderr",
     "output_type": "stream",
     "text": [
      "<>:41: SyntaxWarning: invalid escape sequence '\\s'\n",
      "<>:42: SyntaxWarning: invalid escape sequence '\\s'\n",
      "<>:41: SyntaxWarning: invalid escape sequence '\\s'\n",
      "<>:42: SyntaxWarning: invalid escape sequence '\\s'\n",
      "/tmp/ipykernel_4900/3720835186.py:41: SyntaxWarning: invalid escape sequence '\\s'\n",
      "  y_train_acc = pd.read_csv('UCI HAR Dataset/train/y_train.txt', sep='\\s+', header=None, names=['Activity'])\n",
      "/tmp/ipykernel_4900/3720835186.py:42: SyntaxWarning: invalid escape sequence '\\s'\n",
      "  y_test_acc = pd.read_csv('UCI HAR Dataset/test/y_test.txt', sep='\\s+', header=None, names=['Activity'])\n"
     ]
    },
    {
     "name": "stdout",
     "output_type": "stream",
     "text": [
      "Python implementation: CPython\n",
      "Python version       : 3.12.3\n",
      "IPython version      : 8.26.0\n",
      "\n",
      "numpy       : 1.26.4\n",
      "pandas      : 2.2.2\n",
      "matplotlib  : 3.9.1.post1\n",
      "seaborn     : 0.13.2\n",
      "scikit-learn: 1.5.1\n",
      "tsfel       : 0.1.7\n",
      "\n",
      "Shape of the X_train_acc: (7352, 384)\n",
      "Shape of the X_test_acc: (2947, 384)\n",
      "Shape of y_train_acc: (7352, 1)\n",
      "Shape of y_test_acc: (2947, 1)\n",
      "*** Feature extraction started ***\n"
     ]
    },
    {
     "data": {
      "text/html": [
       "\n",
       "              <p>\n",
       "                  Progress: 100% Complete\n",
       "              <p/>\n",
       "              <progress\n",
       "                  value='67'\n",
       "                  max='67',\n",
       "                  style='width: 25%',\n",
       "              >\n",
       "                  67\n",
       "              </progress>\n",
       "\n",
       "    "
      ],
      "text/plain": [
       "<IPython.core.display.HTML object>"
      ]
     },
     "metadata": {},
     "output_type": "display_data"
    },
    {
     "name": "stdout",
     "output_type": "stream",
     "text": [
      "\n",
      "*** Feature extraction finished ***\n",
      "*** Feature extraction started ***\n"
     ]
    },
    {
     "data": {
      "text/html": [
       "\n",
       "              <p>\n",
       "                  Progress: 100% Complete\n",
       "              <p/>\n",
       "              <progress\n",
       "                  value='67'\n",
       "                  max='67',\n",
       "                  style='width: 25%',\n",
       "              >\n",
       "                  67\n",
       "              </progress>\n",
       "\n",
       "    "
      ],
      "text/plain": [
       "<IPython.core.display.HTML object>"
      ]
     },
     "metadata": {},
     "output_type": "display_data"
    },
    {
     "name": "stdout",
     "output_type": "stream",
     "text": [
      "\n",
      "*** Feature extraction finished ***\n",
      "*** Feature extraction started ***\n"
     ]
    },
    {
     "data": {
      "text/html": [
       "\n",
       "              <p>\n",
       "                  Progress: 100% Complete\n",
       "              <p/>\n",
       "              <progress\n",
       "                  value='67'\n",
       "                  max='67',\n",
       "                  style='width: 25%',\n",
       "              >\n",
       "                  67\n",
       "              </progress>\n",
       "\n",
       "    "
      ],
      "text/plain": [
       "<IPython.core.display.HTML object>"
      ]
     },
     "metadata": {},
     "output_type": "display_data"
    },
    {
     "name": "stdout",
     "output_type": "stream",
     "text": [
      "\n",
      "*** Feature extraction finished ***\n",
      "*** Feature extraction started ***\n"
     ]
    },
    {
     "data": {
      "text/html": [
       "\n",
       "              <p>\n",
       "                  Progress: 100% Complete\n",
       "              <p/>\n",
       "              <progress\n",
       "                  value='67'\n",
       "                  max='67',\n",
       "                  style='width: 25%',\n",
       "              >\n",
       "                  67\n",
       "              </progress>\n",
       "\n",
       "    "
      ],
      "text/plain": [
       "<IPython.core.display.HTML object>"
      ]
     },
     "metadata": {},
     "output_type": "display_data"
    },
    {
     "name": "stdout",
     "output_type": "stream",
     "text": [
      "\n",
      "*** Feature extraction finished ***\n",
      "*** Feature extraction started ***\n"
     ]
    },
    {
     "data": {
      "text/html": [
       "\n",
       "              <p>\n",
       "                  Progress: 100% Complete\n",
       "              <p/>\n",
       "              <progress\n",
       "                  value='67'\n",
       "                  max='67',\n",
       "                  style='width: 25%',\n",
       "              >\n",
       "                  67\n",
       "              </progress>\n",
       "\n",
       "    "
      ],
      "text/plain": [
       "<IPython.core.display.HTML object>"
      ]
     },
     "metadata": {},
     "output_type": "display_data"
    },
    {
     "name": "stdout",
     "output_type": "stream",
     "text": [
      "\n",
      "*** Feature extraction finished ***\n",
      "*** Feature extraction started ***\n"
     ]
    },
    {
     "data": {
      "text/html": [
       "\n",
       "              <p>\n",
       "                  Progress: 100% Complete\n",
       "              <p/>\n",
       "              <progress\n",
       "                  value='67'\n",
       "                  max='67',\n",
       "                  style='width: 25%',\n",
       "              >\n",
       "                  67\n",
       "              </progress>\n",
       "\n",
       "    "
      ],
      "text/plain": [
       "<IPython.core.display.HTML object>"
      ]
     },
     "metadata": {},
     "output_type": "display_data"
    },
    {
     "name": "stdout",
     "output_type": "stream",
     "text": [
      "\n",
      "*** Feature extraction finished ***\n",
      "*** Feature extraction started ***\n"
     ]
    },
    {
     "data": {
      "text/html": [
       "\n",
       "              <p>\n",
       "                  Progress: 100% Complete\n",
       "              <p/>\n",
       "              <progress\n",
       "                  value='67'\n",
       "                  max='67',\n",
       "                  style='width: 25%',\n",
       "              >\n",
       "                  67\n",
       "              </progress>\n",
       "\n",
       "    "
      ],
      "text/plain": [
       "<IPython.core.display.HTML object>"
      ]
     },
     "metadata": {},
     "output_type": "display_data"
    },
    {
     "name": "stdout",
     "output_type": "stream",
     "text": [
      "\n",
      "*** Feature extraction finished ***\n",
      "*** Feature extraction started ***\n"
     ]
    },
    {
     "data": {
      "text/html": [
       "\n",
       "              <p>\n",
       "                  Progress: 100% Complete\n",
       "              <p/>\n",
       "              <progress\n",
       "                  value='67'\n",
       "                  max='67',\n",
       "                  style='width: 25%',\n",
       "              >\n",
       "                  67\n",
       "              </progress>\n",
       "\n",
       "    "
      ],
      "text/plain": [
       "<IPython.core.display.HTML object>"
      ]
     },
     "metadata": {},
     "output_type": "display_data"
    },
    {
     "name": "stdout",
     "output_type": "stream",
     "text": [
      "\n",
      "*** Feature extraction finished ***\n",
      "*** Feature extraction started ***\n"
     ]
    },
    {
     "data": {
      "text/html": [
       "\n",
       "              <p>\n",
       "                  Progress: 100% Complete\n",
       "              <p/>\n",
       "              <progress\n",
       "                  value='67'\n",
       "                  max='67',\n",
       "                  style='width: 25%',\n",
       "              >\n",
       "                  67\n",
       "              </progress>\n",
       "\n",
       "    "
      ],
      "text/plain": [
       "<IPython.core.display.HTML object>"
      ]
     },
     "metadata": {},
     "output_type": "display_data"
    },
    {
     "name": "stdout",
     "output_type": "stream",
     "text": [
      "\n",
      "*** Feature extraction finished ***\n",
      "*** Feature extraction started ***\n"
     ]
    },
    {
     "data": {
      "text/html": [
       "\n",
       "              <p>\n",
       "                  Progress: 100% Complete\n",
       "              <p/>\n",
       "              <progress\n",
       "                  value='67'\n",
       "                  max='67',\n",
       "                  style='width: 25%',\n",
       "              >\n",
       "                  67\n",
       "              </progress>\n",
       "\n",
       "    "
      ],
      "text/plain": [
       "<IPython.core.display.HTML object>"
      ]
     },
     "metadata": {},
     "output_type": "display_data"
    },
    {
     "name": "stdout",
     "output_type": "stream",
     "text": [
      "\n",
      "*** Feature extraction finished ***\n",
      "*** Feature extraction started ***\n"
     ]
    },
    {
     "data": {
      "text/html": [
       "\n",
       "              <p>\n",
       "                  Progress: 100% Complete\n",
       "              <p/>\n",
       "              <progress\n",
       "                  value='67'\n",
       "                  max='67',\n",
       "                  style='width: 25%',\n",
       "              >\n",
       "                  67\n",
       "              </progress>\n",
       "\n",
       "    "
      ],
      "text/plain": [
       "<IPython.core.display.HTML object>"
      ]
     },
     "metadata": {},
     "output_type": "display_data"
    },
    {
     "name": "stdout",
     "output_type": "stream",
     "text": [
      "\n",
      "*** Feature extraction finished ***\n",
      "*** Feature extraction started ***\n"
     ]
    },
    {
     "data": {
      "text/html": [
       "\n",
       "              <p>\n",
       "                  Progress: 100% Complete\n",
       "              <p/>\n",
       "              <progress\n",
       "                  value='67'\n",
       "                  max='67',\n",
       "                  style='width: 25%',\n",
       "              >\n",
       "                  67\n",
       "              </progress>\n",
       "\n",
       "    "
      ],
      "text/plain": [
       "<IPython.core.display.HTML object>"
      ]
     },
     "metadata": {},
     "output_type": "display_data"
    },
    {
     "name": "stdout",
     "output_type": "stream",
     "text": [
      "\n",
      "*** Feature extraction finished ***\n",
      "*** Feature extraction started ***\n"
     ]
    },
    {
     "data": {
      "text/html": [
       "\n",
       "              <p>\n",
       "                  Progress: 100% Complete\n",
       "              <p/>\n",
       "              <progress\n",
       "                  value='67'\n",
       "                  max='67',\n",
       "                  style='width: 25%',\n",
       "              >\n",
       "                  67\n",
       "              </progress>\n",
       "\n",
       "    "
      ],
      "text/plain": [
       "<IPython.core.display.HTML object>"
      ]
     },
     "metadata": {},
     "output_type": "display_data"
    },
    {
     "name": "stdout",
     "output_type": "stream",
     "text": [
      "\n",
      "*** Feature extraction finished ***\n",
      "*** Feature extraction started ***\n"
     ]
    },
    {
     "data": {
      "text/html": [
       "\n",
       "              <p>\n",
       "                  Progress: 100% Complete\n",
       "              <p/>\n",
       "              <progress\n",
       "                  value='67'\n",
       "                  max='67',\n",
       "                  style='width: 25%',\n",
       "              >\n",
       "                  67\n",
       "              </progress>\n",
       "\n",
       "    "
      ],
      "text/plain": [
       "<IPython.core.display.HTML object>"
      ]
     },
     "metadata": {},
     "output_type": "display_data"
    },
    {
     "name": "stdout",
     "output_type": "stream",
     "text": [
      "\n",
      "*** Feature extraction finished ***\n",
      "*** Feature extraction started ***\n"
     ]
    },
    {
     "data": {
      "text/html": [
       "\n",
       "              <p>\n",
       "                  Progress: 100% Complete\n",
       "              <p/>\n",
       "              <progress\n",
       "                  value='67'\n",
       "                  max='67',\n",
       "                  style='width: 25%',\n",
       "              >\n",
       "                  67\n",
       "              </progress>\n",
       "\n",
       "    "
      ],
      "text/plain": [
       "<IPython.core.display.HTML object>"
      ]
     },
     "metadata": {},
     "output_type": "display_data"
    },
    {
     "name": "stdout",
     "output_type": "stream",
     "text": [
      "\n",
      "*** Feature extraction finished ***\n",
      "*** Feature extraction started ***\n"
     ]
    },
    {
     "data": {
      "text/html": [
       "\n",
       "              <p>\n",
       "                  Progress: 100% Complete\n",
       "              <p/>\n",
       "              <progress\n",
       "                  value='67'\n",
       "                  max='67',\n",
       "                  style='width: 25%',\n",
       "              >\n",
       "                  67\n",
       "              </progress>\n",
       "\n",
       "    "
      ],
      "text/plain": [
       "<IPython.core.display.HTML object>"
      ]
     },
     "metadata": {},
     "output_type": "display_data"
    },
    {
     "name": "stdout",
     "output_type": "stream",
     "text": [
      "\n",
      "*** Feature extraction finished ***\n",
      "*** Feature extraction started ***\n"
     ]
    },
    {
     "data": {
      "text/html": [
       "\n",
       "              <p>\n",
       "                  Progress: 100% Complete\n",
       "              <p/>\n",
       "              <progress\n",
       "                  value='67'\n",
       "                  max='67',\n",
       "                  style='width: 25%',\n",
       "              >\n",
       "                  67\n",
       "              </progress>\n",
       "\n",
       "    "
      ],
      "text/plain": [
       "<IPython.core.display.HTML object>"
      ]
     },
     "metadata": {},
     "output_type": "display_data"
    },
    {
     "name": "stdout",
     "output_type": "stream",
     "text": [
      "\n",
      "*** Feature extraction finished ***\n",
      "*** Feature extraction started ***\n"
     ]
    },
    {
     "data": {
      "text/html": [
       "\n",
       "              <p>\n",
       "                  Progress: 100% Complete\n",
       "              <p/>\n",
       "              <progress\n",
       "                  value='67'\n",
       "                  max='67',\n",
       "                  style='width: 25%',\n",
       "              >\n",
       "                  67\n",
       "              </progress>\n",
       "\n",
       "    "
      ],
      "text/plain": [
       "<IPython.core.display.HTML object>"
      ]
     },
     "metadata": {},
     "output_type": "display_data"
    },
    {
     "name": "stdout",
     "output_type": "stream",
     "text": [
      "\n",
      "*** Feature extraction finished ***\n",
      "*** Feature extraction started ***\n"
     ]
    },
    {
     "data": {
      "text/html": [
       "\n",
       "              <p>\n",
       "                  Progress: 100% Complete\n",
       "              <p/>\n",
       "              <progress\n",
       "                  value='67'\n",
       "                  max='67',\n",
       "                  style='width: 25%',\n",
       "              >\n",
       "                  67\n",
       "              </progress>\n",
       "\n",
       "    "
      ],
      "text/plain": [
       "<IPython.core.display.HTML object>"
      ]
     },
     "metadata": {},
     "output_type": "display_data"
    },
    {
     "name": "stdout",
     "output_type": "stream",
     "text": [
      "\n",
      "*** Feature extraction finished ***\n",
      "*** Feature extraction started ***\n"
     ]
    },
    {
     "data": {
      "text/html": [
       "\n",
       "              <p>\n",
       "                  Progress: 100% Complete\n",
       "              <p/>\n",
       "              <progress\n",
       "                  value='67'\n",
       "                  max='67',\n",
       "                  style='width: 25%',\n",
       "              >\n",
       "                  67\n",
       "              </progress>\n",
       "\n",
       "    "
      ],
      "text/plain": [
       "<IPython.core.display.HTML object>"
      ]
     },
     "metadata": {},
     "output_type": "display_data"
    },
    {
     "name": "stdout",
     "output_type": "stream",
     "text": [
      "\n",
      "*** Feature extraction finished ***\n",
      "*** Feature extraction started ***\n"
     ]
    },
    {
     "data": {
      "text/html": [
       "\n",
       "              <p>\n",
       "                  Progress: 100% Complete\n",
       "              <p/>\n",
       "              <progress\n",
       "                  value='67'\n",
       "                  max='67',\n",
       "                  style='width: 25%',\n",
       "              >\n",
       "                  67\n",
       "              </progress>\n",
       "\n",
       "    "
      ],
      "text/plain": [
       "<IPython.core.display.HTML object>"
      ]
     },
     "metadata": {},
     "output_type": "display_data"
    },
    {
     "name": "stdout",
     "output_type": "stream",
     "text": [
      "\n",
      "*** Feature extraction finished ***\n",
      "*** Feature extraction started ***\n"
     ]
    },
    {
     "data": {
      "text/html": [
       "\n",
       "              <p>\n",
       "                  Progress: 100% Complete\n",
       "              <p/>\n",
       "              <progress\n",
       "                  value='67'\n",
       "                  max='67',\n",
       "                  style='width: 25%',\n",
       "              >\n",
       "                  67\n",
       "              </progress>\n",
       "\n",
       "    "
      ],
      "text/plain": [
       "<IPython.core.display.HTML object>"
      ]
     },
     "metadata": {},
     "output_type": "display_data"
    },
    {
     "name": "stdout",
     "output_type": "stream",
     "text": [
      "\n",
      "*** Feature extraction finished ***\n",
      "*** Feature extraction started ***\n"
     ]
    },
    {
     "data": {
      "text/html": [
       "\n",
       "              <p>\n",
       "                  Progress: 100% Complete\n",
       "              <p/>\n",
       "              <progress\n",
       "                  value='67'\n",
       "                  max='67',\n",
       "                  style='width: 25%',\n",
       "              >\n",
       "                  67\n",
       "              </progress>\n",
       "\n",
       "    "
      ],
      "text/plain": [
       "<IPython.core.display.HTML object>"
      ]
     },
     "metadata": {},
     "output_type": "display_data"
    },
    {
     "name": "stdout",
     "output_type": "stream",
     "text": [
      "\n",
      "*** Feature extraction finished ***\n",
      "*** Feature extraction started ***\n"
     ]
    },
    {
     "data": {
      "text/html": [
       "\n",
       "              <p>\n",
       "                  Progress: 100% Complete\n",
       "              <p/>\n",
       "              <progress\n",
       "                  value='67'\n",
       "                  max='67',\n",
       "                  style='width: 25%',\n",
       "              >\n",
       "                  67\n",
       "              </progress>\n",
       "\n",
       "    "
      ],
      "text/plain": [
       "<IPython.core.display.HTML object>"
      ]
     },
     "metadata": {},
     "output_type": "display_data"
    },
    {
     "name": "stdout",
     "output_type": "stream",
     "text": [
      "\n",
      "*** Feature extraction finished ***\n",
      "*** Feature extraction started ***\n"
     ]
    },
    {
     "data": {
      "text/html": [
       "\n",
       "              <p>\n",
       "                  Progress: 100% Complete\n",
       "              <p/>\n",
       "              <progress\n",
       "                  value='67'\n",
       "                  max='67',\n",
       "                  style='width: 25%',\n",
       "              >\n",
       "                  67\n",
       "              </progress>\n",
       "\n",
       "    "
      ],
      "text/plain": [
       "<IPython.core.display.HTML object>"
      ]
     },
     "metadata": {},
     "output_type": "display_data"
    },
    {
     "name": "stdout",
     "output_type": "stream",
     "text": [
      "\n",
      "*** Feature extraction finished ***\n",
      "*** Feature extraction started ***\n"
     ]
    },
    {
     "data": {
      "text/html": [
       "\n",
       "              <p>\n",
       "                  Progress: 100% Complete\n",
       "              <p/>\n",
       "              <progress\n",
       "                  value='67'\n",
       "                  max='67',\n",
       "                  style='width: 25%',\n",
       "              >\n",
       "                  67\n",
       "              </progress>\n",
       "\n",
       "    "
      ],
      "text/plain": [
       "<IPython.core.display.HTML object>"
      ]
     },
     "metadata": {},
     "output_type": "display_data"
    },
    {
     "name": "stdout",
     "output_type": "stream",
     "text": [
      "\n",
      "*** Feature extraction finished ***\n",
      "*** Feature extraction started ***\n"
     ]
    },
    {
     "data": {
      "text/html": [
       "\n",
       "              <p>\n",
       "                  Progress: 100% Complete\n",
       "              <p/>\n",
       "              <progress\n",
       "                  value='67'\n",
       "                  max='67',\n",
       "                  style='width: 25%',\n",
       "              >\n",
       "                  67\n",
       "              </progress>\n",
       "\n",
       "    "
      ],
      "text/plain": [
       "<IPython.core.display.HTML object>"
      ]
     },
     "metadata": {},
     "output_type": "display_data"
    },
    {
     "name": "stdout",
     "output_type": "stream",
     "text": [
      "\n",
      "*** Feature extraction finished ***\n",
      "*** Feature extraction started ***\n"
     ]
    },
    {
     "data": {
      "text/html": [
       "\n",
       "              <p>\n",
       "                  Progress: 100% Complete\n",
       "              <p/>\n",
       "              <progress\n",
       "                  value='67'\n",
       "                  max='67',\n",
       "                  style='width: 25%',\n",
       "              >\n",
       "                  67\n",
       "              </progress>\n",
       "\n",
       "    "
      ],
      "text/plain": [
       "<IPython.core.display.HTML object>"
      ]
     },
     "metadata": {},
     "output_type": "display_data"
    },
    {
     "name": "stdout",
     "output_type": "stream",
     "text": [
      "\n",
      "*** Feature extraction finished ***\n",
      "*** Feature extraction started ***\n"
     ]
    },
    {
     "data": {
      "text/html": [
       "\n",
       "              <p>\n",
       "                  Progress: 100% Complete\n",
       "              <p/>\n",
       "              <progress\n",
       "                  value='67'\n",
       "                  max='67',\n",
       "                  style='width: 25%',\n",
       "              >\n",
       "                  67\n",
       "              </progress>\n",
       "\n",
       "    "
      ],
      "text/plain": [
       "<IPython.core.display.HTML object>"
      ]
     },
     "metadata": {},
     "output_type": "display_data"
    },
    {
     "name": "stdout",
     "output_type": "stream",
     "text": [
      "\n",
      "*** Feature extraction finished ***\n",
      "*** Feature extraction started ***\n"
     ]
    },
    {
     "data": {
      "text/html": [
       "\n",
       "              <p>\n",
       "                  Progress: 100% Complete\n",
       "              <p/>\n",
       "              <progress\n",
       "                  value='67'\n",
       "                  max='67',\n",
       "                  style='width: 25%',\n",
       "              >\n",
       "                  67\n",
       "              </progress>\n",
       "\n",
       "    "
      ],
      "text/plain": [
       "<IPython.core.display.HTML object>"
      ]
     },
     "metadata": {},
     "output_type": "display_data"
    },
    {
     "name": "stdout",
     "output_type": "stream",
     "text": [
      "\n",
      "*** Feature extraction finished ***\n",
      "*** Feature extraction started ***\n"
     ]
    },
    {
     "data": {
      "text/html": [
       "\n",
       "              <p>\n",
       "                  Progress: 100% Complete\n",
       "              <p/>\n",
       "              <progress\n",
       "                  value='67'\n",
       "                  max='67',\n",
       "                  style='width: 25%',\n",
       "              >\n",
       "                  67\n",
       "              </progress>\n",
       "\n",
       "    "
      ],
      "text/plain": [
       "<IPython.core.display.HTML object>"
      ]
     },
     "metadata": {},
     "output_type": "display_data"
    },
    {
     "name": "stdout",
     "output_type": "stream",
     "text": [
      "\n",
      "*** Feature extraction finished ***\n",
      "*** Feature extraction started ***\n"
     ]
    },
    {
     "data": {
      "text/html": [
       "\n",
       "              <p>\n",
       "                  Progress: 100% Complete\n",
       "              <p/>\n",
       "              <progress\n",
       "                  value='67'\n",
       "                  max='67',\n",
       "                  style='width: 25%',\n",
       "              >\n",
       "                  67\n",
       "              </progress>\n",
       "\n",
       "    "
      ],
      "text/plain": [
       "<IPython.core.display.HTML object>"
      ]
     },
     "metadata": {},
     "output_type": "display_data"
    },
    {
     "name": "stdout",
     "output_type": "stream",
     "text": [
      "\n",
      "*** Feature extraction finished ***\n",
      "*** Feature extraction started ***\n"
     ]
    },
    {
     "data": {
      "text/html": [
       "\n",
       "              <p>\n",
       "                  Progress: 100% Complete\n",
       "              <p/>\n",
       "              <progress\n",
       "                  value='67'\n",
       "                  max='67',\n",
       "                  style='width: 25%',\n",
       "              >\n",
       "                  67\n",
       "              </progress>\n",
       "\n",
       "    "
      ],
      "text/plain": [
       "<IPython.core.display.HTML object>"
      ]
     },
     "metadata": {},
     "output_type": "display_data"
    },
    {
     "name": "stdout",
     "output_type": "stream",
     "text": [
      "\n",
      "*** Feature extraction finished ***\n",
      "*** Feature extraction started ***\n"
     ]
    },
    {
     "data": {
      "text/html": [
       "\n",
       "              <p>\n",
       "                  Progress: 100% Complete\n",
       "              <p/>\n",
       "              <progress\n",
       "                  value='67'\n",
       "                  max='67',\n",
       "                  style='width: 25%',\n",
       "              >\n",
       "                  67\n",
       "              </progress>\n",
       "\n",
       "    "
      ],
      "text/plain": [
       "<IPython.core.display.HTML object>"
      ]
     },
     "metadata": {},
     "output_type": "display_data"
    },
    {
     "name": "stdout",
     "output_type": "stream",
     "text": [
      "\n",
      "*** Feature extraction finished ***\n",
      "*** Feature extraction started ***\n"
     ]
    },
    {
     "data": {
      "text/html": [
       "\n",
       "              <p>\n",
       "                  Progress: 100% Complete\n",
       "              <p/>\n",
       "              <progress\n",
       "                  value='67'\n",
       "                  max='67',\n",
       "                  style='width: 25%',\n",
       "              >\n",
       "                  67\n",
       "              </progress>\n",
       "\n",
       "    "
      ],
      "text/plain": [
       "<IPython.core.display.HTML object>"
      ]
     },
     "metadata": {},
     "output_type": "display_data"
    },
    {
     "name": "stdout",
     "output_type": "stream",
     "text": [
      "\n",
      "*** Feature extraction finished ***\n",
      "*** Feature extraction started ***\n"
     ]
    },
    {
     "data": {
      "text/html": [
       "\n",
       "              <p>\n",
       "                  Progress: 100% Complete\n",
       "              <p/>\n",
       "              <progress\n",
       "                  value='67'\n",
       "                  max='67',\n",
       "                  style='width: 25%',\n",
       "              >\n",
       "                  67\n",
       "              </progress>\n",
       "\n",
       "    "
      ],
      "text/plain": [
       "<IPython.core.display.HTML object>"
      ]
     },
     "metadata": {},
     "output_type": "display_data"
    },
    {
     "name": "stdout",
     "output_type": "stream",
     "text": [
      "\n",
      "*** Feature extraction finished ***\n",
      "*** Feature extraction started ***\n"
     ]
    },
    {
     "data": {
      "text/html": [
       "\n",
       "              <p>\n",
       "                  Progress: 100% Complete\n",
       "              <p/>\n",
       "              <progress\n",
       "                  value='67'\n",
       "                  max='67',\n",
       "                  style='width: 25%',\n",
       "              >\n",
       "                  67\n",
       "              </progress>\n",
       "\n",
       "    "
      ],
      "text/plain": [
       "<IPython.core.display.HTML object>"
      ]
     },
     "metadata": {},
     "output_type": "display_data"
    },
    {
     "name": "stdout",
     "output_type": "stream",
     "text": [
      "\n",
      "*** Feature extraction finished ***\n",
      "*** Feature extraction started ***\n"
     ]
    },
    {
     "data": {
      "text/html": [
       "\n",
       "              <p>\n",
       "                  Progress: 100% Complete\n",
       "              <p/>\n",
       "              <progress\n",
       "                  value='67'\n",
       "                  max='67',\n",
       "                  style='width: 25%',\n",
       "              >\n",
       "                  67\n",
       "              </progress>\n",
       "\n",
       "    "
      ],
      "text/plain": [
       "<IPython.core.display.HTML object>"
      ]
     },
     "metadata": {},
     "output_type": "display_data"
    },
    {
     "name": "stdout",
     "output_type": "stream",
     "text": [
      "\n",
      "*** Feature extraction finished ***\n",
      "*** Feature extraction started ***\n"
     ]
    },
    {
     "data": {
      "text/html": [
       "\n",
       "              <p>\n",
       "                  Progress: 100% Complete\n",
       "              <p/>\n",
       "              <progress\n",
       "                  value='67'\n",
       "                  max='67',\n",
       "                  style='width: 25%',\n",
       "              >\n",
       "                  67\n",
       "              </progress>\n",
       "\n",
       "    "
      ],
      "text/plain": [
       "<IPython.core.display.HTML object>"
      ]
     },
     "metadata": {},
     "output_type": "display_data"
    },
    {
     "name": "stdout",
     "output_type": "stream",
     "text": [
      "\n",
      "*** Feature extraction finished ***\n",
      "*** Feature extraction started ***\n"
     ]
    },
    {
     "data": {
      "text/html": [
       "\n",
       "              <p>\n",
       "                  Progress: 100% Complete\n",
       "              <p/>\n",
       "              <progress\n",
       "                  value='67'\n",
       "                  max='67',\n",
       "                  style='width: 25%',\n",
       "              >\n",
       "                  67\n",
       "              </progress>\n",
       "\n",
       "    "
      ],
      "text/plain": [
       "<IPython.core.display.HTML object>"
      ]
     },
     "metadata": {},
     "output_type": "display_data"
    },
    {
     "name": "stdout",
     "output_type": "stream",
     "text": [
      "\n",
      "*** Feature extraction finished ***\n",
      "*** Feature extraction started ***\n"
     ]
    },
    {
     "data": {
      "text/html": [
       "\n",
       "              <p>\n",
       "                  Progress: 100% Complete\n",
       "              <p/>\n",
       "              <progress\n",
       "                  value='67'\n",
       "                  max='67',\n",
       "                  style='width: 25%',\n",
       "              >\n",
       "                  67\n",
       "              </progress>\n",
       "\n",
       "    "
      ],
      "text/plain": [
       "<IPython.core.display.HTML object>"
      ]
     },
     "metadata": {},
     "output_type": "display_data"
    },
    {
     "name": "stdout",
     "output_type": "stream",
     "text": [
      "\n",
      "*** Feature extraction finished ***\n",
      "*** Feature extraction started ***\n"
     ]
    },
    {
     "data": {
      "text/html": [
       "\n",
       "              <p>\n",
       "                  Progress: 100% Complete\n",
       "              <p/>\n",
       "              <progress\n",
       "                  value='67'\n",
       "                  max='67',\n",
       "                  style='width: 25%',\n",
       "              >\n",
       "                  67\n",
       "              </progress>\n",
       "\n",
       "    "
      ],
      "text/plain": [
       "<IPython.core.display.HTML object>"
      ]
     },
     "metadata": {},
     "output_type": "display_data"
    },
    {
     "name": "stdout",
     "output_type": "stream",
     "text": [
      "\n",
      "*** Feature extraction finished ***\n",
      "*** Feature extraction started ***\n"
     ]
    },
    {
     "data": {
      "text/html": [
       "\n",
       "              <p>\n",
       "                  Progress: 100% Complete\n",
       "              <p/>\n",
       "              <progress\n",
       "                  value='67'\n",
       "                  max='67',\n",
       "                  style='width: 25%',\n",
       "              >\n",
       "                  67\n",
       "              </progress>\n",
       "\n",
       "    "
      ],
      "text/plain": [
       "<IPython.core.display.HTML object>"
      ]
     },
     "metadata": {},
     "output_type": "display_data"
    },
    {
     "name": "stdout",
     "output_type": "stream",
     "text": [
      "\n",
      "*** Feature extraction finished ***\n",
      "*** Feature extraction started ***\n"
     ]
    },
    {
     "data": {
      "text/html": [
       "\n",
       "              <p>\n",
       "                  Progress: 100% Complete\n",
       "              <p/>\n",
       "              <progress\n",
       "                  value='67'\n",
       "                  max='67',\n",
       "                  style='width: 25%',\n",
       "              >\n",
       "                  67\n",
       "              </progress>\n",
       "\n",
       "    "
      ],
      "text/plain": [
       "<IPython.core.display.HTML object>"
      ]
     },
     "metadata": {},
     "output_type": "display_data"
    },
    {
     "name": "stdout",
     "output_type": "stream",
     "text": [
      "\n",
      "*** Feature extraction finished ***\n",
      "*** Feature extraction started ***\n"
     ]
    },
    {
     "data": {
      "text/html": [
       "\n",
       "              <p>\n",
       "                  Progress: 100% Complete\n",
       "              <p/>\n",
       "              <progress\n",
       "                  value='67'\n",
       "                  max='67',\n",
       "                  style='width: 25%',\n",
       "              >\n",
       "                  67\n",
       "              </progress>\n",
       "\n",
       "    "
      ],
      "text/plain": [
       "<IPython.core.display.HTML object>"
      ]
     },
     "metadata": {},
     "output_type": "display_data"
    },
    {
     "name": "stdout",
     "output_type": "stream",
     "text": [
      "\n",
      "*** Feature extraction finished ***\n",
      "*** Feature extraction started ***\n"
     ]
    },
    {
     "data": {
      "text/html": [
       "\n",
       "              <p>\n",
       "                  Progress: 100% Complete\n",
       "              <p/>\n",
       "              <progress\n",
       "                  value='67'\n",
       "                  max='67',\n",
       "                  style='width: 25%',\n",
       "              >\n",
       "                  67\n",
       "              </progress>\n",
       "\n",
       "    "
      ],
      "text/plain": [
       "<IPython.core.display.HTML object>"
      ]
     },
     "metadata": {},
     "output_type": "display_data"
    },
    {
     "name": "stdout",
     "output_type": "stream",
     "text": [
      "\n",
      "*** Feature extraction finished ***\n",
      "*** Feature extraction started ***\n"
     ]
    },
    {
     "data": {
      "text/html": [
       "\n",
       "              <p>\n",
       "                  Progress: 100% Complete\n",
       "              <p/>\n",
       "              <progress\n",
       "                  value='67'\n",
       "                  max='67',\n",
       "                  style='width: 25%',\n",
       "              >\n",
       "                  67\n",
       "              </progress>\n",
       "\n",
       "    "
      ],
      "text/plain": [
       "<IPython.core.display.HTML object>"
      ]
     },
     "metadata": {},
     "output_type": "display_data"
    },
    {
     "name": "stdout",
     "output_type": "stream",
     "text": [
      "\n",
      "*** Feature extraction finished ***\n",
      "*** Feature extraction started ***\n"
     ]
    },
    {
     "data": {
      "text/html": [
       "\n",
       "              <p>\n",
       "                  Progress: 100% Complete\n",
       "              <p/>\n",
       "              <progress\n",
       "                  value='67'\n",
       "                  max='67',\n",
       "                  style='width: 25%',\n",
       "              >\n",
       "                  67\n",
       "              </progress>\n",
       "\n",
       "    "
      ],
      "text/plain": [
       "<IPython.core.display.HTML object>"
      ]
     },
     "metadata": {},
     "output_type": "display_data"
    },
    {
     "name": "stdout",
     "output_type": "stream",
     "text": [
      "\n",
      "*** Feature extraction finished ***\n",
      "*** Feature extraction started ***\n"
     ]
    },
    {
     "data": {
      "text/html": [
       "\n",
       "              <p>\n",
       "                  Progress: 100% Complete\n",
       "              <p/>\n",
       "              <progress\n",
       "                  value='67'\n",
       "                  max='67',\n",
       "                  style='width: 25%',\n",
       "              >\n",
       "                  67\n",
       "              </progress>\n",
       "\n",
       "    "
      ],
      "text/plain": [
       "<IPython.core.display.HTML object>"
      ]
     },
     "metadata": {},
     "output_type": "display_data"
    },
    {
     "name": "stdout",
     "output_type": "stream",
     "text": [
      "\n",
      "*** Feature extraction finished ***\n",
      "*** Feature extraction started ***\n"
     ]
    },
    {
     "data": {
      "text/html": [
       "\n",
       "              <p>\n",
       "                  Progress: 100% Complete\n",
       "              <p/>\n",
       "              <progress\n",
       "                  value='67'\n",
       "                  max='67',\n",
       "                  style='width: 25%',\n",
       "              >\n",
       "                  67\n",
       "              </progress>\n",
       "\n",
       "    "
      ],
      "text/plain": [
       "<IPython.core.display.HTML object>"
      ]
     },
     "metadata": {},
     "output_type": "display_data"
    },
    {
     "name": "stdout",
     "output_type": "stream",
     "text": [
      "\n",
      "*** Feature extraction finished ***\n",
      "*** Feature extraction started ***\n"
     ]
    },
    {
     "data": {
      "text/html": [
       "\n",
       "              <p>\n",
       "                  Progress: 100% Complete\n",
       "              <p/>\n",
       "              <progress\n",
       "                  value='67'\n",
       "                  max='67',\n",
       "                  style='width: 25%',\n",
       "              >\n",
       "                  67\n",
       "              </progress>\n",
       "\n",
       "    "
      ],
      "text/plain": [
       "<IPython.core.display.HTML object>"
      ]
     },
     "metadata": {},
     "output_type": "display_data"
    },
    {
     "name": "stdout",
     "output_type": "stream",
     "text": [
      "\n",
      "*** Feature extraction finished ***\n",
      "*** Feature extraction started ***\n"
     ]
    },
    {
     "data": {
      "text/html": [
       "\n",
       "              <p>\n",
       "                  Progress: 100% Complete\n",
       "              <p/>\n",
       "              <progress\n",
       "                  value='67'\n",
       "                  max='67',\n",
       "                  style='width: 25%',\n",
       "              >\n",
       "                  67\n",
       "              </progress>\n",
       "\n",
       "    "
      ],
      "text/plain": [
       "<IPython.core.display.HTML object>"
      ]
     },
     "metadata": {},
     "output_type": "display_data"
    },
    {
     "name": "stdout",
     "output_type": "stream",
     "text": [
      "\n",
      "*** Feature extraction finished ***\n",
      "*** Feature extraction started ***\n"
     ]
    },
    {
     "data": {
      "text/html": [
       "\n",
       "              <p>\n",
       "                  Progress: 100% Complete\n",
       "              <p/>\n",
       "              <progress\n",
       "                  value='67'\n",
       "                  max='67',\n",
       "                  style='width: 25%',\n",
       "              >\n",
       "                  67\n",
       "              </progress>\n",
       "\n",
       "    "
      ],
      "text/plain": [
       "<IPython.core.display.HTML object>"
      ]
     },
     "metadata": {},
     "output_type": "display_data"
    },
    {
     "name": "stdout",
     "output_type": "stream",
     "text": [
      "\n",
      "*** Feature extraction finished ***\n",
      "*** Feature extraction started ***\n"
     ]
    },
    {
     "data": {
      "text/html": [
       "\n",
       "              <p>\n",
       "                  Progress: 100% Complete\n",
       "              <p/>\n",
       "              <progress\n",
       "                  value='67'\n",
       "                  max='67',\n",
       "                  style='width: 25%',\n",
       "              >\n",
       "                  67\n",
       "              </progress>\n",
       "\n",
       "    "
      ],
      "text/plain": [
       "<IPython.core.display.HTML object>"
      ]
     },
     "metadata": {},
     "output_type": "display_data"
    },
    {
     "name": "stdout",
     "output_type": "stream",
     "text": [
      "\n",
      "*** Feature extraction finished ***\n",
      "*** Feature extraction started ***\n"
     ]
    },
    {
     "data": {
      "text/html": [
       "\n",
       "              <p>\n",
       "                  Progress: 100% Complete\n",
       "              <p/>\n",
       "              <progress\n",
       "                  value='67'\n",
       "                  max='67',\n",
       "                  style='width: 25%',\n",
       "              >\n",
       "                  67\n",
       "              </progress>\n",
       "\n",
       "    "
      ],
      "text/plain": [
       "<IPython.core.display.HTML object>"
      ]
     },
     "metadata": {},
     "output_type": "display_data"
    },
    {
     "name": "stdout",
     "output_type": "stream",
     "text": [
      "\n",
      "*** Feature extraction finished ***\n",
      "*** Feature extraction started ***\n"
     ]
    },
    {
     "data": {
      "text/html": [
       "\n",
       "              <p>\n",
       "                  Progress: 100% Complete\n",
       "              <p/>\n",
       "              <progress\n",
       "                  value='67'\n",
       "                  max='67',\n",
       "                  style='width: 25%',\n",
       "              >\n",
       "                  67\n",
       "              </progress>\n",
       "\n",
       "    "
      ],
      "text/plain": [
       "<IPython.core.display.HTML object>"
      ]
     },
     "metadata": {},
     "output_type": "display_data"
    },
    {
     "name": "stdout",
     "output_type": "stream",
     "text": [
      "\n",
      "*** Feature extraction finished ***\n",
      "*** Feature extraction started ***\n"
     ]
    },
    {
     "data": {
      "text/html": [
       "\n",
       "              <p>\n",
       "                  Progress: 100% Complete\n",
       "              <p/>\n",
       "              <progress\n",
       "                  value='67'\n",
       "                  max='67',\n",
       "                  style='width: 25%',\n",
       "              >\n",
       "                  67\n",
       "              </progress>\n",
       "\n",
       "    "
      ],
      "text/plain": [
       "<IPython.core.display.HTML object>"
      ]
     },
     "metadata": {},
     "output_type": "display_data"
    },
    {
     "name": "stdout",
     "output_type": "stream",
     "text": [
      "\n",
      "*** Feature extraction finished ***\n",
      "*** Feature extraction started ***\n"
     ]
    },
    {
     "data": {
      "text/html": [
       "\n",
       "              <p>\n",
       "                  Progress: 100% Complete\n",
       "              <p/>\n",
       "              <progress\n",
       "                  value='67'\n",
       "                  max='67',\n",
       "                  style='width: 25%',\n",
       "              >\n",
       "                  67\n",
       "              </progress>\n",
       "\n",
       "    "
      ],
      "text/plain": [
       "<IPython.core.display.HTML object>"
      ]
     },
     "metadata": {},
     "output_type": "display_data"
    },
    {
     "name": "stdout",
     "output_type": "stream",
     "text": [
      "\n",
      "*** Feature extraction finished ***\n",
      "*** Feature extraction started ***\n"
     ]
    },
    {
     "data": {
      "text/html": [
       "\n",
       "              <p>\n",
       "                  Progress: 100% Complete\n",
       "              <p/>\n",
       "              <progress\n",
       "                  value='67'\n",
       "                  max='67',\n",
       "                  style='width: 25%',\n",
       "              >\n",
       "                  67\n",
       "              </progress>\n",
       "\n",
       "    "
      ],
      "text/plain": [
       "<IPython.core.display.HTML object>"
      ]
     },
     "metadata": {},
     "output_type": "display_data"
    },
    {
     "name": "stdout",
     "output_type": "stream",
     "text": [
      "\n",
      "*** Feature extraction finished ***\n",
      "*** Feature extraction started ***\n"
     ]
    },
    {
     "data": {
      "text/html": [
       "\n",
       "              <p>\n",
       "                  Progress: 100% Complete\n",
       "              <p/>\n",
       "              <progress\n",
       "                  value='67'\n",
       "                  max='67',\n",
       "                  style='width: 25%',\n",
       "              >\n",
       "                  67\n",
       "              </progress>\n",
       "\n",
       "    "
      ],
      "text/plain": [
       "<IPython.core.display.HTML object>"
      ]
     },
     "metadata": {},
     "output_type": "display_data"
    },
    {
     "name": "stdout",
     "output_type": "stream",
     "text": [
      "\n",
      "*** Feature extraction finished ***\n",
      "*** Feature extraction started ***\n"
     ]
    },
    {
     "data": {
      "text/html": [
       "\n",
       "              <p>\n",
       "                  Progress: 100% Complete\n",
       "              <p/>\n",
       "              <progress\n",
       "                  value='67'\n",
       "                  max='67',\n",
       "                  style='width: 25%',\n",
       "              >\n",
       "                  67\n",
       "              </progress>\n",
       "\n",
       "    "
      ],
      "text/plain": [
       "<IPython.core.display.HTML object>"
      ]
     },
     "metadata": {},
     "output_type": "display_data"
    },
    {
     "name": "stdout",
     "output_type": "stream",
     "text": [
      "\n",
      "*** Feature extraction finished ***\n",
      "*** Feature extraction started ***\n"
     ]
    },
    {
     "data": {
      "text/html": [
       "\n",
       "              <p>\n",
       "                  Progress: 100% Complete\n",
       "              <p/>\n",
       "              <progress\n",
       "                  value='67'\n",
       "                  max='67',\n",
       "                  style='width: 25%',\n",
       "              >\n",
       "                  67\n",
       "              </progress>\n",
       "\n",
       "    "
      ],
      "text/plain": [
       "<IPython.core.display.HTML object>"
      ]
     },
     "metadata": {},
     "output_type": "display_data"
    },
    {
     "name": "stdout",
     "output_type": "stream",
     "text": [
      "\n",
      "*** Feature extraction finished ***\n",
      "*** Feature extraction started ***\n"
     ]
    },
    {
     "data": {
      "text/html": [
       "\n",
       "              <p>\n",
       "                  Progress: 100% Complete\n",
       "              <p/>\n",
       "              <progress\n",
       "                  value='67'\n",
       "                  max='67',\n",
       "                  style='width: 25%',\n",
       "              >\n",
       "                  67\n",
       "              </progress>\n",
       "\n",
       "    "
      ],
      "text/plain": [
       "<IPython.core.display.HTML object>"
      ]
     },
     "metadata": {},
     "output_type": "display_data"
    },
    {
     "name": "stdout",
     "output_type": "stream",
     "text": [
      "\n",
      "*** Feature extraction finished ***\n",
      "*** Feature extraction started ***\n"
     ]
    },
    {
     "data": {
      "text/html": [
       "\n",
       "              <p>\n",
       "                  Progress: 100% Complete\n",
       "              <p/>\n",
       "              <progress\n",
       "                  value='67'\n",
       "                  max='67',\n",
       "                  style='width: 25%',\n",
       "              >\n",
       "                  67\n",
       "              </progress>\n",
       "\n",
       "    "
      ],
      "text/plain": [
       "<IPython.core.display.HTML object>"
      ]
     },
     "metadata": {},
     "output_type": "display_data"
    },
    {
     "name": "stdout",
     "output_type": "stream",
     "text": [
      "\n",
      "*** Feature extraction finished ***\n",
      "*** Feature extraction started ***\n"
     ]
    },
    {
     "data": {
      "text/html": [
       "\n",
       "              <p>\n",
       "                  Progress: 100% Complete\n",
       "              <p/>\n",
       "              <progress\n",
       "                  value='67'\n",
       "                  max='67',\n",
       "                  style='width: 25%',\n",
       "              >\n",
       "                  67\n",
       "              </progress>\n",
       "\n",
       "    "
      ],
      "text/plain": [
       "<IPython.core.display.HTML object>"
      ]
     },
     "metadata": {},
     "output_type": "display_data"
    },
    {
     "name": "stdout",
     "output_type": "stream",
     "text": [
      "\n",
      "*** Feature extraction finished ***\n",
      "*** Feature extraction started ***\n"
     ]
    },
    {
     "data": {
      "text/html": [
       "\n",
       "              <p>\n",
       "                  Progress: 100% Complete\n",
       "              <p/>\n",
       "              <progress\n",
       "                  value='67'\n",
       "                  max='67',\n",
       "                  style='width: 25%',\n",
       "              >\n",
       "                  67\n",
       "              </progress>\n",
       "\n",
       "    "
      ],
      "text/plain": [
       "<IPython.core.display.HTML object>"
      ]
     },
     "metadata": {},
     "output_type": "display_data"
    },
    {
     "name": "stdout",
     "output_type": "stream",
     "text": [
      "\n",
      "*** Feature extraction finished ***\n",
      "*** Feature extraction started ***\n"
     ]
    },
    {
     "data": {
      "text/html": [
       "\n",
       "              <p>\n",
       "                  Progress: 100% Complete\n",
       "              <p/>\n",
       "              <progress\n",
       "                  value='67'\n",
       "                  max='67',\n",
       "                  style='width: 25%',\n",
       "              >\n",
       "                  67\n",
       "              </progress>\n",
       "\n",
       "    "
      ],
      "text/plain": [
       "<IPython.core.display.HTML object>"
      ]
     },
     "metadata": {},
     "output_type": "display_data"
    },
    {
     "name": "stdout",
     "output_type": "stream",
     "text": [
      "\n",
      "*** Feature extraction finished ***\n",
      "*** Feature extraction started ***\n"
     ]
    },
    {
     "data": {
      "text/html": [
       "\n",
       "              <p>\n",
       "                  Progress: 100% Complete\n",
       "              <p/>\n",
       "              <progress\n",
       "                  value='67'\n",
       "                  max='67',\n",
       "                  style='width: 25%',\n",
       "              >\n",
       "                  67\n",
       "              </progress>\n",
       "\n",
       "    "
      ],
      "text/plain": [
       "<IPython.core.display.HTML object>"
      ]
     },
     "metadata": {},
     "output_type": "display_data"
    },
    {
     "name": "stdout",
     "output_type": "stream",
     "text": [
      "\n",
      "*** Feature extraction finished ***\n",
      "*** Feature extraction started ***\n"
     ]
    },
    {
     "data": {
      "text/html": [
       "\n",
       "              <p>\n",
       "                  Progress: 100% Complete\n",
       "              <p/>\n",
       "              <progress\n",
       "                  value='67'\n",
       "                  max='67',\n",
       "                  style='width: 25%',\n",
       "              >\n",
       "                  67\n",
       "              </progress>\n",
       "\n",
       "    "
      ],
      "text/plain": [
       "<IPython.core.display.HTML object>"
      ]
     },
     "metadata": {},
     "output_type": "display_data"
    },
    {
     "name": "stdout",
     "output_type": "stream",
     "text": [
      "\n",
      "*** Feature extraction finished ***\n",
      "*** Feature extraction started ***\n"
     ]
    },
    {
     "data": {
      "text/html": [
       "\n",
       "              <p>\n",
       "                  Progress: 100% Complete\n",
       "              <p/>\n",
       "              <progress\n",
       "                  value='67'\n",
       "                  max='67',\n",
       "                  style='width: 25%',\n",
       "              >\n",
       "                  67\n",
       "              </progress>\n",
       "\n",
       "    "
      ],
      "text/plain": [
       "<IPython.core.display.HTML object>"
      ]
     },
     "metadata": {},
     "output_type": "display_data"
    },
    {
     "name": "stdout",
     "output_type": "stream",
     "text": [
      "\n",
      "*** Feature extraction finished ***\n",
      "*** Feature extraction started ***\n"
     ]
    },
    {
     "data": {
      "text/html": [
       "\n",
       "              <p>\n",
       "                  Progress: 100% Complete\n",
       "              <p/>\n",
       "              <progress\n",
       "                  value='67'\n",
       "                  max='67',\n",
       "                  style='width: 25%',\n",
       "              >\n",
       "                  67\n",
       "              </progress>\n",
       "\n",
       "    "
      ],
      "text/plain": [
       "<IPython.core.display.HTML object>"
      ]
     },
     "metadata": {},
     "output_type": "display_data"
    },
    {
     "name": "stdout",
     "output_type": "stream",
     "text": [
      "\n",
      "*** Feature extraction finished ***\n",
      "*** Feature extraction started ***\n"
     ]
    },
    {
     "data": {
      "text/html": [
       "\n",
       "              <p>\n",
       "                  Progress: 100% Complete\n",
       "              <p/>\n",
       "              <progress\n",
       "                  value='67'\n",
       "                  max='67',\n",
       "                  style='width: 25%',\n",
       "              >\n",
       "                  67\n",
       "              </progress>\n",
       "\n",
       "    "
      ],
      "text/plain": [
       "<IPython.core.display.HTML object>"
      ]
     },
     "metadata": {},
     "output_type": "display_data"
    },
    {
     "name": "stdout",
     "output_type": "stream",
     "text": [
      "\n",
      "*** Feature extraction finished ***\n",
      "*** Feature extraction started ***\n"
     ]
    },
    {
     "data": {
      "text/html": [
       "\n",
       "              <p>\n",
       "                  Progress: 100% Complete\n",
       "              <p/>\n",
       "              <progress\n",
       "                  value='67'\n",
       "                  max='67',\n",
       "                  style='width: 25%',\n",
       "              >\n",
       "                  67\n",
       "              </progress>\n",
       "\n",
       "    "
      ],
      "text/plain": [
       "<IPython.core.display.HTML object>"
      ]
     },
     "metadata": {},
     "output_type": "display_data"
    },
    {
     "name": "stdout",
     "output_type": "stream",
     "text": [
      "\n",
      "*** Feature extraction finished ***\n",
      "*** Feature extraction started ***\n"
     ]
    },
    {
     "data": {
      "text/html": [
       "\n",
       "              <p>\n",
       "                  Progress: 100% Complete\n",
       "              <p/>\n",
       "              <progress\n",
       "                  value='67'\n",
       "                  max='67',\n",
       "                  style='width: 25%',\n",
       "              >\n",
       "                  67\n",
       "              </progress>\n",
       "\n",
       "    "
      ],
      "text/plain": [
       "<IPython.core.display.HTML object>"
      ]
     },
     "metadata": {},
     "output_type": "display_data"
    },
    {
     "name": "stdout",
     "output_type": "stream",
     "text": [
      "\n",
      "*** Feature extraction finished ***\n",
      "*** Feature extraction started ***\n"
     ]
    },
    {
     "data": {
      "text/html": [
       "\n",
       "              <p>\n",
       "                  Progress: 100% Complete\n",
       "              <p/>\n",
       "              <progress\n",
       "                  value='67'\n",
       "                  max='67',\n",
       "                  style='width: 25%',\n",
       "              >\n",
       "                  67\n",
       "              </progress>\n",
       "\n",
       "    "
      ],
      "text/plain": [
       "<IPython.core.display.HTML object>"
      ]
     },
     "metadata": {},
     "output_type": "display_data"
    },
    {
     "name": "stdout",
     "output_type": "stream",
     "text": [
      "\n",
      "*** Feature extraction finished ***\n",
      "*** Feature extraction started ***\n"
     ]
    },
    {
     "data": {
      "text/html": [
       "\n",
       "              <p>\n",
       "                  Progress: 100% Complete\n",
       "              <p/>\n",
       "              <progress\n",
       "                  value='67'\n",
       "                  max='67',\n",
       "                  style='width: 25%',\n",
       "              >\n",
       "                  67\n",
       "              </progress>\n",
       "\n",
       "    "
      ],
      "text/plain": [
       "<IPython.core.display.HTML object>"
      ]
     },
     "metadata": {},
     "output_type": "display_data"
    },
    {
     "name": "stdout",
     "output_type": "stream",
     "text": [
      "\n",
      "*** Feature extraction finished ***\n",
      "*** Feature extraction started ***\n"
     ]
    },
    {
     "data": {
      "text/html": [
       "\n",
       "              <p>\n",
       "                  Progress: 100% Complete\n",
       "              <p/>\n",
       "              <progress\n",
       "                  value='67'\n",
       "                  max='67',\n",
       "                  style='width: 25%',\n",
       "              >\n",
       "                  67\n",
       "              </progress>\n",
       "\n",
       "    "
      ],
      "text/plain": [
       "<IPython.core.display.HTML object>"
      ]
     },
     "metadata": {},
     "output_type": "display_data"
    },
    {
     "name": "stdout",
     "output_type": "stream",
     "text": [
      "\n",
      "*** Feature extraction finished ***\n",
      "*** Feature extraction started ***\n"
     ]
    },
    {
     "data": {
      "text/html": [
       "\n",
       "              <p>\n",
       "                  Progress: 100% Complete\n",
       "              <p/>\n",
       "              <progress\n",
       "                  value='67'\n",
       "                  max='67',\n",
       "                  style='width: 25%',\n",
       "              >\n",
       "                  67\n",
       "              </progress>\n",
       "\n",
       "    "
      ],
      "text/plain": [
       "<IPython.core.display.HTML object>"
      ]
     },
     "metadata": {},
     "output_type": "display_data"
    },
    {
     "name": "stdout",
     "output_type": "stream",
     "text": [
      "\n",
      "*** Feature extraction finished ***\n",
      "*** Feature extraction started ***\n"
     ]
    },
    {
     "data": {
      "text/html": [
       "\n",
       "              <p>\n",
       "                  Progress: 100% Complete\n",
       "              <p/>\n",
       "              <progress\n",
       "                  value='67'\n",
       "                  max='67',\n",
       "                  style='width: 25%',\n",
       "              >\n",
       "                  67\n",
       "              </progress>\n",
       "\n",
       "    "
      ],
      "text/plain": [
       "<IPython.core.display.HTML object>"
      ]
     },
     "metadata": {},
     "output_type": "display_data"
    },
    {
     "name": "stdout",
     "output_type": "stream",
     "text": [
      "\n",
      "*** Feature extraction finished ***\n",
      "*** Feature extraction started ***\n"
     ]
    },
    {
     "data": {
      "text/html": [
       "\n",
       "              <p>\n",
       "                  Progress: 100% Complete\n",
       "              <p/>\n",
       "              <progress\n",
       "                  value='67'\n",
       "                  max='67',\n",
       "                  style='width: 25%',\n",
       "              >\n",
       "                  67\n",
       "              </progress>\n",
       "\n",
       "    "
      ],
      "text/plain": [
       "<IPython.core.display.HTML object>"
      ]
     },
     "metadata": {},
     "output_type": "display_data"
    },
    {
     "name": "stdout",
     "output_type": "stream",
     "text": [
      "\n",
      "*** Feature extraction finished ***\n",
      "*** Feature extraction started ***\n"
     ]
    },
    {
     "data": {
      "text/html": [
       "\n",
       "              <p>\n",
       "                  Progress: 100% Complete\n",
       "              <p/>\n",
       "              <progress\n",
       "                  value='67'\n",
       "                  max='67',\n",
       "                  style='width: 25%',\n",
       "              >\n",
       "                  67\n",
       "              </progress>\n",
       "\n",
       "    "
      ],
      "text/plain": [
       "<IPython.core.display.HTML object>"
      ]
     },
     "metadata": {},
     "output_type": "display_data"
    },
    {
     "name": "stdout",
     "output_type": "stream",
     "text": [
      "\n",
      "*** Feature extraction finished ***\n",
      "*** Feature extraction started ***\n"
     ]
    },
    {
     "data": {
      "text/html": [
       "\n",
       "              <p>\n",
       "                  Progress: 100% Complete\n",
       "              <p/>\n",
       "              <progress\n",
       "                  value='67'\n",
       "                  max='67',\n",
       "                  style='width: 25%',\n",
       "              >\n",
       "                  67\n",
       "              </progress>\n",
       "\n",
       "    "
      ],
      "text/plain": [
       "<IPython.core.display.HTML object>"
      ]
     },
     "metadata": {},
     "output_type": "display_data"
    },
    {
     "name": "stdout",
     "output_type": "stream",
     "text": [
      "\n",
      "*** Feature extraction finished ***\n",
      "*** Feature extraction started ***\n"
     ]
    },
    {
     "data": {
      "text/html": [
       "\n",
       "              <p>\n",
       "                  Progress: 100% Complete\n",
       "              <p/>\n",
       "              <progress\n",
       "                  value='67'\n",
       "                  max='67',\n",
       "                  style='width: 25%',\n",
       "              >\n",
       "                  67\n",
       "              </progress>\n",
       "\n",
       "    "
      ],
      "text/plain": [
       "<IPython.core.display.HTML object>"
      ]
     },
     "metadata": {},
     "output_type": "display_data"
    },
    {
     "name": "stdout",
     "output_type": "stream",
     "text": [
      "\n",
      "*** Feature extraction finished ***\n",
      "*** Feature extraction started ***\n"
     ]
    },
    {
     "data": {
      "text/html": [
       "\n",
       "              <p>\n",
       "                  Progress: 100% Complete\n",
       "              <p/>\n",
       "              <progress\n",
       "                  value='67'\n",
       "                  max='67',\n",
       "                  style='width: 25%',\n",
       "              >\n",
       "                  67\n",
       "              </progress>\n",
       "\n",
       "    "
      ],
      "text/plain": [
       "<IPython.core.display.HTML object>"
      ]
     },
     "metadata": {},
     "output_type": "display_data"
    },
    {
     "name": "stdout",
     "output_type": "stream",
     "text": [
      "\n",
      "*** Feature extraction finished ***\n",
      "*** Feature extraction started ***\n"
     ]
    },
    {
     "data": {
      "text/html": [
       "\n",
       "              <p>\n",
       "                  Progress: 100% Complete\n",
       "              <p/>\n",
       "              <progress\n",
       "                  value='67'\n",
       "                  max='67',\n",
       "                  style='width: 25%',\n",
       "              >\n",
       "                  67\n",
       "              </progress>\n",
       "\n",
       "    "
      ],
      "text/plain": [
       "<IPython.core.display.HTML object>"
      ]
     },
     "metadata": {},
     "output_type": "display_data"
    },
    {
     "name": "stdout",
     "output_type": "stream",
     "text": [
      "\n",
      "*** Feature extraction finished ***\n",
      "*** Feature extraction started ***\n"
     ]
    },
    {
     "data": {
      "text/html": [
       "\n",
       "              <p>\n",
       "                  Progress: 100% Complete\n",
       "              <p/>\n",
       "              <progress\n",
       "                  value='67'\n",
       "                  max='67',\n",
       "                  style='width: 25%',\n",
       "              >\n",
       "                  67\n",
       "              </progress>\n",
       "\n",
       "    "
      ],
      "text/plain": [
       "<IPython.core.display.HTML object>"
      ]
     },
     "metadata": {},
     "output_type": "display_data"
    },
    {
     "name": "stdout",
     "output_type": "stream",
     "text": [
      "\n",
      "*** Feature extraction finished ***\n",
      "*** Feature extraction started ***\n"
     ]
    },
    {
     "data": {
      "text/html": [
       "\n",
       "              <p>\n",
       "                  Progress: 100% Complete\n",
       "              <p/>\n",
       "              <progress\n",
       "                  value='67'\n",
       "                  max='67',\n",
       "                  style='width: 25%',\n",
       "              >\n",
       "                  67\n",
       "              </progress>\n",
       "\n",
       "    "
      ],
      "text/plain": [
       "<IPython.core.display.HTML object>"
      ]
     },
     "metadata": {},
     "output_type": "display_data"
    },
    {
     "name": "stdout",
     "output_type": "stream",
     "text": [
      "\n",
      "*** Feature extraction finished ***\n",
      "*** Feature extraction started ***\n"
     ]
    },
    {
     "data": {
      "text/html": [
       "\n",
       "              <p>\n",
       "                  Progress: 100% Complete\n",
       "              <p/>\n",
       "              <progress\n",
       "                  value='67'\n",
       "                  max='67',\n",
       "                  style='width: 25%',\n",
       "              >\n",
       "                  67\n",
       "              </progress>\n",
       "\n",
       "    "
      ],
      "text/plain": [
       "<IPython.core.display.HTML object>"
      ]
     },
     "metadata": {},
     "output_type": "display_data"
    },
    {
     "name": "stdout",
     "output_type": "stream",
     "text": [
      "\n",
      "*** Feature extraction finished ***\n",
      "*** Feature extraction started ***\n"
     ]
    },
    {
     "data": {
      "text/html": [
       "\n",
       "              <p>\n",
       "                  Progress: 100% Complete\n",
       "              <p/>\n",
       "              <progress\n",
       "                  value='67'\n",
       "                  max='67',\n",
       "                  style='width: 25%',\n",
       "              >\n",
       "                  67\n",
       "              </progress>\n",
       "\n",
       "    "
      ],
      "text/plain": [
       "<IPython.core.display.HTML object>"
      ]
     },
     "metadata": {},
     "output_type": "display_data"
    },
    {
     "name": "stdout",
     "output_type": "stream",
     "text": [
      "\n",
      "*** Feature extraction finished ***\n",
      "*** Feature extraction started ***\n"
     ]
    },
    {
     "data": {
      "text/html": [
       "\n",
       "              <p>\n",
       "                  Progress: 100% Complete\n",
       "              <p/>\n",
       "              <progress\n",
       "                  value='67'\n",
       "                  max='67',\n",
       "                  style='width: 25%',\n",
       "              >\n",
       "                  67\n",
       "              </progress>\n",
       "\n",
       "    "
      ],
      "text/plain": [
       "<IPython.core.display.HTML object>"
      ]
     },
     "metadata": {},
     "output_type": "display_data"
    },
    {
     "name": "stdout",
     "output_type": "stream",
     "text": [
      "\n",
      "*** Feature extraction finished ***\n",
      "*** Feature extraction started ***\n"
     ]
    },
    {
     "data": {
      "text/html": [
       "\n",
       "              <p>\n",
       "                  Progress: 100% Complete\n",
       "              <p/>\n",
       "              <progress\n",
       "                  value='67'\n",
       "                  max='67',\n",
       "                  style='width: 25%',\n",
       "              >\n",
       "                  67\n",
       "              </progress>\n",
       "\n",
       "    "
      ],
      "text/plain": [
       "<IPython.core.display.HTML object>"
      ]
     },
     "metadata": {},
     "output_type": "display_data"
    },
    {
     "name": "stdout",
     "output_type": "stream",
     "text": [
      "\n",
      "*** Feature extraction finished ***\n",
      "*** Feature extraction started ***\n"
     ]
    },
    {
     "data": {
      "text/html": [
       "\n",
       "              <p>\n",
       "                  Progress: 100% Complete\n",
       "              <p/>\n",
       "              <progress\n",
       "                  value='67'\n",
       "                  max='67',\n",
       "                  style='width: 25%',\n",
       "              >\n",
       "                  67\n",
       "              </progress>\n",
       "\n",
       "    "
      ],
      "text/plain": [
       "<IPython.core.display.HTML object>"
      ]
     },
     "metadata": {},
     "output_type": "display_data"
    },
    {
     "name": "stdout",
     "output_type": "stream",
     "text": [
      "\n",
      "*** Feature extraction finished ***\n",
      "*** Feature extraction started ***\n"
     ]
    },
    {
     "data": {
      "text/html": [
       "\n",
       "              <p>\n",
       "                  Progress: 100% Complete\n",
       "              <p/>\n",
       "              <progress\n",
       "                  value='67'\n",
       "                  max='67',\n",
       "                  style='width: 25%',\n",
       "              >\n",
       "                  67\n",
       "              </progress>\n",
       "\n",
       "    "
      ],
      "text/plain": [
       "<IPython.core.display.HTML object>"
      ]
     },
     "metadata": {},
     "output_type": "display_data"
    },
    {
     "name": "stdout",
     "output_type": "stream",
     "text": [
      "\n",
      "*** Feature extraction finished ***\n",
      "*** Feature extraction started ***\n"
     ]
    },
    {
     "data": {
      "text/html": [
       "\n",
       "              <p>\n",
       "                  Progress: 100% Complete\n",
       "              <p/>\n",
       "              <progress\n",
       "                  value='67'\n",
       "                  max='67',\n",
       "                  style='width: 25%',\n",
       "              >\n",
       "                  67\n",
       "              </progress>\n",
       "\n",
       "    "
      ],
      "text/plain": [
       "<IPython.core.display.HTML object>"
      ]
     },
     "metadata": {},
     "output_type": "display_data"
    },
    {
     "name": "stdout",
     "output_type": "stream",
     "text": [
      "\n",
      "*** Feature extraction finished ***\n",
      "*** Feature extraction started ***\n"
     ]
    },
    {
     "data": {
      "text/html": [
       "\n",
       "              <p>\n",
       "                  Progress: 100% Complete\n",
       "              <p/>\n",
       "              <progress\n",
       "                  value='67'\n",
       "                  max='67',\n",
       "                  style='width: 25%',\n",
       "              >\n",
       "                  67\n",
       "              </progress>\n",
       "\n",
       "    "
      ],
      "text/plain": [
       "<IPython.core.display.HTML object>"
      ]
     },
     "metadata": {},
     "output_type": "display_data"
    },
    {
     "name": "stdout",
     "output_type": "stream",
     "text": [
      "\n",
      "*** Feature extraction finished ***\n",
      "*** Feature extraction started ***\n"
     ]
    },
    {
     "data": {
      "text/html": [
       "\n",
       "              <p>\n",
       "                  Progress: 100% Complete\n",
       "              <p/>\n",
       "              <progress\n",
       "                  value='67'\n",
       "                  max='67',\n",
       "                  style='width: 25%',\n",
       "              >\n",
       "                  67\n",
       "              </progress>\n",
       "\n",
       "    "
      ],
      "text/plain": [
       "<IPython.core.display.HTML object>"
      ]
     },
     "metadata": {},
     "output_type": "display_data"
    },
    {
     "name": "stdout",
     "output_type": "stream",
     "text": [
      "\n",
      "*** Feature extraction finished ***\n",
      "*** Feature extraction started ***\n"
     ]
    },
    {
     "data": {
      "text/html": [
       "\n",
       "              <p>\n",
       "                  Progress: 100% Complete\n",
       "              <p/>\n",
       "              <progress\n",
       "                  value='67'\n",
       "                  max='67',\n",
       "                  style='width: 25%',\n",
       "              >\n",
       "                  67\n",
       "              </progress>\n",
       "\n",
       "    "
      ],
      "text/plain": [
       "<IPython.core.display.HTML object>"
      ]
     },
     "metadata": {},
     "output_type": "display_data"
    },
    {
     "name": "stdout",
     "output_type": "stream",
     "text": [
      "\n",
      "*** Feature extraction finished ***\n",
      "*** Feature extraction started ***\n"
     ]
    },
    {
     "data": {
      "text/html": [
       "\n",
       "              <p>\n",
       "                  Progress: 100% Complete\n",
       "              <p/>\n",
       "              <progress\n",
       "                  value='67'\n",
       "                  max='67',\n",
       "                  style='width: 25%',\n",
       "              >\n",
       "                  67\n",
       "              </progress>\n",
       "\n",
       "    "
      ],
      "text/plain": [
       "<IPython.core.display.HTML object>"
      ]
     },
     "metadata": {},
     "output_type": "display_data"
    },
    {
     "name": "stdout",
     "output_type": "stream",
     "text": [
      "\n",
      "*** Feature extraction finished ***\n",
      "*** Feature extraction started ***\n"
     ]
    },
    {
     "data": {
      "text/html": [
       "\n",
       "              <p>\n",
       "                  Progress: 100% Complete\n",
       "              <p/>\n",
       "              <progress\n",
       "                  value='67'\n",
       "                  max='67',\n",
       "                  style='width: 25%',\n",
       "              >\n",
       "                  67\n",
       "              </progress>\n",
       "\n",
       "    "
      ],
      "text/plain": [
       "<IPython.core.display.HTML object>"
      ]
     },
     "metadata": {},
     "output_type": "display_data"
    },
    {
     "name": "stdout",
     "output_type": "stream",
     "text": [
      "\n",
      "*** Feature extraction finished ***\n",
      "*** Feature extraction started ***\n"
     ]
    },
    {
     "data": {
      "text/html": [
       "\n",
       "              <p>\n",
       "                  Progress: 100% Complete\n",
       "              <p/>\n",
       "              <progress\n",
       "                  value='67'\n",
       "                  max='67',\n",
       "                  style='width: 25%',\n",
       "              >\n",
       "                  67\n",
       "              </progress>\n",
       "\n",
       "    "
      ],
      "text/plain": [
       "<IPython.core.display.HTML object>"
      ]
     },
     "metadata": {},
     "output_type": "display_data"
    },
    {
     "name": "stdout",
     "output_type": "stream",
     "text": [
      "\n",
      "*** Feature extraction finished ***\n",
      "*** Feature extraction started ***\n"
     ]
    },
    {
     "data": {
      "text/html": [
       "\n",
       "              <p>\n",
       "                  Progress: 100% Complete\n",
       "              <p/>\n",
       "              <progress\n",
       "                  value='67'\n",
       "                  max='67',\n",
       "                  style='width: 25%',\n",
       "              >\n",
       "                  67\n",
       "              </progress>\n",
       "\n",
       "    "
      ],
      "text/plain": [
       "<IPython.core.display.HTML object>"
      ]
     },
     "metadata": {},
     "output_type": "display_data"
    },
    {
     "name": "stdout",
     "output_type": "stream",
     "text": [
      "\n",
      "*** Feature extraction finished ***\n",
      "*** Feature extraction started ***\n"
     ]
    },
    {
     "data": {
      "text/html": [
       "\n",
       "              <p>\n",
       "                  Progress: 100% Complete\n",
       "              <p/>\n",
       "              <progress\n",
       "                  value='67'\n",
       "                  max='67',\n",
       "                  style='width: 25%',\n",
       "              >\n",
       "                  67\n",
       "              </progress>\n",
       "\n",
       "    "
      ],
      "text/plain": [
       "<IPython.core.display.HTML object>"
      ]
     },
     "metadata": {},
     "output_type": "display_data"
    },
    {
     "name": "stdout",
     "output_type": "stream",
     "text": [
      "\n",
      "*** Feature extraction finished ***\n",
      "*** Feature extraction started ***\n"
     ]
    },
    {
     "data": {
      "text/html": [
       "\n",
       "              <p>\n",
       "                  Progress: 100% Complete\n",
       "              <p/>\n",
       "              <progress\n",
       "                  value='67'\n",
       "                  max='67',\n",
       "                  style='width: 25%',\n",
       "              >\n",
       "                  67\n",
       "              </progress>\n",
       "\n",
       "    "
      ],
      "text/plain": [
       "<IPython.core.display.HTML object>"
      ]
     },
     "metadata": {},
     "output_type": "display_data"
    },
    {
     "name": "stdout",
     "output_type": "stream",
     "text": [
      "\n",
      "*** Feature extraction finished ***\n",
      "*** Feature extraction started ***\n"
     ]
    },
    {
     "data": {
      "text/html": [
       "\n",
       "              <p>\n",
       "                  Progress: 100% Complete\n",
       "              <p/>\n",
       "              <progress\n",
       "                  value='67'\n",
       "                  max='67',\n",
       "                  style='width: 25%',\n",
       "              >\n",
       "                  67\n",
       "              </progress>\n",
       "\n",
       "    "
      ],
      "text/plain": [
       "<IPython.core.display.HTML object>"
      ]
     },
     "metadata": {},
     "output_type": "display_data"
    },
    {
     "name": "stdout",
     "output_type": "stream",
     "text": [
      "\n",
      "*** Feature extraction finished ***\n",
      "*** Feature extraction started ***\n"
     ]
    },
    {
     "data": {
      "text/html": [
       "\n",
       "              <p>\n",
       "                  Progress: 100% Complete\n",
       "              <p/>\n",
       "              <progress\n",
       "                  value='67'\n",
       "                  max='67',\n",
       "                  style='width: 25%',\n",
       "              >\n",
       "                  67\n",
       "              </progress>\n",
       "\n",
       "    "
      ],
      "text/plain": [
       "<IPython.core.display.HTML object>"
      ]
     },
     "metadata": {},
     "output_type": "display_data"
    },
    {
     "name": "stdout",
     "output_type": "stream",
     "text": [
      "\n",
      "*** Feature extraction finished ***\n",
      "*** Feature extraction started ***\n"
     ]
    },
    {
     "data": {
      "text/html": [
       "\n",
       "              <p>\n",
       "                  Progress: 100% Complete\n",
       "              <p/>\n",
       "              <progress\n",
       "                  value='67'\n",
       "                  max='67',\n",
       "                  style='width: 25%',\n",
       "              >\n",
       "                  67\n",
       "              </progress>\n",
       "\n",
       "    "
      ],
      "text/plain": [
       "<IPython.core.display.HTML object>"
      ]
     },
     "metadata": {},
     "output_type": "display_data"
    },
    {
     "name": "stdout",
     "output_type": "stream",
     "text": [
      "\n",
      "*** Feature extraction finished ***\n",
      "*** Feature extraction started ***\n"
     ]
    },
    {
     "data": {
      "text/html": [
       "\n",
       "              <p>\n",
       "                  Progress: 100% Complete\n",
       "              <p/>\n",
       "              <progress\n",
       "                  value='67'\n",
       "                  max='67',\n",
       "                  style='width: 25%',\n",
       "              >\n",
       "                  67\n",
       "              </progress>\n",
       "\n",
       "    "
      ],
      "text/plain": [
       "<IPython.core.display.HTML object>"
      ]
     },
     "metadata": {},
     "output_type": "display_data"
    },
    {
     "name": "stdout",
     "output_type": "stream",
     "text": [
      "\n",
      "*** Feature extraction finished ***\n",
      "*** Feature extraction started ***\n"
     ]
    },
    {
     "data": {
      "text/html": [
       "\n",
       "              <p>\n",
       "                  Progress: 100% Complete\n",
       "              <p/>\n",
       "              <progress\n",
       "                  value='67'\n",
       "                  max='67',\n",
       "                  style='width: 25%',\n",
       "              >\n",
       "                  67\n",
       "              </progress>\n",
       "\n",
       "    "
      ],
      "text/plain": [
       "<IPython.core.display.HTML object>"
      ]
     },
     "metadata": {},
     "output_type": "display_data"
    },
    {
     "name": "stdout",
     "output_type": "stream",
     "text": [
      "\n",
      "*** Feature extraction finished ***\n",
      "*** Feature extraction started ***\n"
     ]
    },
    {
     "data": {
      "text/html": [
       "\n",
       "              <p>\n",
       "                  Progress: 100% Complete\n",
       "              <p/>\n",
       "              <progress\n",
       "                  value='67'\n",
       "                  max='67',\n",
       "                  style='width: 25%',\n",
       "              >\n",
       "                  67\n",
       "              </progress>\n",
       "\n",
       "    "
      ],
      "text/plain": [
       "<IPython.core.display.HTML object>"
      ]
     },
     "metadata": {},
     "output_type": "display_data"
    },
    {
     "name": "stdout",
     "output_type": "stream",
     "text": [
      "\n",
      "*** Feature extraction finished ***\n",
      "*** Feature extraction started ***\n"
     ]
    },
    {
     "data": {
      "text/html": [
       "\n",
       "              <p>\n",
       "                  Progress: 100% Complete\n",
       "              <p/>\n",
       "              <progress\n",
       "                  value='67'\n",
       "                  max='67',\n",
       "                  style='width: 25%',\n",
       "              >\n",
       "                  67\n",
       "              </progress>\n",
       "\n",
       "    "
      ],
      "text/plain": [
       "<IPython.core.display.HTML object>"
      ]
     },
     "metadata": {},
     "output_type": "display_data"
    },
    {
     "name": "stdout",
     "output_type": "stream",
     "text": [
      "\n",
      "*** Feature extraction finished ***\n",
      "*** Feature extraction started ***\n"
     ]
    },
    {
     "data": {
      "text/html": [
       "\n",
       "              <p>\n",
       "                  Progress: 100% Complete\n",
       "              <p/>\n",
       "              <progress\n",
       "                  value='67'\n",
       "                  max='67',\n",
       "                  style='width: 25%',\n",
       "              >\n",
       "                  67\n",
       "              </progress>\n",
       "\n",
       "    "
      ],
      "text/plain": [
       "<IPython.core.display.HTML object>"
      ]
     },
     "metadata": {},
     "output_type": "display_data"
    },
    {
     "name": "stdout",
     "output_type": "stream",
     "text": [
      "\n",
      "*** Feature extraction finished ***\n",
      "*** Feature extraction started ***\n"
     ]
    },
    {
     "data": {
      "text/html": [
       "\n",
       "              <p>\n",
       "                  Progress: 100% Complete\n",
       "              <p/>\n",
       "              <progress\n",
       "                  value='67'\n",
       "                  max='67',\n",
       "                  style='width: 25%',\n",
       "              >\n",
       "                  67\n",
       "              </progress>\n",
       "\n",
       "    "
      ],
      "text/plain": [
       "<IPython.core.display.HTML object>"
      ]
     },
     "metadata": {},
     "output_type": "display_data"
    },
    {
     "name": "stdout",
     "output_type": "stream",
     "text": [
      "\n",
      "*** Feature extraction finished ***\n",
      "*** Feature extraction started ***\n"
     ]
    },
    {
     "data": {
      "text/html": [
       "\n",
       "              <p>\n",
       "                  Progress: 100% Complete\n",
       "              <p/>\n",
       "              <progress\n",
       "                  value='67'\n",
       "                  max='67',\n",
       "                  style='width: 25%',\n",
       "              >\n",
       "                  67\n",
       "              </progress>\n",
       "\n",
       "    "
      ],
      "text/plain": [
       "<IPython.core.display.HTML object>"
      ]
     },
     "metadata": {},
     "output_type": "display_data"
    },
    {
     "name": "stdout",
     "output_type": "stream",
     "text": [
      "\n",
      "*** Feature extraction finished ***\n",
      "*** Feature extraction started ***\n"
     ]
    },
    {
     "data": {
      "text/html": [
       "\n",
       "              <p>\n",
       "                  Progress: 100% Complete\n",
       "              <p/>\n",
       "              <progress\n",
       "                  value='67'\n",
       "                  max='67',\n",
       "                  style='width: 25%',\n",
       "              >\n",
       "                  67\n",
       "              </progress>\n",
       "\n",
       "    "
      ],
      "text/plain": [
       "<IPython.core.display.HTML object>"
      ]
     },
     "metadata": {},
     "output_type": "display_data"
    },
    {
     "name": "stdout",
     "output_type": "stream",
     "text": [
      "\n",
      "*** Feature extraction finished ***\n",
      "*** Feature extraction started ***\n"
     ]
    },
    {
     "data": {
      "text/html": [
       "\n",
       "              <p>\n",
       "                  Progress: 100% Complete\n",
       "              <p/>\n",
       "              <progress\n",
       "                  value='67'\n",
       "                  max='67',\n",
       "                  style='width: 25%',\n",
       "              >\n",
       "                  67\n",
       "              </progress>\n",
       "\n",
       "    "
      ],
      "text/plain": [
       "<IPython.core.display.HTML object>"
      ]
     },
     "metadata": {},
     "output_type": "display_data"
    },
    {
     "name": "stdout",
     "output_type": "stream",
     "text": [
      "\n",
      "*** Feature extraction finished ***\n",
      "*** Feature extraction started ***\n"
     ]
    },
    {
     "data": {
      "text/html": [
       "\n",
       "              <p>\n",
       "                  Progress: 100% Complete\n",
       "              <p/>\n",
       "              <progress\n",
       "                  value='67'\n",
       "                  max='67',\n",
       "                  style='width: 25%',\n",
       "              >\n",
       "                  67\n",
       "              </progress>\n",
       "\n",
       "    "
      ],
      "text/plain": [
       "<IPython.core.display.HTML object>"
      ]
     },
     "metadata": {},
     "output_type": "display_data"
    },
    {
     "name": "stdout",
     "output_type": "stream",
     "text": [
      "\n",
      "*** Feature extraction finished ***\n",
      "*** Feature extraction started ***\n"
     ]
    },
    {
     "data": {
      "text/html": [
       "\n",
       "              <p>\n",
       "                  Progress: 100% Complete\n",
       "              <p/>\n",
       "              <progress\n",
       "                  value='67'\n",
       "                  max='67',\n",
       "                  style='width: 25%',\n",
       "              >\n",
       "                  67\n",
       "              </progress>\n",
       "\n",
       "    "
      ],
      "text/plain": [
       "<IPython.core.display.HTML object>"
      ]
     },
     "metadata": {},
     "output_type": "display_data"
    },
    {
     "name": "stdout",
     "output_type": "stream",
     "text": [
      "\n",
      "*** Feature extraction finished ***\n",
      "*** Feature extraction started ***\n"
     ]
    },
    {
     "data": {
      "text/html": [
       "\n",
       "              <p>\n",
       "                  Progress: 100% Complete\n",
       "              <p/>\n",
       "              <progress\n",
       "                  value='67'\n",
       "                  max='67',\n",
       "                  style='width: 25%',\n",
       "              >\n",
       "                  67\n",
       "              </progress>\n",
       "\n",
       "    "
      ],
      "text/plain": [
       "<IPython.core.display.HTML object>"
      ]
     },
     "metadata": {},
     "output_type": "display_data"
    },
    {
     "name": "stdout",
     "output_type": "stream",
     "text": [
      "\n",
      "*** Feature extraction finished ***\n",
      "*** Feature extraction started ***\n"
     ]
    },
    {
     "data": {
      "text/html": [
       "\n",
       "              <p>\n",
       "                  Progress: 100% Complete\n",
       "              <p/>\n",
       "              <progress\n",
       "                  value='67'\n",
       "                  max='67',\n",
       "                  style='width: 25%',\n",
       "              >\n",
       "                  67\n",
       "              </progress>\n",
       "\n",
       "    "
      ],
      "text/plain": [
       "<IPython.core.display.HTML object>"
      ]
     },
     "metadata": {},
     "output_type": "display_data"
    },
    {
     "name": "stdout",
     "output_type": "stream",
     "text": [
      "\n",
      "*** Feature extraction finished ***\n",
      "*** Feature extraction started ***\n"
     ]
    },
    {
     "data": {
      "text/html": [
       "\n",
       "              <p>\n",
       "                  Progress: 100% Complete\n",
       "              <p/>\n",
       "              <progress\n",
       "                  value='67'\n",
       "                  max='67',\n",
       "                  style='width: 25%',\n",
       "              >\n",
       "                  67\n",
       "              </progress>\n",
       "\n",
       "    "
      ],
      "text/plain": [
       "<IPython.core.display.HTML object>"
      ]
     },
     "metadata": {},
     "output_type": "display_data"
    },
    {
     "name": "stdout",
     "output_type": "stream",
     "text": [
      "\n",
      "*** Feature extraction finished ***\n",
      "*** Feature extraction started ***\n"
     ]
    },
    {
     "data": {
      "text/html": [
       "\n",
       "              <p>\n",
       "                  Progress: 100% Complete\n",
       "              <p/>\n",
       "              <progress\n",
       "                  value='67'\n",
       "                  max='67',\n",
       "                  style='width: 25%',\n",
       "              >\n",
       "                  67\n",
       "              </progress>\n",
       "\n",
       "    "
      ],
      "text/plain": [
       "<IPython.core.display.HTML object>"
      ]
     },
     "metadata": {},
     "output_type": "display_data"
    },
    {
     "name": "stdout",
     "output_type": "stream",
     "text": [
      "\n",
      "*** Feature extraction finished ***\n",
      "*** Feature extraction started ***\n"
     ]
    },
    {
     "data": {
      "text/html": [
       "\n",
       "              <p>\n",
       "                  Progress: 100% Complete\n",
       "              <p/>\n",
       "              <progress\n",
       "                  value='67'\n",
       "                  max='67',\n",
       "                  style='width: 25%',\n",
       "              >\n",
       "                  67\n",
       "              </progress>\n",
       "\n",
       "    "
      ],
      "text/plain": [
       "<IPython.core.display.HTML object>"
      ]
     },
     "metadata": {},
     "output_type": "display_data"
    },
    {
     "name": "stdout",
     "output_type": "stream",
     "text": [
      "\n",
      "*** Feature extraction finished ***\n",
      "*** Feature extraction started ***\n"
     ]
    },
    {
     "data": {
      "text/html": [
       "\n",
       "              <p>\n",
       "                  Progress: 100% Complete\n",
       "              <p/>\n",
       "              <progress\n",
       "                  value='67'\n",
       "                  max='67',\n",
       "                  style='width: 25%',\n",
       "              >\n",
       "                  67\n",
       "              </progress>\n",
       "\n",
       "    "
      ],
      "text/plain": [
       "<IPython.core.display.HTML object>"
      ]
     },
     "metadata": {},
     "output_type": "display_data"
    },
    {
     "name": "stdout",
     "output_type": "stream",
     "text": [
      "\n",
      "*** Feature extraction finished ***\n",
      "*** Feature extraction started ***\n"
     ]
    },
    {
     "data": {
      "text/html": [
       "\n",
       "              <p>\n",
       "                  Progress: 100% Complete\n",
       "              <p/>\n",
       "              <progress\n",
       "                  value='67'\n",
       "                  max='67',\n",
       "                  style='width: 25%',\n",
       "              >\n",
       "                  67\n",
       "              </progress>\n",
       "\n",
       "    "
      ],
      "text/plain": [
       "<IPython.core.display.HTML object>"
      ]
     },
     "metadata": {},
     "output_type": "display_data"
    },
    {
     "name": "stdout",
     "output_type": "stream",
     "text": [
      "\n",
      "*** Feature extraction finished ***\n",
      "*** Feature extraction started ***\n"
     ]
    },
    {
     "data": {
      "text/html": [
       "\n",
       "              <p>\n",
       "                  Progress: 100% Complete\n",
       "              <p/>\n",
       "              <progress\n",
       "                  value='67'\n",
       "                  max='67',\n",
       "                  style='width: 25%',\n",
       "              >\n",
       "                  67\n",
       "              </progress>\n",
       "\n",
       "    "
      ],
      "text/plain": [
       "<IPython.core.display.HTML object>"
      ]
     },
     "metadata": {},
     "output_type": "display_data"
    },
    {
     "name": "stdout",
     "output_type": "stream",
     "text": [
      "\n",
      "*** Feature extraction finished ***\n",
      "*** Feature extraction started ***\n"
     ]
    },
    {
     "data": {
      "text/html": [
       "\n",
       "              <p>\n",
       "                  Progress: 100% Complete\n",
       "              <p/>\n",
       "              <progress\n",
       "                  value='67'\n",
       "                  max='67',\n",
       "                  style='width: 25%',\n",
       "              >\n",
       "                  67\n",
       "              </progress>\n",
       "\n",
       "    "
      ],
      "text/plain": [
       "<IPython.core.display.HTML object>"
      ]
     },
     "metadata": {},
     "output_type": "display_data"
    },
    {
     "name": "stdout",
     "output_type": "stream",
     "text": [
      "\n",
      "*** Feature extraction finished ***\n",
      "*** Feature extraction started ***\n"
     ]
    },
    {
     "data": {
      "text/html": [
       "\n",
       "              <p>\n",
       "                  Progress: 100% Complete\n",
       "              <p/>\n",
       "              <progress\n",
       "                  value='67'\n",
       "                  max='67',\n",
       "                  style='width: 25%',\n",
       "              >\n",
       "                  67\n",
       "              </progress>\n",
       "\n",
       "    "
      ],
      "text/plain": [
       "<IPython.core.display.HTML object>"
      ]
     },
     "metadata": {},
     "output_type": "display_data"
    },
    {
     "name": "stdout",
     "output_type": "stream",
     "text": [
      "\n",
      "*** Feature extraction finished ***\n",
      "*** Feature extraction started ***\n"
     ]
    },
    {
     "data": {
      "text/html": [
       "\n",
       "              <p>\n",
       "                  Progress: 100% Complete\n",
       "              <p/>\n",
       "              <progress\n",
       "                  value='67'\n",
       "                  max='67',\n",
       "                  style='width: 25%',\n",
       "              >\n",
       "                  67\n",
       "              </progress>\n",
       "\n",
       "    "
      ],
      "text/plain": [
       "<IPython.core.display.HTML object>"
      ]
     },
     "metadata": {},
     "output_type": "display_data"
    },
    {
     "name": "stdout",
     "output_type": "stream",
     "text": [
      "\n",
      "*** Feature extraction finished ***\n",
      "*** Feature extraction started ***\n"
     ]
    },
    {
     "data": {
      "text/html": [
       "\n",
       "              <p>\n",
       "                  Progress: 100% Complete\n",
       "              <p/>\n",
       "              <progress\n",
       "                  value='67'\n",
       "                  max='67',\n",
       "                  style='width: 25%',\n",
       "              >\n",
       "                  67\n",
       "              </progress>\n",
       "\n",
       "    "
      ],
      "text/plain": [
       "<IPython.core.display.HTML object>"
      ]
     },
     "metadata": {},
     "output_type": "display_data"
    },
    {
     "name": "stdout",
     "output_type": "stream",
     "text": [
      "\n",
      "*** Feature extraction finished ***\n",
      "*** Feature extraction started ***\n"
     ]
    },
    {
     "data": {
      "text/html": [
       "\n",
       "              <p>\n",
       "                  Progress: 100% Complete\n",
       "              <p/>\n",
       "              <progress\n",
       "                  value='67'\n",
       "                  max='67',\n",
       "                  style='width: 25%',\n",
       "              >\n",
       "                  67\n",
       "              </progress>\n",
       "\n",
       "    "
      ],
      "text/plain": [
       "<IPython.core.display.HTML object>"
      ]
     },
     "metadata": {},
     "output_type": "display_data"
    },
    {
     "name": "stdout",
     "output_type": "stream",
     "text": [
      "\n",
      "*** Feature extraction finished ***\n",
      "*** Feature extraction started ***\n"
     ]
    },
    {
     "data": {
      "text/html": [
       "\n",
       "              <p>\n",
       "                  Progress: 100% Complete\n",
       "              <p/>\n",
       "              <progress\n",
       "                  value='67'\n",
       "                  max='67',\n",
       "                  style='width: 25%',\n",
       "              >\n",
       "                  67\n",
       "              </progress>\n",
       "\n",
       "    "
      ],
      "text/plain": [
       "<IPython.core.display.HTML object>"
      ]
     },
     "metadata": {},
     "output_type": "display_data"
    },
    {
     "name": "stdout",
     "output_type": "stream",
     "text": [
      "\n",
      "*** Feature extraction finished ***\n",
      "*** Feature extraction started ***\n"
     ]
    },
    {
     "data": {
      "text/html": [
       "\n",
       "              <p>\n",
       "                  Progress: 100% Complete\n",
       "              <p/>\n",
       "              <progress\n",
       "                  value='67'\n",
       "                  max='67',\n",
       "                  style='width: 25%',\n",
       "              >\n",
       "                  67\n",
       "              </progress>\n",
       "\n",
       "    "
      ],
      "text/plain": [
       "<IPython.core.display.HTML object>"
      ]
     },
     "metadata": {},
     "output_type": "display_data"
    },
    {
     "name": "stdout",
     "output_type": "stream",
     "text": [
      "\n",
      "*** Feature extraction finished ***\n",
      "*** Feature extraction started ***\n"
     ]
    },
    {
     "data": {
      "text/html": [
       "\n",
       "              <p>\n",
       "                  Progress: 100% Complete\n",
       "              <p/>\n",
       "              <progress\n",
       "                  value='67'\n",
       "                  max='67',\n",
       "                  style='width: 25%',\n",
       "              >\n",
       "                  67\n",
       "              </progress>\n",
       "\n",
       "    "
      ],
      "text/plain": [
       "<IPython.core.display.HTML object>"
      ]
     },
     "metadata": {},
     "output_type": "display_data"
    },
    {
     "name": "stdout",
     "output_type": "stream",
     "text": [
      "\n",
      "*** Feature extraction finished ***\n",
      "*** Feature extraction started ***\n"
     ]
    },
    {
     "data": {
      "text/html": [
       "\n",
       "              <p>\n",
       "                  Progress: 100% Complete\n",
       "              <p/>\n",
       "              <progress\n",
       "                  value='67'\n",
       "                  max='67',\n",
       "                  style='width: 25%',\n",
       "              >\n",
       "                  67\n",
       "              </progress>\n",
       "\n",
       "    "
      ],
      "text/plain": [
       "<IPython.core.display.HTML object>"
      ]
     },
     "metadata": {},
     "output_type": "display_data"
    },
    {
     "name": "stdout",
     "output_type": "stream",
     "text": [
      "\n",
      "*** Feature extraction finished ***\n",
      "*** Feature extraction started ***\n"
     ]
    },
    {
     "data": {
      "text/html": [
       "\n",
       "              <p>\n",
       "                  Progress: 100% Complete\n",
       "              <p/>\n",
       "              <progress\n",
       "                  value='67'\n",
       "                  max='67',\n",
       "                  style='width: 25%',\n",
       "              >\n",
       "                  67\n",
       "              </progress>\n",
       "\n",
       "    "
      ],
      "text/plain": [
       "<IPython.core.display.HTML object>"
      ]
     },
     "metadata": {},
     "output_type": "display_data"
    },
    {
     "name": "stdout",
     "output_type": "stream",
     "text": [
      "\n",
      "*** Feature extraction finished ***\n",
      "*** Feature extraction started ***\n"
     ]
    },
    {
     "data": {
      "text/html": [
       "\n",
       "              <p>\n",
       "                  Progress: 100% Complete\n",
       "              <p/>\n",
       "              <progress\n",
       "                  value='67'\n",
       "                  max='67',\n",
       "                  style='width: 25%',\n",
       "              >\n",
       "                  67\n",
       "              </progress>\n",
       "\n",
       "    "
      ],
      "text/plain": [
       "<IPython.core.display.HTML object>"
      ]
     },
     "metadata": {},
     "output_type": "display_data"
    },
    {
     "name": "stdout",
     "output_type": "stream",
     "text": [
      "\n",
      "*** Feature extraction finished ***\n",
      "*** Feature extraction started ***\n"
     ]
    },
    {
     "data": {
      "text/html": [
       "\n",
       "              <p>\n",
       "                  Progress: 100% Complete\n",
       "              <p/>\n",
       "              <progress\n",
       "                  value='67'\n",
       "                  max='67',\n",
       "                  style='width: 25%',\n",
       "              >\n",
       "                  67\n",
       "              </progress>\n",
       "\n",
       "    "
      ],
      "text/plain": [
       "<IPython.core.display.HTML object>"
      ]
     },
     "metadata": {},
     "output_type": "display_data"
    },
    {
     "name": "stdout",
     "output_type": "stream",
     "text": [
      "\n",
      "*** Feature extraction finished ***\n",
      "*** Feature extraction started ***\n"
     ]
    },
    {
     "data": {
      "text/html": [
       "\n",
       "              <p>\n",
       "                  Progress: 100% Complete\n",
       "              <p/>\n",
       "              <progress\n",
       "                  value='67'\n",
       "                  max='67',\n",
       "                  style='width: 25%',\n",
       "              >\n",
       "                  67\n",
       "              </progress>\n",
       "\n",
       "    "
      ],
      "text/plain": [
       "<IPython.core.display.HTML object>"
      ]
     },
     "metadata": {},
     "output_type": "display_data"
    },
    {
     "name": "stdout",
     "output_type": "stream",
     "text": [
      "\n",
      "*** Feature extraction finished ***\n",
      "*** Feature extraction started ***\n"
     ]
    },
    {
     "data": {
      "text/html": [
       "\n",
       "              <p>\n",
       "                  Progress: 100% Complete\n",
       "              <p/>\n",
       "              <progress\n",
       "                  value='67'\n",
       "                  max='67',\n",
       "                  style='width: 25%',\n",
       "              >\n",
       "                  67\n",
       "              </progress>\n",
       "\n",
       "    "
      ],
      "text/plain": [
       "<IPython.core.display.HTML object>"
      ]
     },
     "metadata": {},
     "output_type": "display_data"
    },
    {
     "name": "stdout",
     "output_type": "stream",
     "text": [
      "\n",
      "*** Feature extraction finished ***\n",
      "*** Feature extraction started ***\n"
     ]
    },
    {
     "data": {
      "text/html": [
       "\n",
       "              <p>\n",
       "                  Progress: 100% Complete\n",
       "              <p/>\n",
       "              <progress\n",
       "                  value='67'\n",
       "                  max='67',\n",
       "                  style='width: 25%',\n",
       "              >\n",
       "                  67\n",
       "              </progress>\n",
       "\n",
       "    "
      ],
      "text/plain": [
       "<IPython.core.display.HTML object>"
      ]
     },
     "metadata": {},
     "output_type": "display_data"
    },
    {
     "name": "stdout",
     "output_type": "stream",
     "text": [
      "\n",
      "*** Feature extraction finished ***\n",
      "*** Feature extraction started ***\n"
     ]
    },
    {
     "data": {
      "text/html": [
       "\n",
       "              <p>\n",
       "                  Progress: 100% Complete\n",
       "              <p/>\n",
       "              <progress\n",
       "                  value='67'\n",
       "                  max='67',\n",
       "                  style='width: 25%',\n",
       "              >\n",
       "                  67\n",
       "              </progress>\n",
       "\n",
       "    "
      ],
      "text/plain": [
       "<IPython.core.display.HTML object>"
      ]
     },
     "metadata": {},
     "output_type": "display_data"
    },
    {
     "name": "stdout",
     "output_type": "stream",
     "text": [
      "\n",
      "*** Feature extraction finished ***\n",
      "*** Feature extraction started ***\n"
     ]
    },
    {
     "data": {
      "text/html": [
       "\n",
       "              <p>\n",
       "                  Progress: 100% Complete\n",
       "              <p/>\n",
       "              <progress\n",
       "                  value='67'\n",
       "                  max='67',\n",
       "                  style='width: 25%',\n",
       "              >\n",
       "                  67\n",
       "              </progress>\n",
       "\n",
       "    "
      ],
      "text/plain": [
       "<IPython.core.display.HTML object>"
      ]
     },
     "metadata": {},
     "output_type": "display_data"
    },
    {
     "name": "stdout",
     "output_type": "stream",
     "text": [
      "\n",
      "*** Feature extraction finished ***\n",
      "*** Feature extraction started ***\n"
     ]
    },
    {
     "data": {
      "text/html": [
       "\n",
       "              <p>\n",
       "                  Progress: 100% Complete\n",
       "              <p/>\n",
       "              <progress\n",
       "                  value='67'\n",
       "                  max='67',\n",
       "                  style='width: 25%',\n",
       "              >\n",
       "                  67\n",
       "              </progress>\n",
       "\n",
       "    "
      ],
      "text/plain": [
       "<IPython.core.display.HTML object>"
      ]
     },
     "metadata": {},
     "output_type": "display_data"
    },
    {
     "name": "stdout",
     "output_type": "stream",
     "text": [
      "\n",
      "*** Feature extraction finished ***\n",
      "*** Feature extraction started ***\n"
     ]
    },
    {
     "data": {
      "text/html": [
       "\n",
       "              <p>\n",
       "                  Progress: 100% Complete\n",
       "              <p/>\n",
       "              <progress\n",
       "                  value='67'\n",
       "                  max='67',\n",
       "                  style='width: 25%',\n",
       "              >\n",
       "                  67\n",
       "              </progress>\n",
       "\n",
       "    "
      ],
      "text/plain": [
       "<IPython.core.display.HTML object>"
      ]
     },
     "metadata": {},
     "output_type": "display_data"
    },
    {
     "name": "stdout",
     "output_type": "stream",
     "text": [
      "\n",
      "*** Feature extraction finished ***\n",
      "*** Feature extraction started ***\n"
     ]
    },
    {
     "data": {
      "text/html": [
       "\n",
       "              <p>\n",
       "                  Progress: 100% Complete\n",
       "              <p/>\n",
       "              <progress\n",
       "                  value='67'\n",
       "                  max='67',\n",
       "                  style='width: 25%',\n",
       "              >\n",
       "                  67\n",
       "              </progress>\n",
       "\n",
       "    "
      ],
      "text/plain": [
       "<IPython.core.display.HTML object>"
      ]
     },
     "metadata": {},
     "output_type": "display_data"
    },
    {
     "name": "stdout",
     "output_type": "stream",
     "text": [
      "\n",
      "*** Feature extraction finished ***\n",
      "*** Feature extraction started ***\n"
     ]
    },
    {
     "data": {
      "text/html": [
       "\n",
       "              <p>\n",
       "                  Progress: 100% Complete\n",
       "              <p/>\n",
       "              <progress\n",
       "                  value='67'\n",
       "                  max='67',\n",
       "                  style='width: 25%',\n",
       "              >\n",
       "                  67\n",
       "              </progress>\n",
       "\n",
       "    "
      ],
      "text/plain": [
       "<IPython.core.display.HTML object>"
      ]
     },
     "metadata": {},
     "output_type": "display_data"
    },
    {
     "name": "stdout",
     "output_type": "stream",
     "text": [
      "\n",
      "*** Feature extraction finished ***\n",
      "*** Feature extraction started ***\n"
     ]
    },
    {
     "data": {
      "text/html": [
       "\n",
       "              <p>\n",
       "                  Progress: 100% Complete\n",
       "              <p/>\n",
       "              <progress\n",
       "                  value='67'\n",
       "                  max='67',\n",
       "                  style='width: 25%',\n",
       "              >\n",
       "                  67\n",
       "              </progress>\n",
       "\n",
       "    "
      ],
      "text/plain": [
       "<IPython.core.display.HTML object>"
      ]
     },
     "metadata": {},
     "output_type": "display_data"
    },
    {
     "name": "stdout",
     "output_type": "stream",
     "text": [
      "\n",
      "*** Feature extraction finished ***\n",
      "*** Feature extraction started ***\n"
     ]
    },
    {
     "data": {
      "text/html": [
       "\n",
       "              <p>\n",
       "                  Progress: 100% Complete\n",
       "              <p/>\n",
       "              <progress\n",
       "                  value='67'\n",
       "                  max='67',\n",
       "                  style='width: 25%',\n",
       "              >\n",
       "                  67\n",
       "              </progress>\n",
       "\n",
       "    "
      ],
      "text/plain": [
       "<IPython.core.display.HTML object>"
      ]
     },
     "metadata": {},
     "output_type": "display_data"
    },
    {
     "name": "stdout",
     "output_type": "stream",
     "text": [
      "\n",
      "*** Feature extraction finished ***\n",
      "*** Feature extraction started ***\n"
     ]
    },
    {
     "data": {
      "text/html": [
       "\n",
       "              <p>\n",
       "                  Progress: 100% Complete\n",
       "              <p/>\n",
       "              <progress\n",
       "                  value='67'\n",
       "                  max='67',\n",
       "                  style='width: 25%',\n",
       "              >\n",
       "                  67\n",
       "              </progress>\n",
       "\n",
       "    "
      ],
      "text/plain": [
       "<IPython.core.display.HTML object>"
      ]
     },
     "metadata": {},
     "output_type": "display_data"
    },
    {
     "name": "stdout",
     "output_type": "stream",
     "text": [
      "\n",
      "*** Feature extraction finished ***\n",
      "*** Feature extraction started ***\n"
     ]
    },
    {
     "data": {
      "text/html": [
       "\n",
       "              <p>\n",
       "                  Progress: 100% Complete\n",
       "              <p/>\n",
       "              <progress\n",
       "                  value='67'\n",
       "                  max='67',\n",
       "                  style='width: 25%',\n",
       "              >\n",
       "                  67\n",
       "              </progress>\n",
       "\n",
       "    "
      ],
      "text/plain": [
       "<IPython.core.display.HTML object>"
      ]
     },
     "metadata": {},
     "output_type": "display_data"
    },
    {
     "name": "stdout",
     "output_type": "stream",
     "text": [
      "\n",
      "*** Feature extraction finished ***\n",
      "*** Feature extraction started ***\n"
     ]
    },
    {
     "data": {
      "text/html": [
       "\n",
       "              <p>\n",
       "                  Progress: 100% Complete\n",
       "              <p/>\n",
       "              <progress\n",
       "                  value='67'\n",
       "                  max='67',\n",
       "                  style='width: 25%',\n",
       "              >\n",
       "                  67\n",
       "              </progress>\n",
       "\n",
       "    "
      ],
      "text/plain": [
       "<IPython.core.display.HTML object>"
      ]
     },
     "metadata": {},
     "output_type": "display_data"
    },
    {
     "name": "stdout",
     "output_type": "stream",
     "text": [
      "\n",
      "*** Feature extraction finished ***\n",
      "*** Feature extraction started ***\n"
     ]
    },
    {
     "data": {
      "text/html": [
       "\n",
       "              <p>\n",
       "                  Progress: 100% Complete\n",
       "              <p/>\n",
       "              <progress\n",
       "                  value='67'\n",
       "                  max='67',\n",
       "                  style='width: 25%',\n",
       "              >\n",
       "                  67\n",
       "              </progress>\n",
       "\n",
       "    "
      ],
      "text/plain": [
       "<IPython.core.display.HTML object>"
      ]
     },
     "metadata": {},
     "output_type": "display_data"
    },
    {
     "name": "stdout",
     "output_type": "stream",
     "text": [
      "\n",
      "*** Feature extraction finished ***\n",
      "*** Feature extraction started ***\n"
     ]
    },
    {
     "data": {
      "text/html": [
       "\n",
       "              <p>\n",
       "                  Progress: 100% Complete\n",
       "              <p/>\n",
       "              <progress\n",
       "                  value='67'\n",
       "                  max='67',\n",
       "                  style='width: 25%',\n",
       "              >\n",
       "                  67\n",
       "              </progress>\n",
       "\n",
       "    "
      ],
      "text/plain": [
       "<IPython.core.display.HTML object>"
      ]
     },
     "metadata": {},
     "output_type": "display_data"
    },
    {
     "name": "stdout",
     "output_type": "stream",
     "text": [
      "\n",
      "*** Feature extraction finished ***\n",
      "*** Feature extraction started ***\n"
     ]
    },
    {
     "data": {
      "text/html": [
       "\n",
       "              <p>\n",
       "                  Progress: 100% Complete\n",
       "              <p/>\n",
       "              <progress\n",
       "                  value='67'\n",
       "                  max='67',\n",
       "                  style='width: 25%',\n",
       "              >\n",
       "                  67\n",
       "              </progress>\n",
       "\n",
       "    "
      ],
      "text/plain": [
       "<IPython.core.display.HTML object>"
      ]
     },
     "metadata": {},
     "output_type": "display_data"
    },
    {
     "name": "stdout",
     "output_type": "stream",
     "text": [
      "\n",
      "*** Feature extraction finished ***\n",
      "*** Feature extraction started ***\n"
     ]
    },
    {
     "data": {
      "text/html": [
       "\n",
       "              <p>\n",
       "                  Progress: 100% Complete\n",
       "              <p/>\n",
       "              <progress\n",
       "                  value='67'\n",
       "                  max='67',\n",
       "                  style='width: 25%',\n",
       "              >\n",
       "                  67\n",
       "              </progress>\n",
       "\n",
       "    "
      ],
      "text/plain": [
       "<IPython.core.display.HTML object>"
      ]
     },
     "metadata": {},
     "output_type": "display_data"
    },
    {
     "name": "stdout",
     "output_type": "stream",
     "text": [
      "\n",
      "*** Feature extraction finished ***\n",
      "*** Feature extraction started ***\n"
     ]
    },
    {
     "data": {
      "text/html": [
       "\n",
       "              <p>\n",
       "                  Progress: 100% Complete\n",
       "              <p/>\n",
       "              <progress\n",
       "                  value='67'\n",
       "                  max='67',\n",
       "                  style='width: 25%',\n",
       "              >\n",
       "                  67\n",
       "              </progress>\n",
       "\n",
       "    "
      ],
      "text/plain": [
       "<IPython.core.display.HTML object>"
      ]
     },
     "metadata": {},
     "output_type": "display_data"
    },
    {
     "name": "stdout",
     "output_type": "stream",
     "text": [
      "\n",
      "*** Feature extraction finished ***\n",
      "*** Feature extraction started ***\n"
     ]
    },
    {
     "data": {
      "text/html": [
       "\n",
       "              <p>\n",
       "                  Progress: 100% Complete\n",
       "              <p/>\n",
       "              <progress\n",
       "                  value='67'\n",
       "                  max='67',\n",
       "                  style='width: 25%',\n",
       "              >\n",
       "                  67\n",
       "              </progress>\n",
       "\n",
       "    "
      ],
      "text/plain": [
       "<IPython.core.display.HTML object>"
      ]
     },
     "metadata": {},
     "output_type": "display_data"
    },
    {
     "name": "stdout",
     "output_type": "stream",
     "text": [
      "\n",
      "*** Feature extraction finished ***\n",
      "*** Feature extraction started ***\n"
     ]
    },
    {
     "data": {
      "text/html": [
       "\n",
       "              <p>\n",
       "                  Progress: 100% Complete\n",
       "              <p/>\n",
       "              <progress\n",
       "                  value='67'\n",
       "                  max='67',\n",
       "                  style='width: 25%',\n",
       "              >\n",
       "                  67\n",
       "              </progress>\n",
       "\n",
       "    "
      ],
      "text/plain": [
       "<IPython.core.display.HTML object>"
      ]
     },
     "metadata": {},
     "output_type": "display_data"
    },
    {
     "name": "stdout",
     "output_type": "stream",
     "text": [
      "\n",
      "*** Feature extraction finished ***\n",
      "*** Feature extraction started ***\n"
     ]
    },
    {
     "data": {
      "text/html": [
       "\n",
       "              <p>\n",
       "                  Progress: 100% Complete\n",
       "              <p/>\n",
       "              <progress\n",
       "                  value='67'\n",
       "                  max='67',\n",
       "                  style='width: 25%',\n",
       "              >\n",
       "                  67\n",
       "              </progress>\n",
       "\n",
       "    "
      ],
      "text/plain": [
       "<IPython.core.display.HTML object>"
      ]
     },
     "metadata": {},
     "output_type": "display_data"
    },
    {
     "name": "stdout",
     "output_type": "stream",
     "text": [
      "\n",
      "*** Feature extraction finished ***\n",
      "*** Feature extraction started ***\n"
     ]
    },
    {
     "data": {
      "text/html": [
       "\n",
       "              <p>\n",
       "                  Progress: 100% Complete\n",
       "              <p/>\n",
       "              <progress\n",
       "                  value='67'\n",
       "                  max='67',\n",
       "                  style='width: 25%',\n",
       "              >\n",
       "                  67\n",
       "              </progress>\n",
       "\n",
       "    "
      ],
      "text/plain": [
       "<IPython.core.display.HTML object>"
      ]
     },
     "metadata": {},
     "output_type": "display_data"
    },
    {
     "name": "stdout",
     "output_type": "stream",
     "text": [
      "\n",
      "*** Feature extraction finished ***\n",
      "*** Feature extraction started ***\n"
     ]
    },
    {
     "data": {
      "text/html": [
       "\n",
       "              <p>\n",
       "                  Progress: 100% Complete\n",
       "              <p/>\n",
       "              <progress\n",
       "                  value='67'\n",
       "                  max='67',\n",
       "                  style='width: 25%',\n",
       "              >\n",
       "                  67\n",
       "              </progress>\n",
       "\n",
       "    "
      ],
      "text/plain": [
       "<IPython.core.display.HTML object>"
      ]
     },
     "metadata": {},
     "output_type": "display_data"
    },
    {
     "name": "stdout",
     "output_type": "stream",
     "text": [
      "\n",
      "*** Feature extraction finished ***\n",
      "*** Feature extraction started ***\n"
     ]
    },
    {
     "data": {
      "text/html": [
       "\n",
       "              <p>\n",
       "                  Progress: 100% Complete\n",
       "              <p/>\n",
       "              <progress\n",
       "                  value='67'\n",
       "                  max='67',\n",
       "                  style='width: 25%',\n",
       "              >\n",
       "                  67\n",
       "              </progress>\n",
       "\n",
       "    "
      ],
      "text/plain": [
       "<IPython.core.display.HTML object>"
      ]
     },
     "metadata": {},
     "output_type": "display_data"
    },
    {
     "name": "stdout",
     "output_type": "stream",
     "text": [
      "\n",
      "*** Feature extraction finished ***\n",
      "*** Feature extraction started ***\n"
     ]
    },
    {
     "data": {
      "text/html": [
       "\n",
       "              <p>\n",
       "                  Progress: 100% Complete\n",
       "              <p/>\n",
       "              <progress\n",
       "                  value='67'\n",
       "                  max='67',\n",
       "                  style='width: 25%',\n",
       "              >\n",
       "                  67\n",
       "              </progress>\n",
       "\n",
       "    "
      ],
      "text/plain": [
       "<IPython.core.display.HTML object>"
      ]
     },
     "metadata": {},
     "output_type": "display_data"
    },
    {
     "name": "stdout",
     "output_type": "stream",
     "text": [
      "\n",
      "*** Feature extraction finished ***\n",
      "*** Feature extraction started ***\n"
     ]
    },
    {
     "data": {
      "text/html": [
       "\n",
       "              <p>\n",
       "                  Progress: 100% Complete\n",
       "              <p/>\n",
       "              <progress\n",
       "                  value='67'\n",
       "                  max='67',\n",
       "                  style='width: 25%',\n",
       "              >\n",
       "                  67\n",
       "              </progress>\n",
       "\n",
       "    "
      ],
      "text/plain": [
       "<IPython.core.display.HTML object>"
      ]
     },
     "metadata": {},
     "output_type": "display_data"
    },
    {
     "name": "stdout",
     "output_type": "stream",
     "text": [
      "\n",
      "*** Feature extraction finished ***\n",
      "*** Feature extraction started ***\n"
     ]
    },
    {
     "data": {
      "text/html": [
       "\n",
       "              <p>\n",
       "                  Progress: 100% Complete\n",
       "              <p/>\n",
       "              <progress\n",
       "                  value='67'\n",
       "                  max='67',\n",
       "                  style='width: 25%',\n",
       "              >\n",
       "                  67\n",
       "              </progress>\n",
       "\n",
       "    "
      ],
      "text/plain": [
       "<IPython.core.display.HTML object>"
      ]
     },
     "metadata": {},
     "output_type": "display_data"
    },
    {
     "name": "stdout",
     "output_type": "stream",
     "text": [
      "\n",
      "*** Feature extraction finished ***\n",
      "*** Feature extraction started ***\n"
     ]
    },
    {
     "data": {
      "text/html": [
       "\n",
       "              <p>\n",
       "                  Progress: 100% Complete\n",
       "              <p/>\n",
       "              <progress\n",
       "                  value='67'\n",
       "                  max='67',\n",
       "                  style='width: 25%',\n",
       "              >\n",
       "                  67\n",
       "              </progress>\n",
       "\n",
       "    "
      ],
      "text/plain": [
       "<IPython.core.display.HTML object>"
      ]
     },
     "metadata": {},
     "output_type": "display_data"
    },
    {
     "name": "stdout",
     "output_type": "stream",
     "text": [
      "\n",
      "*** Feature extraction finished ***\n",
      "*** Feature extraction started ***\n"
     ]
    },
    {
     "data": {
      "text/html": [
       "\n",
       "              <p>\n",
       "                  Progress: 100% Complete\n",
       "              <p/>\n",
       "              <progress\n",
       "                  value='67'\n",
       "                  max='67',\n",
       "                  style='width: 25%',\n",
       "              >\n",
       "                  67\n",
       "              </progress>\n",
       "\n",
       "    "
      ],
      "text/plain": [
       "<IPython.core.display.HTML object>"
      ]
     },
     "metadata": {},
     "output_type": "display_data"
    },
    {
     "name": "stdout",
     "output_type": "stream",
     "text": [
      "\n",
      "*** Feature extraction finished ***\n",
      "*** Feature extraction started ***\n"
     ]
    },
    {
     "data": {
      "text/html": [
       "\n",
       "              <p>\n",
       "                  Progress: 100% Complete\n",
       "              <p/>\n",
       "              <progress\n",
       "                  value='67'\n",
       "                  max='67',\n",
       "                  style='width: 25%',\n",
       "              >\n",
       "                  67\n",
       "              </progress>\n",
       "\n",
       "    "
      ],
      "text/plain": [
       "<IPython.core.display.HTML object>"
      ]
     },
     "metadata": {},
     "output_type": "display_data"
    },
    {
     "name": "stdout",
     "output_type": "stream",
     "text": [
      "\n",
      "*** Feature extraction finished ***\n",
      "*** Feature extraction started ***\n"
     ]
    },
    {
     "data": {
      "text/html": [
       "\n",
       "              <p>\n",
       "                  Progress: 100% Complete\n",
       "              <p/>\n",
       "              <progress\n",
       "                  value='67'\n",
       "                  max='67',\n",
       "                  style='width: 25%',\n",
       "              >\n",
       "                  67\n",
       "              </progress>\n",
       "\n",
       "    "
      ],
      "text/plain": [
       "<IPython.core.display.HTML object>"
      ]
     },
     "metadata": {},
     "output_type": "display_data"
    },
    {
     "name": "stdout",
     "output_type": "stream",
     "text": [
      "\n",
      "*** Feature extraction finished ***\n",
      "*** Feature extraction started ***\n"
     ]
    },
    {
     "data": {
      "text/html": [
       "\n",
       "              <p>\n",
       "                  Progress: 100% Complete\n",
       "              <p/>\n",
       "              <progress\n",
       "                  value='67'\n",
       "                  max='67',\n",
       "                  style='width: 25%',\n",
       "              >\n",
       "                  67\n",
       "              </progress>\n",
       "\n",
       "    "
      ],
      "text/plain": [
       "<IPython.core.display.HTML object>"
      ]
     },
     "metadata": {},
     "output_type": "display_data"
    },
    {
     "name": "stdout",
     "output_type": "stream",
     "text": [
      "\n",
      "*** Feature extraction finished ***\n",
      "*** Feature extraction started ***\n"
     ]
    },
    {
     "data": {
      "text/html": [
       "\n",
       "              <p>\n",
       "                  Progress: 100% Complete\n",
       "              <p/>\n",
       "              <progress\n",
       "                  value='67'\n",
       "                  max='67',\n",
       "                  style='width: 25%',\n",
       "              >\n",
       "                  67\n",
       "              </progress>\n",
       "\n",
       "    "
      ],
      "text/plain": [
       "<IPython.core.display.HTML object>"
      ]
     },
     "metadata": {},
     "output_type": "display_data"
    },
    {
     "name": "stdout",
     "output_type": "stream",
     "text": [
      "\n",
      "*** Feature extraction finished ***\n",
      "*** Feature extraction started ***\n"
     ]
    },
    {
     "data": {
      "text/html": [
       "\n",
       "              <p>\n",
       "                  Progress: 100% Complete\n",
       "              <p/>\n",
       "              <progress\n",
       "                  value='67'\n",
       "                  max='67',\n",
       "                  style='width: 25%',\n",
       "              >\n",
       "                  67\n",
       "              </progress>\n",
       "\n",
       "    "
      ],
      "text/plain": [
       "<IPython.core.display.HTML object>"
      ]
     },
     "metadata": {},
     "output_type": "display_data"
    },
    {
     "name": "stdout",
     "output_type": "stream",
     "text": [
      "\n",
      "*** Feature extraction finished ***\n",
      "*** Feature extraction started ***\n"
     ]
    },
    {
     "data": {
      "text/html": [
       "\n",
       "              <p>\n",
       "                  Progress: 100% Complete\n",
       "              <p/>\n",
       "              <progress\n",
       "                  value='67'\n",
       "                  max='67',\n",
       "                  style='width: 25%',\n",
       "              >\n",
       "                  67\n",
       "              </progress>\n",
       "\n",
       "    "
      ],
      "text/plain": [
       "<IPython.core.display.HTML object>"
      ]
     },
     "metadata": {},
     "output_type": "display_data"
    },
    {
     "name": "stdout",
     "output_type": "stream",
     "text": [
      "\n",
      "*** Feature extraction finished ***\n",
      "*** Feature extraction started ***\n"
     ]
    },
    {
     "data": {
      "text/html": [
       "\n",
       "              <p>\n",
       "                  Progress: 100% Complete\n",
       "              <p/>\n",
       "              <progress\n",
       "                  value='67'\n",
       "                  max='67',\n",
       "                  style='width: 25%',\n",
       "              >\n",
       "                  67\n",
       "              </progress>\n",
       "\n",
       "    "
      ],
      "text/plain": [
       "<IPython.core.display.HTML object>"
      ]
     },
     "metadata": {},
     "output_type": "display_data"
    },
    {
     "name": "stdout",
     "output_type": "stream",
     "text": [
      "\n",
      "*** Feature extraction finished ***\n",
      "*** Feature extraction started ***\n"
     ]
    },
    {
     "data": {
      "text/html": [
       "\n",
       "              <p>\n",
       "                  Progress: 100% Complete\n",
       "              <p/>\n",
       "              <progress\n",
       "                  value='67'\n",
       "                  max='67',\n",
       "                  style='width: 25%',\n",
       "              >\n",
       "                  67\n",
       "              </progress>\n",
       "\n",
       "    "
      ],
      "text/plain": [
       "<IPython.core.display.HTML object>"
      ]
     },
     "metadata": {},
     "output_type": "display_data"
    },
    {
     "name": "stdout",
     "output_type": "stream",
     "text": [
      "\n",
      "*** Feature extraction finished ***\n",
      "*** Feature extraction started ***\n"
     ]
    },
    {
     "data": {
      "text/html": [
       "\n",
       "              <p>\n",
       "                  Progress: 100% Complete\n",
       "              <p/>\n",
       "              <progress\n",
       "                  value='67'\n",
       "                  max='67',\n",
       "                  style='width: 25%',\n",
       "              >\n",
       "                  67\n",
       "              </progress>\n",
       "\n",
       "    "
      ],
      "text/plain": [
       "<IPython.core.display.HTML object>"
      ]
     },
     "metadata": {},
     "output_type": "display_data"
    },
    {
     "name": "stdout",
     "output_type": "stream",
     "text": [
      "\n",
      "*** Feature extraction finished ***\n",
      "*** Feature extraction started ***\n"
     ]
    },
    {
     "data": {
      "text/html": [
       "\n",
       "              <p>\n",
       "                  Progress: 100% Complete\n",
       "              <p/>\n",
       "              <progress\n",
       "                  value='67'\n",
       "                  max='67',\n",
       "                  style='width: 25%',\n",
       "              >\n",
       "                  67\n",
       "              </progress>\n",
       "\n",
       "    "
      ],
      "text/plain": [
       "<IPython.core.display.HTML object>"
      ]
     },
     "metadata": {},
     "output_type": "display_data"
    },
    {
     "name": "stdout",
     "output_type": "stream",
     "text": [
      "\n",
      "*** Feature extraction finished ***\n",
      "*** Feature extraction started ***\n"
     ]
    },
    {
     "data": {
      "text/html": [
       "\n",
       "              <p>\n",
       "                  Progress: 100% Complete\n",
       "              <p/>\n",
       "              <progress\n",
       "                  value='67'\n",
       "                  max='67',\n",
       "                  style='width: 25%',\n",
       "              >\n",
       "                  67\n",
       "              </progress>\n",
       "\n",
       "    "
      ],
      "text/plain": [
       "<IPython.core.display.HTML object>"
      ]
     },
     "metadata": {},
     "output_type": "display_data"
    },
    {
     "name": "stdout",
     "output_type": "stream",
     "text": [
      "\n",
      "*** Feature extraction finished ***\n",
      "*** Feature extraction started ***\n"
     ]
    },
    {
     "data": {
      "text/html": [
       "\n",
       "              <p>\n",
       "                  Progress: 100% Complete\n",
       "              <p/>\n",
       "              <progress\n",
       "                  value='67'\n",
       "                  max='67',\n",
       "                  style='width: 25%',\n",
       "              >\n",
       "                  67\n",
       "              </progress>\n",
       "\n",
       "    "
      ],
      "text/plain": [
       "<IPython.core.display.HTML object>"
      ]
     },
     "metadata": {},
     "output_type": "display_data"
    },
    {
     "name": "stdout",
     "output_type": "stream",
     "text": [
      "\n",
      "*** Feature extraction finished ***\n",
      "*** Feature extraction started ***\n"
     ]
    },
    {
     "data": {
      "text/html": [
       "\n",
       "              <p>\n",
       "                  Progress: 100% Complete\n",
       "              <p/>\n",
       "              <progress\n",
       "                  value='67'\n",
       "                  max='67',\n",
       "                  style='width: 25%',\n",
       "              >\n",
       "                  67\n",
       "              </progress>\n",
       "\n",
       "    "
      ],
      "text/plain": [
       "<IPython.core.display.HTML object>"
      ]
     },
     "metadata": {},
     "output_type": "display_data"
    },
    {
     "name": "stdout",
     "output_type": "stream",
     "text": [
      "\n",
      "*** Feature extraction finished ***\n"
     ]
    }
   ],
   "source": [
    "# This code is taken from task 2.\n",
    "\n",
    "import numpy as np\n",
    "import pandas as pd\n",
    "import matplotlib.pyplot as plt\n",
    "import seaborn as sns\n",
    "import tsfel\n",
    "from sklearn.metrics import accuracy_score, precision_score, recall_score, confusion_matrix, ConfusionMatrixDisplay\n",
    "from sklearn.tree import DecisionTreeClassifier\n",
    "%matplotlib inline\n",
    "%config InlineBackend.figure_format = 'retina' # Retina mode\n",
    "from latexify import latexify, format_axes\n",
    "from MakeDataset import X_train, X_test, y_train, y_test\n",
    "\n",
    "import warnings\n",
    "# Suppressing all FutureWarnings and UserWarnings\n",
    "warnings.simplefilter(action='ignore', category=FutureWarning)\n",
    "warnings.simplefilter(action='ignore', category=UserWarning)\n",
    "\n",
    "# Printing versions of libraries used\n",
    "%load_ext watermark\n",
    "%watermark -v -p numpy,pandas,matplotlib,seaborn,scikit-learn,tsfel\n",
    "\n",
    "# Loading train and test input data\n",
    "train_acc_x = pd.read_csv(\"UCI HAR Dataset/train/Inertial Signals/total_acc_x_train.txt\", delim_whitespace=True, header=None)\n",
    "train_acc_y = pd.read_csv(\"UCI HAR Dataset/train/Inertial Signals/total_acc_y_train.txt\", delim_whitespace=True, header=None)\n",
    "train_acc_z = pd.read_csv(\"UCI HAR Dataset/train/Inertial Signals/total_acc_z_train.txt\", delim_whitespace=True, header=None)\n",
    "\n",
    "test_acc_x = pd.read_csv(\"UCI HAR Dataset/test/Inertial Signals/total_acc_x_test.txt\", delim_whitespace=True, header=None)\n",
    "test_acc_y = pd.read_csv(\"UCI HAR Dataset/test/Inertial Signals/total_acc_y_test.txt\", delim_whitespace=True, header=None)\n",
    "test_acc_z = pd.read_csv(\"UCI HAR Dataset/test/Inertial Signals/total_acc_z_test.txt\", delim_whitespace=True, header=None)\n",
    "\n",
    "# Concatenating along the second axis (columns)\n",
    "X_train_acc = np.concatenate((train_acc_x, train_acc_y, train_acc_z), axis=1)\n",
    "print(\"Shape of the X_train_acc:\", X_train_acc.shape)\n",
    "\n",
    "X_test_acc = np.concatenate((test_acc_x, test_acc_y, test_acc_z), axis=1)\n",
    "print(\"Shape of the X_test_acc:\", X_test_acc.shape)\n",
    "\n",
    "# Loading train and test labels \n",
    "y_train_acc = pd.read_csv('UCI HAR Dataset/train/y_train.txt', sep='\\s+', header=None, names=['Activity'])\n",
    "y_test_acc = pd.read_csv('UCI HAR Dataset/test/y_test.txt', sep='\\s+', header=None, names=['Activity'])\n",
    "\n",
    "print(\"Shape of y_train_acc:\", y_train_acc.shape)\n",
    "print(\"Shape of y_test_acc:\", y_test_acc.shape)\n",
    "\n",
    "def obtain_features(X):\n",
    "    # Initialize TSFEL feature configuration\n",
    "    cfg = tsfel.get_features_by_domain()\n",
    "    tsfel_features = []\n",
    "    \n",
    "    for sample in X:\n",
    "        # Each sample is a time series with shape (time_steps, 3)\n",
    "        sample_features = tsfel.time_series_features_extractor(cfg, sample)\n",
    "        \n",
    "        # Convert the DataFrame to a 1D array\n",
    "        sample_features_flat = sample_features.values.flatten()\n",
    "        \n",
    "        tsfel_features.append(sample_features_flat)\n",
    "\n",
    "    # Return as a DataFrame\n",
    "    tsfel_features_df = pd.DataFrame(np.array(tsfel_features))\n",
    "    return tsfel_features_df\n",
    "\n",
    "\n",
    "X_train_tsfel = obtain_features(X_train)\n",
    "X_test_tsfel = obtain_features(X_test)\n"
   ]
  },
  {
   "cell_type": "code",
   "execution_count": 3,
   "id": "577b3162",
   "metadata": {},
   "outputs": [
    {
     "data": {
      "text/html": [
       "<div>\n",
       "<style scoped>\n",
       "    .dataframe tbody tr th:only-of-type {\n",
       "        vertical-align: middle;\n",
       "    }\n",
       "\n",
       "    .dataframe tbody tr th {\n",
       "        vertical-align: top;\n",
       "    }\n",
       "\n",
       "    .dataframe thead th {\n",
       "        text-align: right;\n",
       "    }\n",
       "</style>\n",
       "<table border=\"1\" class=\"dataframe\">\n",
       "  <thead>\n",
       "    <tr style=\"text-align: right;\">\n",
       "      <th></th>\n",
       "      <th>0</th>\n",
       "      <th>1</th>\n",
       "      <th>2</th>\n",
       "      <th>3</th>\n",
       "      <th>4</th>\n",
       "      <th>5</th>\n",
       "      <th>6</th>\n",
       "      <th>7</th>\n",
       "      <th>8</th>\n",
       "      <th>9</th>\n",
       "      <th>...</th>\n",
       "      <th>1142</th>\n",
       "      <th>1143</th>\n",
       "      <th>1144</th>\n",
       "      <th>1145</th>\n",
       "      <th>1146</th>\n",
       "      <th>1147</th>\n",
       "      <th>1148</th>\n",
       "      <th>1149</th>\n",
       "      <th>1150</th>\n",
       "      <th>1151</th>\n",
       "    </tr>\n",
       "  </thead>\n",
       "  <tbody>\n",
       "    <tr>\n",
       "      <th>0</th>\n",
       "      <td>428.119592</td>\n",
       "      <td>4.504459</td>\n",
       "      <td>5.0</td>\n",
       "      <td>85.795509</td>\n",
       "      <td>2.502542</td>\n",
       "      <td>100.0</td>\n",
       "      <td>400.0</td>\n",
       "      <td>0.737727</td>\n",
       "      <td>1.086936</td>\n",
       "      <td>0.002</td>\n",
       "      <td>...</td>\n",
       "      <td>0.003322</td>\n",
       "      <td>0.019687</td>\n",
       "      <td>0.049441</td>\n",
       "      <td>0.092600</td>\n",
       "      <td>0.146952</td>\n",
       "      <td>0.206732</td>\n",
       "      <td>0.257520</td>\n",
       "      <td>0.283238</td>\n",
       "      <td>0.278961</td>\n",
       "      <td>0.0</td>\n",
       "    </tr>\n",
       "    <tr>\n",
       "      <th>1</th>\n",
       "      <td>32.768542</td>\n",
       "      <td>1.276929</td>\n",
       "      <td>26.0</td>\n",
       "      <td>6.566842</td>\n",
       "      <td>2.477941</td>\n",
       "      <td>100.0</td>\n",
       "      <td>400.0</td>\n",
       "      <td>0.249165</td>\n",
       "      <td>0.262091</td>\n",
       "      <td>0.002</td>\n",
       "      <td>...</td>\n",
       "      <td>0.000828</td>\n",
       "      <td>0.002949</td>\n",
       "      <td>0.006456</td>\n",
       "      <td>0.011349</td>\n",
       "      <td>0.017532</td>\n",
       "      <td>0.024986</td>\n",
       "      <td>0.033706</td>\n",
       "      <td>0.043662</td>\n",
       "      <td>0.054780</td>\n",
       "      <td>0.0</td>\n",
       "    </tr>\n",
       "    <tr>\n",
       "      <th>2</th>\n",
       "      <td>478.627177</td>\n",
       "      <td>4.882182</td>\n",
       "      <td>5.0</td>\n",
       "      <td>95.917270</td>\n",
       "      <td>2.494835</td>\n",
       "      <td>100.0</td>\n",
       "      <td>400.0</td>\n",
       "      <td>0.975656</td>\n",
       "      <td>0.980947</td>\n",
       "      <td>0.002</td>\n",
       "      <td>...</td>\n",
       "      <td>0.000127</td>\n",
       "      <td>0.000487</td>\n",
       "      <td>0.001049</td>\n",
       "      <td>0.001795</td>\n",
       "      <td>0.002722</td>\n",
       "      <td>0.003826</td>\n",
       "      <td>0.005097</td>\n",
       "      <td>0.006514</td>\n",
       "      <td>0.008064</td>\n",
       "      <td>0.0</td>\n",
       "    </tr>\n",
       "    <tr>\n",
       "      <th>3</th>\n",
       "      <td>477.002571</td>\n",
       "      <td>4.747669</td>\n",
       "      <td>5.0</td>\n",
       "      <td>95.591698</td>\n",
       "      <td>2.505107</td>\n",
       "      <td>100.0</td>\n",
       "      <td>400.0</td>\n",
       "      <td>0.762545</td>\n",
       "      <td>1.075617</td>\n",
       "      <td>0.002</td>\n",
       "      <td>...</td>\n",
       "      <td>0.002664</td>\n",
       "      <td>0.013335</td>\n",
       "      <td>0.032745</td>\n",
       "      <td>0.056265</td>\n",
       "      <td>0.077145</td>\n",
       "      <td>0.097067</td>\n",
       "      <td>0.119095</td>\n",
       "      <td>0.141653</td>\n",
       "      <td>0.162081</td>\n",
       "      <td>2.0</td>\n",
       "    </tr>\n",
       "    <tr>\n",
       "      <th>4</th>\n",
       "      <td>530.466450</td>\n",
       "      <td>5.002581</td>\n",
       "      <td>6.0</td>\n",
       "      <td>106.305902</td>\n",
       "      <td>2.498989</td>\n",
       "      <td>100.0</td>\n",
       "      <td>400.0</td>\n",
       "      <td>0.770530</td>\n",
       "      <td>1.234635</td>\n",
       "      <td>0.002</td>\n",
       "      <td>...</td>\n",
       "      <td>0.002535</td>\n",
       "      <td>0.015177</td>\n",
       "      <td>0.040367</td>\n",
       "      <td>0.069588</td>\n",
       "      <td>0.099245</td>\n",
       "      <td>0.131172</td>\n",
       "      <td>0.159307</td>\n",
       "      <td>0.173780</td>\n",
       "      <td>0.171967</td>\n",
       "      <td>20.0</td>\n",
       "    </tr>\n",
       "    <tr>\n",
       "      <th>...</th>\n",
       "      <td>...</td>\n",
       "      <td>...</td>\n",
       "      <td>...</td>\n",
       "      <td>...</td>\n",
       "      <td>...</td>\n",
       "      <td>...</td>\n",
       "      <td>...</td>\n",
       "      <td>...</td>\n",
       "      <td>...</td>\n",
       "      <td>...</td>\n",
       "      <td>...</td>\n",
       "      <td>...</td>\n",
       "      <td>...</td>\n",
       "      <td>...</td>\n",
       "      <td>...</td>\n",
       "      <td>...</td>\n",
       "      <td>...</td>\n",
       "      <td>...</td>\n",
       "      <td>...</td>\n",
       "      <td>...</td>\n",
       "      <td>...</td>\n",
       "    </tr>\n",
       "    <tr>\n",
       "      <th>121</th>\n",
       "      <td>497.739114</td>\n",
       "      <td>4.877595</td>\n",
       "      <td>3.0</td>\n",
       "      <td>99.747317</td>\n",
       "      <td>2.472182</td>\n",
       "      <td>100.0</td>\n",
       "      <td>400.0</td>\n",
       "      <td>0.784800</td>\n",
       "      <td>1.202131</td>\n",
       "      <td>0.002</td>\n",
       "      <td>...</td>\n",
       "      <td>0.009342</td>\n",
       "      <td>0.034796</td>\n",
       "      <td>0.057884</td>\n",
       "      <td>0.100034</td>\n",
       "      <td>0.153607</td>\n",
       "      <td>0.202996</td>\n",
       "      <td>0.225477</td>\n",
       "      <td>0.211677</td>\n",
       "      <td>0.172606</td>\n",
       "      <td>10.0</td>\n",
       "    </tr>\n",
       "    <tr>\n",
       "      <th>122</th>\n",
       "      <td>340.897228</td>\n",
       "      <td>4.103581</td>\n",
       "      <td>84.0</td>\n",
       "      <td>68.316078</td>\n",
       "      <td>2.297769</td>\n",
       "      <td>100.0</td>\n",
       "      <td>400.0</td>\n",
       "      <td>0.776342</td>\n",
       "      <td>0.926267</td>\n",
       "      <td>0.002</td>\n",
       "      <td>...</td>\n",
       "      <td>0.000305</td>\n",
       "      <td>0.001307</td>\n",
       "      <td>0.003269</td>\n",
       "      <td>0.006416</td>\n",
       "      <td>0.010984</td>\n",
       "      <td>0.016855</td>\n",
       "      <td>0.023610</td>\n",
       "      <td>0.030696</td>\n",
       "      <td>0.037616</td>\n",
       "      <td>0.0</td>\n",
       "    </tr>\n",
       "    <tr>\n",
       "      <th>123</th>\n",
       "      <td>17.727040</td>\n",
       "      <td>0.939261</td>\n",
       "      <td>43.0</td>\n",
       "      <td>3.552513</td>\n",
       "      <td>2.506691</td>\n",
       "      <td>100.0</td>\n",
       "      <td>400.0</td>\n",
       "      <td>0.183463</td>\n",
       "      <td>0.192260</td>\n",
       "      <td>0.002</td>\n",
       "      <td>...</td>\n",
       "      <td>0.001052</td>\n",
       "      <td>0.003667</td>\n",
       "      <td>0.007924</td>\n",
       "      <td>0.013976</td>\n",
       "      <td>0.021732</td>\n",
       "      <td>0.031070</td>\n",
       "      <td>0.041836</td>\n",
       "      <td>0.053900</td>\n",
       "      <td>0.067207</td>\n",
       "      <td>0.0</td>\n",
       "    </tr>\n",
       "    <tr>\n",
       "      <th>124</th>\n",
       "      <td>430.187347</td>\n",
       "      <td>4.514342</td>\n",
       "      <td>5.0</td>\n",
       "      <td>86.209889</td>\n",
       "      <td>2.457373</td>\n",
       "      <td>100.0</td>\n",
       "      <td>400.0</td>\n",
       "      <td>0.732451</td>\n",
       "      <td>1.062091</td>\n",
       "      <td>0.002</td>\n",
       "      <td>...</td>\n",
       "      <td>0.004605</td>\n",
       "      <td>0.020702</td>\n",
       "      <td>0.042012</td>\n",
       "      <td>0.073398</td>\n",
       "      <td>0.119603</td>\n",
       "      <td>0.177105</td>\n",
       "      <td>0.233516</td>\n",
       "      <td>0.276743</td>\n",
       "      <td>0.303233</td>\n",
       "      <td>8.0</td>\n",
       "    </tr>\n",
       "    <tr>\n",
       "      <th>125</th>\n",
       "      <td>468.020212</td>\n",
       "      <td>4.603817</td>\n",
       "      <td>5.0</td>\n",
       "      <td>93.791626</td>\n",
       "      <td>2.455467</td>\n",
       "      <td>100.0</td>\n",
       "      <td>400.0</td>\n",
       "      <td>0.646158</td>\n",
       "      <td>1.188348</td>\n",
       "      <td>0.002</td>\n",
       "      <td>...</td>\n",
       "      <td>0.002757</td>\n",
       "      <td>0.021342</td>\n",
       "      <td>0.060660</td>\n",
       "      <td>0.128840</td>\n",
       "      <td>0.225999</td>\n",
       "      <td>0.328541</td>\n",
       "      <td>0.398708</td>\n",
       "      <td>0.412737</td>\n",
       "      <td>0.375416</td>\n",
       "      <td>0.0</td>\n",
       "    </tr>\n",
       "  </tbody>\n",
       "</table>\n",
       "<p>126 rows × 1152 columns</p>\n",
       "</div>"
      ],
      "text/plain": [
       "           0         1     2           3         4      5      6         7     \\\n",
       "0    428.119592  4.504459   5.0   85.795509  2.502542  100.0  400.0  0.737727   \n",
       "1     32.768542  1.276929  26.0    6.566842  2.477941  100.0  400.0  0.249165   \n",
       "2    478.627177  4.882182   5.0   95.917270  2.494835  100.0  400.0  0.975656   \n",
       "3    477.002571  4.747669   5.0   95.591698  2.505107  100.0  400.0  0.762545   \n",
       "4    530.466450  5.002581   6.0  106.305902  2.498989  100.0  400.0  0.770530   \n",
       "..          ...       ...   ...         ...       ...    ...    ...       ...   \n",
       "121  497.739114  4.877595   3.0   99.747317  2.472182  100.0  400.0  0.784800   \n",
       "122  340.897228  4.103581  84.0   68.316078  2.297769  100.0  400.0  0.776342   \n",
       "123   17.727040  0.939261  43.0    3.552513  2.506691  100.0  400.0  0.183463   \n",
       "124  430.187347  4.514342   5.0   86.209889  2.457373  100.0  400.0  0.732451   \n",
       "125  468.020212  4.603817   5.0   93.791626  2.455467  100.0  400.0  0.646158   \n",
       "\n",
       "         8      9     ...      1142      1143      1144      1145      1146  \\\n",
       "0    1.086936  0.002  ...  0.003322  0.019687  0.049441  0.092600  0.146952   \n",
       "1    0.262091  0.002  ...  0.000828  0.002949  0.006456  0.011349  0.017532   \n",
       "2    0.980947  0.002  ...  0.000127  0.000487  0.001049  0.001795  0.002722   \n",
       "3    1.075617  0.002  ...  0.002664  0.013335  0.032745  0.056265  0.077145   \n",
       "4    1.234635  0.002  ...  0.002535  0.015177  0.040367  0.069588  0.099245   \n",
       "..        ...    ...  ...       ...       ...       ...       ...       ...   \n",
       "121  1.202131  0.002  ...  0.009342  0.034796  0.057884  0.100034  0.153607   \n",
       "122  0.926267  0.002  ...  0.000305  0.001307  0.003269  0.006416  0.010984   \n",
       "123  0.192260  0.002  ...  0.001052  0.003667  0.007924  0.013976  0.021732   \n",
       "124  1.062091  0.002  ...  0.004605  0.020702  0.042012  0.073398  0.119603   \n",
       "125  1.188348  0.002  ...  0.002757  0.021342  0.060660  0.128840  0.225999   \n",
       "\n",
       "         1147      1148      1149      1150  1151  \n",
       "0    0.206732  0.257520  0.283238  0.278961   0.0  \n",
       "1    0.024986  0.033706  0.043662  0.054780   0.0  \n",
       "2    0.003826  0.005097  0.006514  0.008064   0.0  \n",
       "3    0.097067  0.119095  0.141653  0.162081   2.0  \n",
       "4    0.131172  0.159307  0.173780  0.171967  20.0  \n",
       "..        ...       ...       ...       ...   ...  \n",
       "121  0.202996  0.225477  0.211677  0.172606  10.0  \n",
       "122  0.016855  0.023610  0.030696  0.037616   0.0  \n",
       "123  0.031070  0.041836  0.053900  0.067207   0.0  \n",
       "124  0.177105  0.233516  0.276743  0.303233   8.0  \n",
       "125  0.328541  0.398708  0.412737  0.375416   0.0  \n",
       "\n",
       "[126 rows x 1152 columns]"
      ]
     },
     "execution_count": 3,
     "metadata": {},
     "output_type": "execute_result"
    }
   ],
   "source": [
    "X_train_tsfel"
   ]
  },
  {
   "cell_type": "code",
   "execution_count": 4,
   "id": "1b2504af",
   "metadata": {},
   "outputs": [
    {
     "data": {
      "text/plain": [
       "(126, 2)"
      ]
     },
     "execution_count": 4,
     "metadata": {},
     "output_type": "execute_result"
    }
   ],
   "source": [
    "import numpy as np\n",
    "from sklearn.decomposition import PCA\n",
    "from sklearn.preprocessing import StandardScaler\n",
    "\n",
    "\n",
    "pca = PCA(n_components=2)\n",
    "\n",
    "scaler = StandardScaler()\n",
    "# X_train_tsfel_stand = scaler.fit_transform(X_train_tsfel)\n",
    "# X_test_tsfel_stand = scaler.fit_transform(X_test_tsfel)\n",
    "\n",
    "X_train_tsfel_pca = pca.fit_transform(X_train_tsfel)\n",
    "\n",
    "X_test_tsfel_pca = pca.transform(X_test_tsfel)\n",
    "\n",
    "X_train_tsfel_pca.shape"
   ]
  },
  {
   "cell_type": "code",
   "execution_count": 5,
   "id": "0f643733",
   "metadata": {},
   "outputs": [
    {
     "data": {
      "text/plain": [
       "(2,)"
      ]
     },
     "execution_count": 5,
     "metadata": {},
     "output_type": "execute_result"
    }
   ],
   "source": [
    "\n",
    "# This code block processes the dataset made by makedataset and breaks it into activity wise \n",
    "# Taking the mean column wise for to ensure that all samples have contibution in training and avoiding bias if any\n",
    "activity_1_train = X_train_tsfel_pca[np.where(y_train == 1)].mean(axis=0)\n",
    "activity_2_train = X_train_tsfel_pca[np.where(y_train == 2)].mean(axis=0)\n",
    "activity_3_train = X_train_tsfel_pca[np.where(y_train == 3)].mean(axis=0)\n",
    "activity_4_train = X_train_tsfel_pca[np.where(y_train == 4)].mean(axis=0)\n",
    "activity_5_train = X_train_tsfel_pca[np.where(y_train == 5)].mean(axis=0)\n",
    "activity_6_train = X_train_tsfel_pca[np.where(y_train == 6)].mean(axis=0)\n",
    "\n",
    "activity_1_test = X_test_tsfel_pca[np.where(y_test == 1)]\n",
    "activity_2_test = X_test_tsfel_pca[np.where(y_test == 2)]\n",
    "activity_3_test = X_test_tsfel_pca[np.where(y_test == 3)]\n",
    "activity_4_test = X_test_tsfel_pca[np.where(y_test == 4)]\n",
    "activity_5_test = X_test_tsfel_pca[np.where(y_test == 5)]\n",
    "activity_6_test = X_test_tsfel_pca[np.where(y_test == 6)]\n",
    "\n",
    "activity_1_train.shape"
   ]
  },
  {
   "cell_type": "markdown",
   "id": "6ac2e00b",
   "metadata": {},
   "source": [
    "# Processing the raw data to feed to llm"
   ]
  },
  {
   "cell_type": "code",
   "execution_count": 6,
   "id": "92ea4ba6-0336-43bd-9f11-e26f98177fe0",
   "metadata": {},
   "outputs": [],
   "source": [
    "# importing all the required libraries and modules\n",
    "from MakeDataset import X_train,X_test,y_train,y_test\n",
    "columns = [\"accx\",\"accy\",\"accz\"]"
   ]
  },
  {
   "cell_type": "code",
   "execution_count": null,
   "id": "e14ea594",
   "metadata": {},
   "outputs": [],
   "source": []
  },
  {
   "cell_type": "code",
   "execution_count": 7,
   "id": "a2f4838a-9ea9-4498-8d96-b36a000a1861",
   "metadata": {},
   "outputs": [],
   "source": [
    "# This code block processes the dataset made by makedataset and breaks it into activity wise \n",
    "# Then the data is classified into three classes corresponding to the axis\n",
    "\n",
    "accx_train = X_train[:,:,0]\n",
    "accy_train = X_train[:,:,1]\n",
    "accz_train = X_train[:,:,2]\n",
    "\n",
    "accx_train_1 = accx_train[np.where(y_train==1)]\n",
    "accy_train_1 = accy_train[np.where(y_train==1)]\n",
    "accz_train_1 = accz_train[np.where(y_train==1)]\n",
    "\n",
    "accx_train_2 = accx_train[np.where(y_train==2)]\n",
    "accy_train_2 = accy_train[np.where(y_train==2)]\n",
    "accz_train_2 = accz_train[np.where(y_train==2)]\n",
    "\n",
    "accx_train_3 = accx_train[np.where(y_train==3)]\n",
    "accy_train_3 = accy_train[np.where(y_train==3)]\n",
    "accz_train_3 = accz_train[np.where(y_train==3)]\n",
    "\n",
    "accx_train_4 = accx_train[np.where(y_train==4)]\n",
    "accy_train_4 = accy_train[np.where(y_train==4)]\n",
    "accz_train_4 = accz_train[np.where(y_train==4)]\n",
    "\n",
    "accx_train_5 = accx_train[np.where(y_train==5)]\n",
    "accy_train_5 = accy_train[np.where(y_train==5)]\n",
    "accz_train_5 = accz_train[np.where(y_train==5)]\n",
    "\n",
    "accx_train_6 = accx_train[np.where(y_train==6)]\n",
    "accy_train_6 = accy_train[np.where(y_train==6)]\n",
    "accz_train_6 = accz_train[np.where(y_train==6)]\n",
    "\n",
    "\n",
    "\n",
    "\n",
    "accx_test = X_test[:,:,0]\n",
    "accy_test = X_test[:,:,1]\n",
    "accz_test = X_test[:,:,2]\n",
    "\n",
    "accx_test_1 = accx_test[np.where(y_test==1)]\n",
    "accy_test_1 = accy_test[np.where(y_test==1)]\n",
    "accz_test_1 = accz_test[np.where(y_test==1)]\n",
    "\n",
    "accx_test_2 = accx_test[np.where(y_test==2)]\n",
    "accy_test_2 = accy_test[np.where(y_test==2)]\n",
    "accz_test_2 = accz_test[np.where(y_test==2)]\n",
    "\n",
    "accx_test_3 = accx_test[np.where(y_test==3)]\n",
    "accy_test_3 = accy_test[np.where(y_test==3)]\n",
    "accz_test_3 = accz_test[np.where(y_test==3)]\n",
    "\n",
    "accx_test_4 = accx_test[np.where(y_test==4)]\n",
    "accy_test_4 = accy_test[np.where(y_test==4)]\n",
    "accz_test_4 = accz_test[np.where(y_test==4)]\n",
    "\n",
    "accx_test_5 = accx_test[np.where(y_test==5)]\n",
    "accy_test_5 = accy_test[np.where(y_test==5)]\n",
    "accz_test_5 = accz_test[np.where(y_test==5)]\n",
    "\n",
    "accx_test_6 = accx_test[np.where(y_test==6)]\n",
    "accy_test_6 = accy_test[np.where(y_test==6)]\n",
    "accz_test_6 = accz_test[np.where(y_test==6)]"
   ]
  },
  {
   "cell_type": "code",
   "execution_count": 8,
   "id": "eea07eaa-ffaa-4827-b367-610e29c1c005",
   "metadata": {},
   "outputs": [
    {
     "data": {
      "text/plain": [
       "(21, 500)"
      ]
     },
     "execution_count": 8,
     "metadata": {},
     "output_type": "execute_result"
    }
   ],
   "source": [
    "accx_train_1.shape"
   ]
  },
  {
   "cell_type": "markdown",
   "id": "5a66ecd1-5ac0-4585-b0cd-466d92ddcffa",
   "metadata": {},
   "source": [
    "# Q1 \n",
    "## Demonstrate how to use Zero-Shot Learning and Few-Shot Learning to classify human activities based on the featurized accelerometer data. Qualitatively demonstrate the performance of Few-Shot Learning with Zero-Shot Learning. Which method performs better? Why?"
   ]
  },
  {
   "cell_type": "markdown",
   "id": "14fe030a",
   "metadata": {},
   "source": [
    "## Comparing Zero Shot learning with Few shot learning\n",
    "**Zero Shot**:\n",
    "\n",
    "Zero shot learning depends on the prior knowledge about activities. It uses its knowledge to generalize to new activities. It is not trained in any way to classify the activities. It generalizes from the previously seen information and generalizes it to apply on new classes. ZSL requires no training data. It uses it prior knowledge to generalize the activities that it has seen before to classify new activities.\n",
    "\n",
    "**Few Shot**:\n",
    "\n",
    "In few shot learning we have to give llm few labelled examples for each target class. It uses the training data and its prior knowledge about the activiites to predict the new activities. The idea here is to provide the examples of the activities to the model so that it can generalize better. In fsl some amount of training data has to be fed to model.\n",
    "\n",
    "*(**Conclusion**)*\n",
    "\n",
    "Few shot have access to some training examples and hence it should be able to generalize better than zero shot learning. Although this methods are called learning no learning is happening in both cases as we cannot change the parameters of LLM. This method is used to engineer our prompts to LLM in such a way that we can get the best out of it. As these LLMs are very heavily trained, if we structure our queries appropriately then without training separate models we can get decent accuracy from it. ZSL and FSL leverages the ability  of the LLMS to generalize to predict the required data.\n",
    "\n",
    "\n",
    "**Explanation**\n",
    "\n",
    "We have compared the ZSL and FSL on both the datasets i.e the Raw data and TSFEL featurized data. In raw data we had given the accelerations of the x,y,and z axis to the model. In tsfel data, first the raw data is converted to tsfel featurized data and then pca is performed to convert reduce the numbr of features to 2. Then this featurized data is given in the prompts.\n",
    "\n"
   ]
  },
  {
   "cell_type": "markdown",
   "id": "16a98a0c",
   "metadata": {},
   "source": [
    "## Raw Data"
   ]
  },
  {
   "cell_type": "markdown",
   "id": "469d065d",
   "metadata": {},
   "source": [
    "#### Zero Shot"
   ]
  },
  {
   "cell_type": "code",
   "execution_count": 8,
   "id": "9e1d8519-34fb-41e7-ad64-5cfe41f63811",
   "metadata": {},
   "outputs": [
    {
     "name": "stdout",
     "output_type": "stream",
     "text": [
      "To analyze the raw data and determine which activity is being represented, we can use machine learning techniques. However, since we don't have any information about the frequency of the data or any other features, we will use a simple approach based on the mean and standard deviation of the acceleration data.\n",
      "\n",
      "Here is a Python code snippet that calculates the mean and standard deviation of the acceleration data:\n",
      "\n",
      "```python\n",
      "import numpy as np\n",
      "\n",
      "# Acceleration data\n",
      "x = np.array([1.293474, 1.258798, 1.258902, 1.298809, 1.249609, 1.131613])\n",
      "y = np.array([-0.3140436, -0.2909032, -0.3451832, -0.1623915, -0.1277557, -0.1094069])\n",
      "z = np.array([-0.2480047, -0.5137133, -0.505633, 0.2293238, 0.2178894, 0.1858648])\n",
      "\n",
      "# Calculate mean and standard deviation\n",
      "mean_x = np.mean(x)\n",
      "mean_y = np.mean(y)\n",
      "mean_z = np.mean(z)\n",
      "\n",
      "std_x = np.std(x)\n",
      "std_y = np.std(y)\n",
      "std_z = np.std(z)\n",
      "\n",
      "print(\"Mean X: \", mean_x)\n",
      "print(\"Mean Y: \", mean_y)\n",
      "print(\"Mean Z: \", mean_z)\n",
      "print(\"Standard Deviation X: \", std_x)\n",
      "print(\"Standard Deviation Y: \", std_y)\n",
      "print(\"Standard Deviation Z: \", std_z)\n",
      "```\n",
      "\n",
      "Based on the calculated mean and standard deviation values, we can make an educated guess about the activity being represented.\n",
      "\n",
      "Here are some general observations about the activities:\n",
      "\n",
      "- Walking: The acceleration in the x-direction is relatively high, and the acceleration in the y and z-directions is relatively low.\n",
      "- Walking Upstairs: The acceleration in the x and y-directions is relatively high, and the acceleration in the z-direction is relatively low.\n",
      "- Walking Downstairs: The acceleration in the x and y-directions is relatively high, and the acceleration in the z-direction is relatively low.\n",
      "- Sitting: The acceleration in all directions is relatively low.\n",
      "- Standing: The acceleration in all directions is relatively low.\n",
      "- Laying: The acceleration in all directions is relatively low.\n",
      "\n",
      "Based on the provided data, the mean acceleration in the x-direction is around 1.25, which is relatively high. The mean acceleration in the y and z-directions is relatively low. The standard deviation of the acceleration in all directions is relatively low.\n",
      "\n",
      "Based on these observations, the activity being represented is likely **1. WALKING**.\n",
      "\n",
      "However, please note that this is a simple approach and may not be accurate in all cases. A more accurate approach would involve using machine learning techniques and a larger dataset.\n"
     ]
    }
   ],
   "source": [
    "# Implementation of Zero shot learning\n",
    "\n",
    "# Data feed is of walking downstairs and the predicted is  walking \n",
    "\n",
    "# Making up the query to feed to model\n",
    "query = f\"\"\"\n",
    "You are being provided with experimental data containing acceleration in x, y, and z directions. \n",
    "This data is collected from humans performing the following activities:\n",
    "1. Walking\n",
    "2. Walking Upstairs\n",
    "3. Walking Downstairs\n",
    "4. Sitting\n",
    "5. Standing\n",
    "6. Laying\n",
    "\n",
    "Your task is to analyze the raw data and determine which activity is being represented based on the above-mentioned activities. \n",
    "You have to give the answer from above mentioned options. Give answer in form e.g. 4.SITTING\n",
    "The acceleration data contains multiple readings of the same activity in a 2D array, with the shape (number of samples, number of readings per axis).\n",
    "\n",
    "Acceleration in x direction: {accx_test_3.ravel()}\n",
    "Acceleration in y direction: {accy_test_3.ravel()}\n",
    "Acceleration in z direction: {accz_test_3.ravel()}\n",
    "\n",
    "\"\"\"\n",
    "\n",
    "\n",
    " \n",
    "#  Sending the query to model\n",
    "model_name = model\n",
    "llm = ChatGroq(model=groq_models[model_name], api_key=Groq_Token, temperature=0)\n",
    "answer = llm.invoke(query)\n",
    "\n",
    "# Accessing the response of the model\n",
    "print(answer.content)"
   ]
  },
  {
   "cell_type": "markdown",
   "id": "30ed2551",
   "metadata": {},
   "source": [
    "#### Few Shot"
   ]
  },
  {
   "cell_type": "code",
   "execution_count": 35,
   "id": "9cee8b14-79eb-4cc9-9028-cf3766e21cfe",
   "metadata": {},
   "outputs": [
    {
     "name": "stdout",
     "output_type": "stream",
     "text": [
      "Based on the provided data, I will analyze the characteristics of each activity and then compare them with the given raw data to determine the type of activity it represents.\n",
      "\n",
      "**Analysis of the provided data:**\n",
      "\n",
      "1. **Walking**: The acceleration in the x-direction is relatively high, with a mean around 0.9. The y-direction acceleration is low, with a mean around -0.2. The z-direction acceleration is also low, with a mean around 0.2.\n",
      "2. **Walking Upstairs**: The acceleration in the x-direction is high, with a mean around 1.1. The y-direction acceleration is low, with a mean around -0.2. The z-direction acceleration is low, with a mean around -0.7.\n",
      "3. **Walking Downstairs**: The acceleration in the x-direction is high, with a mean around 1.1. The y-direction acceleration is low, with a mean around -0.2. The z-direction acceleration is low, with a mean around -0.3.\n",
      "4. **Sitting**: The acceleration in the x-direction is relatively low, with a mean around 0.8. The y-direction acceleration is high, with a mean around 0.5. The z-direction acceleration is also high, with a mean around 0.4.\n",
      "5. **Standing**: The acceleration in the x-direction is relatively high, with a mean around 1.0. The y-direction acceleration is low, with a mean around -0.2. The z-direction acceleration is low, with a mean around -0.3.\n",
      "6. **Laying**: The acceleration in the x-direction is low, with a mean around 0.2. The y-direction acceleration is high, with a mean around 0.6. The z-direction acceleration is also high, with a mean around 0.8.\n",
      "\n",
      "**Comparison with the raw data:**\n",
      "\n",
      "The raw data has the following characteristics:\n",
      "\n",
      "* Acceleration in the x-direction: mean around 1.2, which is similar to Walking Upstairs and Walking Downstairs.\n",
      "* Acceleration in the y-direction: mean around -0.3, which is similar to Walking Upstairs and Walking Downstairs.\n",
      "* Acceleration in the z-direction: mean around -0.2, which is similar to Walking Downstairs.\n",
      "\n",
      "Based on these similarities, I would conclude that the raw data represents **Walking Downstairs**. The acceleration patterns in the x, y, and z directions are consistent with this activity.\n",
      "\n",
      "**Additional analysis:**\n",
      "\n",
      "To further confirm this conclusion, we could perform additional analysis, such as:\n",
      "\n",
      "* Principal Component Analysis (PCA) to reduce the dimensionality of the data and identify the most important features.\n",
      "* Statistical analysis, such as mean, mode, median, and standard deviation, to compare the raw data with the provided data.\n",
      "* Machine learning algorithms, such as classification or clustering, to classify the raw data into one of the six activities.\n",
      "\n",
      "However, based on the initial analysis, Walking Downstairs appears to be the most likely activity represented by the raw data.\n"
     ]
    }
   ],
   "source": [
    "# Implementation of few shot learning\n",
    "# Data given to model is of walking downstairs and the prediction is also walking downstairs\n",
    "query = f\"\"\"\n",
    "You are being provided with the experimental data containing the acceleration in x,y and z directions. \n",
    "This data is collected by humans performing  following activities and the data is 2 dimensional that means that \n",
    "there are multiple data readingsof same activity within the single one provided to you\n",
    "1.WALKING\n",
    "Acceleration in x direction: {accx_train_1.ravel()}\n",
    "Acceleration in y direction: {accy_train_1.ravel()}\n",
    "Acceleration in z direction: {accz_train_1.ravel()}\n",
    "\n",
    "2.WALKING_UPSTAIRS\n",
    "Acceleration in x direction: {accx_train_2.ravel()}\n",
    "Acceleration in y direction: {accy_train_2.ravel()}\n",
    "Acceleration in z direction: {accz_train_2.ravel()}\n",
    "\n",
    "3.WALKING_DOWNSTAIRS\n",
    "Acceleration in x direction: {accx_train_3.ravel()}\n",
    "Acceleration in y direction: {accy_train_3.ravel()}\n",
    "Acceleration in z direction: {accz_train_3.ravel()}\n",
    "\n",
    "4.SITTING\n",
    "Acceleration in x direction: {accx_train_4.ravel()}\n",
    "Acceleration in y direction: {accy_train_4.ravel()}\n",
    "Acceleration in z direction: {accz_train_4.ravel()}\n",
    "\n",
    "5.STANDING\n",
    "Acceleration in x direction: {accx_train_5.ravel()}\n",
    "Acceleration in y direction: {accy_train_5.ravel()}\n",
    "Acceleration in z direction: {accz_train_5.ravel()}\n",
    "\n",
    "6.LAYING\n",
    "Acceleration in x direction: {accx_train_6.ravel()}\n",
    "Acceleration in y direction: {accy_train_6.ravel()}\n",
    "Acceleration in z direction: {accz_train_6.ravel()}\n",
    "\n",
    "\n",
    "your task is to analyse the data given above and then analyse the following raw data and say what is the data representing out of the above mentioned activities\n",
    "\n",
    "You can perform PCA analysis,statistical analysis like mean,mode,median,standard deviation and other sush relevant analysis to find the typeof activity\n",
    "Dont give the code .\n",
    "\n",
    "Acceleration in x direction: {accx_test_3.ravel()}\n",
    "Acceleration in y direction: {accy_test_3.ravel()}\n",
    "Acceleration in z direction: {accz_test_3.ravel()}\n",
    "\n",
    "\"\"\" \n",
    "\n",
    "# print(len(query))\n",
    "\n",
    "# Sending the query to model\n",
    "model_name = model\n",
    "llm = ChatGroq(model=groq_models[model_name], api_key=Groq_Token, temperature=0)\n",
    "answer = llm.invoke(query)\n",
    "\n",
    "# Accessing the response of the model\n",
    "print(answer.content)\n"
   ]
  },
  {
   "cell_type": "markdown",
   "id": "400a30c9",
   "metadata": {},
   "source": [
    "## Featurized data made by tsfel"
   ]
  },
  {
   "cell_type": "markdown",
   "id": "b22e7bda",
   "metadata": {},
   "source": [
    "#### Zero Shot"
   ]
  },
  {
   "cell_type": "code",
   "execution_count": 12,
   "id": "d06e2db5",
   "metadata": {},
   "outputs": [
    {
     "name": "stdout",
     "output_type": "stream",
     "text": [
      "Based on the given data, I will analyze the principal components obtained after applying PCA to reduce the features to 2.\n",
      "\n",
      "The given data is: [15690.4024474  26758.85451829]\n",
      "\n",
      "Since the data is a result of PCA, these two values represent the two most important features of the original data.\n",
      "\n",
      "To analyze this data, I will consider the magnitude and ratio of these two values.\n",
      "\n",
      "- The first value (15690.4024474) is relatively smaller than the second value (26758.85451829). This suggests that the activity being represented has a higher acceleration in one direction (likely the vertical direction, i.e., z-axis) compared to the other direction (likely the horizontal direction, i.e., x-axis or y-axis).\n",
      "\n",
      "- The ratio of the two values is approximately 1:1.7, which indicates that the acceleration in the dominant direction is about 1.7 times the acceleration in the other direction.\n",
      "\n",
      "Considering the given activities and the analysis above, I would conclude that the activity being represented is likely \"Walking Upstairs\".\n",
      "\n",
      "This is because walking upstairs typically involves a higher acceleration in the vertical direction (z-axis) due to the upward movement, which is consistent with the higher value of the second principal component. Additionally, the ratio of the two values suggests a moderate difference in acceleration between the vertical and horizontal directions, which is also consistent with walking upstairs.\n"
     ]
    }
   ],
   "source": [
    "# Zero shot\n",
    "\n",
    "# Implementation of Zero shot learning\n",
    "# Given activity is standing but the predicted is sitting\n",
    "\n",
    "# Making up the query to feed to model\n",
    "query = f\"\"\"\n",
    "This data is collected from humans performing the following activities:\\\n",
    "The collected data has acceleration of x axis, yaxis and z axis\n",
    "1. Walking\n",
    "2. Walking Upstairs\n",
    "3. Walking Downstairs\n",
    "4. Sitting\n",
    "5. Standing\n",
    "6. Laying\n",
    "\n",
    "\n",
    "The data is then processed by tsfel library and now you will be given the data processed by tsfel and pca is conducted to reducce the features to 2.\n",
    "\n",
    "Your task is to analyze the data and determine which activity is being represented based on the above-mentioned activities. \n",
    "The acceleration data contains multiple readings of the same activity in a 2D array, with the shape (number of samples, number of readings per axis).\n",
    "DATA:\n",
    "{activity_5_test[0]}\n",
    "\n",
    "Dont give the code give the answer as per your analysis\n",
    "\"\"\"\n",
    "\n",
    "\n",
    " \n",
    "#  Sending the query to model\n",
    "model_name = model\n",
    "llm = ChatGroq(model=groq_models[model_name], api_key=Groq_Token, temperature=0)\n",
    "answer = llm.invoke(query)\n",
    "\n",
    "# Accessing the response of the model\n",
    "print(answer.content)\n"
   ]
  },
  {
   "cell_type": "markdown",
   "id": "2524503e",
   "metadata": {},
   "source": [
    "#### Few Shot"
   ]
  },
  {
   "cell_type": "code",
   "execution_count": 14,
   "id": "644c3023",
   "metadata": {},
   "outputs": [
    {
     "name": "stdout",
     "output_type": "stream",
     "text": [
      "Based on the provided data, we can analyze the patterns and relationships between the activities and their corresponding feature values.\n",
      "\n",
      "From the given data, we can observe that:\n",
      "\n",
      "- The first feature (x-axis) seems to be related to the intensity or magnitude of the activity. For example, walking upstairs and downstairs have lower values compared to laying, which suggests that laying might be associated with higher acceleration values.\n",
      "- The second feature (y-axis) seems to be related to the orientation or direction of the activity. For example, walking upstairs and downstairs have negative values, while sitting and standing have positive values.\n",
      "\n",
      "Now, let's analyze the given data point:\n",
      "\n",
      "[ 62441.41537309 -13204.13492988]\n",
      "\n",
      "Comparing this data point with the provided data, we can see that:\n",
      "\n",
      "- The first feature value (62441.41537309) is closest to the value of LAYING (65139.7989958), which suggests that the activity might be similar to laying.\n",
      "- The second feature value (-13204.13492988) is also closest to the value of LAYING (-22863.46818667), which further supports the idea that the activity might be laying.\n",
      "\n",
      "Based on this analysis, I would predict that the given data point corresponds to the activity of **LAYING**.\n",
      "\n",
      "Note that this prediction is based on a simple analysis of the provided data and might not be accurate in all cases. A more robust approach would involve training a machine learning model on a larger dataset to improve the accuracy of the predictions.\n"
     ]
    }
   ],
   "source": [
    "# Implementation of few shot learning\n",
    "# Given activity is standing and the predicted is also standing\n",
    "\n",
    "query = f\"\"\"\n",
    "Organisation of data:\n",
    "The data of humans performing the below mentioned six activities is recorded. The data contained the accelerations in x axis, y axis and z axis.\n",
    "Then the data is processed using the tsfel library and new features are created out of the given features. \n",
    "Then PCA is conducted on the data to reduce the feature to 2.\n",
    "You are provided with this processed data for each activity.\n",
    "\n",
    "1.WALKING\n",
    "{activity_1_train}\n",
    "\n",
    "2.WALKING_UPSTAIRS\n",
    "{activity_2_train}\n",
    "\n",
    "3.WALKING_DOWNSTAIRS\n",
    "{activity_3_train}\n",
    "\n",
    "4.SITTING\n",
    "{activity_4_train}\n",
    "\n",
    "5.STANDING\n",
    "{activity_5_train}\n",
    "\n",
    "6.LAYING\n",
    "{activity_6_train}\n",
    "\n",
    "\n",
    "Your task is to analyse the data and give predictions for the below given data from the activity.\n",
    "\n",
    "{activity_6_test[2]}\n",
    "\n",
    "\"\"\" \n",
    "# print(activity_6_test)\n",
    "\n",
    "# Sending the query to model\n",
    "model_name = model\n",
    "llm = ChatGroq(model=groq_models[model_name], api_key=Groq_Token, temperature=0)\n",
    "answer = llm.invoke(query)\n",
    "\n",
    "# Accessing the response of the model\n",
    "print(answer.content)\n"
   ]
  },
  {
   "cell_type": "markdown",
   "id": "0e52e5d9-a615-47b5-ba89-92e51579c066",
   "metadata": {},
   "source": [
    "# Q2\n",
    "## Quantitatively compare the accuracy of Few-Shot Learning with Decision Trees (You may use a subset of the test set if you encounter rate-limiting issues). Which method performs better? Why?"
   ]
  },
  {
   "cell_type": "markdown",
   "id": "ef3c6d10",
   "metadata": {},
   "source": [
    "\n",
    "\n",
    "**Quantitative Comparison of Accuracy Between Few-Shot Learning (FSL) and Decision Tree Methods**\n",
    "\n",
    "In our analysis, we applied Few-Shot Learning (FSL) and Decision Tree methods to both raw data and data processed using TSFEL. \n",
    "\n",
    "1. **Few-Shot Learning (FSL):**  \n",
    "   - **On Raw Data:** After multiple experiments, the accuracy of Few-Shot Learning on raw data was observed to range between 45% and 55%.\n",
    "   - **On TSFEL Processed Data:** When applied to TSFEL-processed data, the model's accuracy improved, with the mean accuracy ranging from 60% to 65%.\n",
    "\n",
    "2. **Decision Tree:**  \n",
    "   - **On Raw Data:** The Decision Tree model showed better performance on raw data, with accuracy ranging from 70% to 80%.\n",
    "   - **On TSFEL Processed Data:** The model's accuracy further increased on TSFEL-processed data, achieving a range of 85% to 93%.\n",
    "\n",
    "3. **Zero-Shot Learning (ZSL):**  \n",
    "   - **On Raw and TSFEL Data:** We also experimented with Zero-Shot Learning on both raw and TSFEL-processed data. However, the accuracy was pretty low around 15%. \n",
    "\n",
    "**Conclusion:**\n",
    "\n",
    "\n",
    "**Which Method Performs Better ??**\n",
    "\n",
    "The analysis reveals that both Few-Shot Learning and Decision Tree models perform better when applied to TSFEL-processed data compared to raw data. The Decision Tree model consistently outperforms Few-Shot Learning, suggesting it as a better choice for the datasets used in this study. Zero-Shot Learning, on the other hand, did not produce useful/reasonable outcomes which was expected.\n",
    "\n",
    "**Why decision tree is better ??**\n",
    "\n",
    "Decision trees perform better than few shots because few shots use text data to predict activities. In contrast, the decision tree learns the features and values through information gains, which makes it better than Few Shot. Few Shot generalizes its knowledge and uses the few examples provided to predict the activity, and decision trees learn the features and values according to the dataset. No learning happens in a few shots.\n"
   ]
  },
  {
   "cell_type": "markdown",
   "id": "97a84d79",
   "metadata": {},
   "source": [
    "### Note\n",
    "\n",
    "Due to limitations on API requests, we created several API keys from different accounts. \n",
    "\n",
    "Another challenge we faced was random internal server errors, which disrupted the looped prompts and negatively impacted accuracy. \n",
    "\n",
    "We have provided results where the adverse effects of these hurdles were minimized, resulting in accurate outputs."
   ]
  },
  {
   "cell_type": "markdown",
   "id": "00b68c1b",
   "metadata": {},
   "source": [
    "## For raw data"
   ]
  },
  {
   "cell_type": "markdown",
   "id": "dfeb247c",
   "metadata": {},
   "source": [
    "Inferences :\n",
    "The LLM has very low accuracy while classifying the the dynamic activities of walking,walking_upstairs and walking downstairs.\n",
    "Whereas while classifying the static activities it has pretty good accuracy"
   ]
  },
  {
   "cell_type": "markdown",
   "id": "297013a7",
   "metadata": {},
   "source": [
    "#### Zero Shot"
   ]
  },
  {
   "cell_type": "code",
   "execution_count": 29,
   "id": "9e7575a7",
   "metadata": {},
   "outputs": [
    {
     "name": "stdout",
     "output_type": "stream",
     "text": [
      "1. WALKING\n",
      "Predicted:  1\n",
      "Actual:  3\n",
      "\n",
      "1. WALKING\n",
      "Predicted:  1\n",
      "Actual:  1\n",
      "\n",
      "1.WALKING\n",
      "Predicted:  1\n",
      "Actual:  2\n",
      "\n",
      "2.WALKING_UPSTAIRS\n",
      "Predicted:  2\n",
      "Actual:  5\n",
      "\n",
      "2.WALKING_UPSTAIRS\n",
      "Predicted:  2\n",
      "Actual:  5\n",
      "\n",
      "1. WALKING\n",
      "Predicted:  1\n",
      "Actual:  1\n",
      "\n",
      "1. WALKING\n",
      "Predicted:  1\n",
      "Actual:  1\n",
      "\n",
      "2.WALKING_UPSTAIRS\n",
      "Predicted:  2\n",
      "Actual:  5\n",
      "\n",
      "1. WALKING\n",
      "Predicted:  1\n",
      "Actual:  3\n",
      "\n",
      "2.WALKING_UPSTAIRS\n",
      "Predicted:  2\n",
      "Actual:  2\n",
      "\n",
      "4.SITTING\n",
      "Predicted:  4\n",
      "Actual:  6\n",
      "\n",
      "2.WALKING_UPSTAIRS\n",
      "Predicted:  2\n",
      "Actual:  5\n",
      "\n",
      "1. WALKING\n",
      "Predicted:  1\n",
      "Actual:  6\n",
      "\n",
      "2.WALKING_UPSTAIRS\n",
      "Predicted:  2\n",
      "Actual:  5\n",
      "\n",
      "1. WALKING\n",
      "Predicted:  1\n",
      "Actual:  6\n",
      "\n",
      "1. WALKING\n",
      "Predicted:  1\n",
      "Actual:  1\n",
      "\n",
      "1. WALKING\n",
      "Predicted:  1\n",
      "Actual:  6\n",
      "\n",
      "2.WALKING_UPSTAIRS\n",
      "Predicted:  2\n",
      "Actual:  5\n",
      "\n",
      "1. WALKING\n",
      "Predicted:  1\n",
      "Actual:  2\n",
      "\n",
      "1. WALKING\n",
      "Predicted:  1\n",
      "Actual:  5\n",
      "\n",
      "2.WALKING_UPSTAIRS\n",
      "Predicted:  2\n",
      "Actual:  4\n",
      "\n",
      "1. WALKING\n",
      "Predicted:  1\n",
      "Actual:  3\n",
      "\n",
      "1.WALKING\n",
      "Predicted:  1\n",
      "Actual:  2\n",
      "\n",
      "1.WALKING\n",
      "Predicted:  1\n",
      "Actual:  2\n",
      "\n",
      "2.WALKING_UPSTAIRS\n",
      "Predicted:  2\n",
      "Actual:  1\n",
      "\n",
      "2.WALKING_UPSTAIRS\n",
      "Predicted:  2\n",
      "Actual:  4\n",
      "\n",
      "2.WALKING_UPSTAIRS\n",
      "Predicted:  2\n",
      "Actual:  6\n",
      "\n",
      "2.WALKING_UPSTAIRS\n",
      "Predicted:  2\n",
      "Actual:  4\n",
      "\n",
      "2.WALKING_UPSTAIRS\n",
      "Predicted:  2\n",
      "Actual:  1\n",
      "\n",
      "1.WALKING\n",
      "Predicted:  1\n",
      "Actual:  2\n",
      "\n",
      "2.WALKING_UPSTAIRS\n",
      "Predicted:  2\n",
      "Actual:  6\n",
      "\n",
      "1. WALKING\n",
      "Predicted:  1\n",
      "Actual:  2\n",
      "\n",
      "1. WALKING\n",
      "Predicted:  1\n",
      "Actual:  4\n",
      "\n",
      "2.WALKING_UPSTAIRS\n",
      "Predicted:  2\n",
      "Actual:  4\n",
      "\n",
      "1.WALKING\n",
      "Predicted:  1\n",
      "Actual:  3\n",
      "\n",
      "1. WALKING\n",
      "Predicted:  1\n",
      "Actual:  6\n",
      "\n",
      "2.WALKING_UPSTAIRS\n",
      "Predicted:  2\n",
      "Actual:  6\n",
      "\n",
      "2.WALKING_UPSTAIRS\n",
      "Predicted:  2\n",
      "Actual:  3\n",
      "\n",
      "1. WALKING\n",
      "Predicted:  1\n",
      "Actual:  1\n",
      "\n",
      "1. WALKING\n",
      "Predicted:  1\n",
      "Actual:  5\n",
      "\n",
      "1. WALKING\n",
      "Predicted:  1\n",
      "Actual:  3\n",
      "\n",
      "1.WALKING\n",
      "Predicted:  1\n",
      "Actual:  2\n",
      "\n",
      "1. WALKING\n",
      "Predicted:  1\n",
      "Actual:  1\n",
      "\n",
      "1. WALKING\n",
      "Predicted:  1\n",
      "Actual:  4\n",
      "\n",
      "1. WALKING\n",
      "Predicted:  1\n",
      "Actual:  4\n",
      "\n",
      "1. STANDING\n",
      "Predicted:  1\n",
      "Actual:  4\n",
      "\n",
      "2.WALKING_UPSTAIRS\n",
      "Predicted:  2\n",
      "Actual:  5\n",
      "\n",
      "1. WALKING\n",
      "Predicted:  1\n",
      "Actual:  1\n",
      "\n",
      "1. WALKING\n",
      "Predicted:  1\n",
      "Actual:  3\n",
      "\n",
      "1. WALKING\n",
      "Predicted:  1\n",
      "Actual:  3\n",
      "\n",
      "1.STANDING\n",
      "Predicted:  1\n",
      "Actual:  3\n",
      "\n",
      "2.WALKING_UPSTAIRS\n",
      "Predicted:  2\n",
      "Actual:  6\n",
      "\n",
      "1. WALKING\n",
      "Predicted:  1\n",
      "Actual:  2\n",
      "\n",
      "2.WALKING_UPSTAIRS\n",
      "Predicted:  2\n",
      "Actual:  4\n",
      "\n"
     ]
    }
   ],
   "source": [
    "# This code block along with the next block calculates the accuracy of zero shot on the test data made by MakeDataset.py\n",
    "\n",
    "# Predictions array to store the predictions made by the model\n",
    "# idsx array to store the indexes of the values that are predicted without any errors\n",
    "predictions = []\n",
    "idxs = []\n",
    "\n",
    "# Looping through the test data and applying zero shot one by one on each sample\n",
    "for i in range(accx_test.shape[0]):\n",
    "    feed_x = accx_test[i]\n",
    "    feed_y = accy_test[i]\n",
    "    feed_z = accz_test[i]\n",
    "    \n",
    "    query = f\"\"\"\n",
    "    You are being provided with experimental data containing acceleration in x, y, and z directions. \n",
    "This data is collected from humans performing the following activities:\n",
    "1. Walking\n",
    "2. Walking Upstairs\n",
    "3. Walking Downstairs\n",
    "4. Sitting\n",
    "5. Standing\n",
    "6. Laying\n",
    "\n",
    "Your task is to analyze the raw data and determine which activity is being represented based on the above-mentioned activities. \n",
    "The acceleration data contains multiple readings of the same activity in a 2D array, with the shape (number of samples, number of readings per axis).\n",
    "\n",
    "Acceleration in x direction: {feed_x.ravel()}\n",
    "Acceleration in y direction: {feed_y.ravel()}\n",
    "Acceleration in z direction: {feed_z.ravel()}\n",
    "\n",
    "\n",
    "Your response should not contain any other explanation just answer in format e.g. 2.WALKING_UPSTAIRS\n",
    "You can perform PCA analysis,statistical analysis like mean,mode,median,standard deviation and other sush relevant analysis to find the typeof activity\n",
    "\n",
    "    \"\"\" \n",
    "    \n",
    "    model_name = model\n",
    "    llm = ChatGroq(model=groq_models[model_name], api_key=Groq_Token, temperature=0)\n",
    "    answer = llm.invoke(query)\n",
    "    \n",
    "    print(answer.content)\n",
    "    words = answer.content.split(\".\")\n",
    "    required = words[-1].split(\":\")[-1]\n",
    "    predictions.append(words[0])\n",
    "    idxs.append(i)\n",
    "    print(\"Predicted: \",predictions[-1])\n",
    "    print(\"Actual: \",y_test[i])\n",
    "    print()"
   ]
  },
  {
   "cell_type": "code",
   "execution_count": 30,
   "id": "5cfb247a",
   "metadata": {},
   "outputs": [
    {
     "name": "stdout",
     "output_type": "stream",
     "text": [
      "[1, 1, 1, 2, 2, 1, 1, 2, 1, 2, 4, 2, 1, 2, 1, 1, 1, 2, 1, 1, 2, 1, 1, 1, 2, 2, 2, 2, 2, 1, 2, 1, 1, 2, 1, 1, 2, 2, 1, 1, 1, 1, 1, 1, 1, 1, 2, 1, 1, 1, 1, 2, 1, 2]\n",
      "[3 1 2 5 5 1 1 5 3 2 6 5 6 5 6 1 6 5 2 5 4 3 2 2 1 4 6 4 1 2 6 2 4 4 3 6 6\n",
      " 3 1 5 3 2 1 4 4 4 5 1 3 3 3 6 2 4]\n",
      "\n",
      "\n",
      "\n",
      "Total Accuracy of zero shot: 14.81%\n",
      "Accuracy in Dynamic activities is 29.63%\n",
      "Accuracy in Static activities is 0.00%\n"
     ]
    }
   ],
   "source": [
    "# Checking the predictions data\n",
    "predictions = [int(i) for i in predictions]\n",
    "print(predictions)\n",
    "print(y_test[idxs])\n",
    "print(\"\\n\\n\")\n",
    "\n",
    "y_test_filtered = y_test[idxs]\n",
    "\n",
    "# Calculate the number of correct predictions\n",
    "correct_predictions = sum(p == y for p, y in zip(predictions, y_test_filtered))\n",
    "\n",
    "# Calculate the accuracy\n",
    "accuracy = correct_predictions / len(predictions)\n",
    "\n",
    "# Print the accuracy\n",
    "print(f\"Total Accuracy of zero shot: {accuracy:.2%}\")\n",
    "\n",
    "\n",
    "# Calculating the accuracy of the static and dynamic activities separately to analyse the results \n",
    "\n",
    "dynamic_test = []\n",
    "dynamic_predict = []\n",
    "\n",
    "static_test = []\n",
    "static_predict = []\n",
    "\n",
    "for i in range(len(y_test_filtered)):\n",
    "    if y_test_filtered[i] in [1,2,3]:\n",
    "        dynamic_predict.append(predictions[i])\n",
    "        dynamic_test.append(y_test_filtered[i])\n",
    "    \n",
    "    if y_test_filtered[i] in [4,5,6]:\n",
    "        static_predict.append(predictions[i])\n",
    "        static_test.append(y_test_filtered[i])\n",
    "\n",
    "\n",
    "dynamic_accuracy = sum(p == y for p,y in zip(dynamic_predict,dynamic_test))/len(dynamic_predict)\n",
    "print(f\"Accuracy in Dynamic activities is {dynamic_accuracy:.2%}\")\n",
    "\n",
    "static_accuracy = sum(p == y for p,y in zip(static_predict,static_test))/len(static_predict)\n",
    "print(f\"Accuracy in Static activities is {static_accuracy:.2%}\")"
   ]
  },
  {
   "cell_type": "markdown",
   "id": "740ea5e1",
   "metadata": {},
   "source": [
    "#### Few Shot"
   ]
  },
  {
   "cell_type": "code",
   "execution_count": 9,
   "id": "91638825-01ef-406b-a37e-f497ff86f659",
   "metadata": {},
   "outputs": [
    {
     "name": "stdout",
     "output_type": "stream",
     "text": [
      "2.WALKING_UPSTAIRS\n",
      "Predicted:  2\n",
      "Actual:  3\n",
      "\n",
      "2.WALKING_UPSTAIRS\n",
      "Predicted:  2\n",
      "Actual:  1\n",
      "\n",
      "2.WALKING_UPSTAIRS\n",
      "Predicted:  2\n",
      "Actual:  2\n",
      "\n",
      "5.STANDING\n",
      "Predicted:  5\n",
      "Actual:  5\n",
      "\n",
      "5.STANDING\n",
      "Predicted:  5\n",
      "Actual:  5\n",
      "\n",
      "2.WALKING_UPSTAIRS\n",
      "Predicted:  2\n",
      "Actual:  1\n",
      "\n",
      "2.WALKING_UPSTAIRS\n",
      "Predicted:  2\n",
      "Actual:  1\n",
      "\n",
      "5.STANDING\n",
      "Predicted:  5\n",
      "Actual:  5\n",
      "\n",
      "2.WALKING_UPSTAIRS\n",
      "Predicted:  2\n",
      "Actual:  3\n",
      "\n",
      "2.WALKING_UPSTAIRS\n",
      "Predicted:  2\n",
      "Actual:  2\n",
      "\n",
      "6.LAYING\n",
      "Predicted:  6\n",
      "Actual:  6\n",
      "\n",
      "5.STANDING\n",
      "Predicted:  5\n",
      "Actual:  5\n",
      "\n",
      "4.SITTING\n",
      "Predicted:  4\n",
      "Actual:  6\n",
      "\n",
      "5.STANDING\n",
      "Predicted:  5\n",
      "Actual:  5\n",
      "\n",
      "6.LAYING\n",
      "Predicted:  6\n",
      "Actual:  6\n",
      "\n",
      "2.WALKING_UPSTAIRS\n",
      "Predicted:  2\n",
      "Actual:  1\n",
      "\n",
      "6.LAYING\n",
      "Predicted:  6\n",
      "Actual:  6\n",
      "\n",
      "2.WALKING_UPSTAIRS\n",
      "Predicted:  2\n",
      "Actual:  5\n",
      "\n",
      "2.WALKING_UPSTAIRS\n",
      "Predicted:  2\n",
      "Actual:  2\n",
      "\n",
      "5.STANDING\n",
      "Predicted:  5\n",
      "Actual:  5\n",
      "\n",
      "5.STANDING\n",
      "Predicted:  5\n",
      "Actual:  4\n",
      "\n",
      "2.WALKING_UPSTAIRS\n",
      "Predicted:  2\n",
      "Actual:  3\n",
      "\n",
      "2.WALKING_UPSTAIRS\n",
      "Predicted:  2\n",
      "Actual:  2\n",
      "\n",
      "2.WALKING_UPSTAIRS\n",
      "Predicted:  2\n",
      "Actual:  2\n",
      "\n",
      "2.WALKING_UPSTAIRS\n",
      "Predicted:  2\n",
      "Actual:  1\n",
      "\n",
      "4.SITTING\n",
      "Predicted:  4\n",
      "Actual:  4\n",
      "\n",
      "6.LAYING\n",
      "Predicted:  6\n",
      "Actual:  6\n",
      "\n",
      "4.SITTING\n",
      "Predicted:  4\n",
      "Actual:  4\n",
      "\n",
      "2.WALKING_UPSTAIRS\n",
      "Predicted:  2\n",
      "Actual:  1\n",
      "\n",
      "2.WALKING_UPSTAIRS\n",
      "Predicted:  2\n",
      "Actual:  2\n",
      "\n",
      "6.LAYING\n",
      "Predicted:  6\n",
      "Actual:  6\n",
      "\n",
      "2.WALKING_UPSTAIRS\n",
      "Predicted:  2\n",
      "Actual:  2\n",
      "\n",
      "4.SITTING\n",
      "Predicted:  4\n",
      "Actual:  4\n",
      "\n",
      "4.SITTING\n",
      "Predicted:  4\n",
      "Actual:  4\n",
      "\n",
      "2.WALKING_UPSTAIRS\n",
      "Predicted:  2\n",
      "Actual:  3\n",
      "\n",
      "6.LAYING\n",
      "Predicted:  6\n",
      "Actual:  6\n",
      "\n",
      "4.SITTING\n",
      "Predicted:  4\n",
      "Actual:  6\n",
      "\n",
      "2.WALKING_UPSTAIRS\n",
      "Predicted:  2\n",
      "Actual:  3\n",
      "\n",
      "2.WALKING_UPSTAIRS\n",
      "Predicted:  2\n",
      "Actual:  1\n",
      "\n",
      "5.STANDING\n",
      "Predicted:  5\n",
      "Actual:  5\n",
      "\n",
      "2.WALKING_UPSTAIRS\n",
      "Predicted:  2\n",
      "Actual:  3\n",
      "\n",
      "2.WALKING_UPSTAIRS\n",
      "Predicted:  2\n",
      "Actual:  2\n",
      "\n",
      "2.WALKING_UPSTAIRS\n",
      "Predicted:  2\n",
      "Actual:  1\n",
      "\n",
      "4.SITTING\n",
      "Predicted:  4\n",
      "Actual:  4\n",
      "\n",
      "5.STANDING\n",
      "Predicted:  5\n",
      "Actual:  4\n",
      "\n",
      "2.WALKING_UPSTAIRS\n",
      "Predicted:  2\n",
      "Actual:  4\n",
      "\n",
      "5.STANDING\n",
      "Predicted:  5\n",
      "Actual:  5\n",
      "\n",
      "2.WALKING_UPSTAIRS\n",
      "Predicted:  2\n",
      "Actual:  1\n",
      "\n",
      "2.WALKING_UPSTAIRS\n",
      "Predicted:  2\n",
      "Actual:  3\n",
      "\n",
      "2.WALKING_UPSTAIRS\n",
      "Predicted:  2\n",
      "Actual:  3\n",
      "\n",
      "2.WALKING_UPSTAIRS\n",
      "Predicted:  2\n",
      "Actual:  3\n",
      "\n",
      "6.LAYING\n",
      "Predicted:  6\n",
      "Actual:  6\n",
      "\n",
      "2.WALKING_UPSTAIRS\n",
      "Predicted:  2\n",
      "Actual:  2\n",
      "\n",
      "5.STANDING\n",
      "Predicted:  5\n",
      "Actual:  4\n",
      "\n"
     ]
    }
   ],
   "source": [
    "# This code block along with the next block calculates the accuracy of few  shot on the test data made by MakeDataset.py\n",
    "\n",
    "# Predictions array to store the predictions made by the model\n",
    "# idsx array to store the indexes of the values that are predicted without any errors\n",
    "predictions = []\n",
    "idxs = []\n",
    "\n",
    "# Looping through the test data and applying zero shot one by one on each sample\n",
    "for i in range(accx_test.shape[0]):\n",
    "    feed_x = accx_test[i]\n",
    "    feed_y = accy_test[i]\n",
    "    feed_z = accz_test[i]\n",
    "    \n",
    "    query = f\"\"\"\n",
    "    You are being provided with the experimental data containing the acceleration in x,y and z directions. \n",
    "This data is collected by humans performing  following activities and the data is 2 dimensional that means that \n",
    "there are multiple data readingsof same activity within the single one provided to you\n",
    "1.WALKING\n",
    "Acceleration in x direction: {accx_train_1.ravel()}\n",
    "Acceleration in y direction: {accy_train_1.ravel()}\n",
    "Acceleration in z direction: {accz_train_1.ravel()}\n",
    "\n",
    "2.WALKING_UPSTAIRS\n",
    "Acceleration in x direction: {accx_train_2.ravel()}\n",
    "Acceleration in y direction: {accy_train_2.ravel()}\n",
    "Acceleration in z direction: {accz_train_2.ravel()}\n",
    "\n",
    "3.WALKING_DOWNSTAIRS\n",
    "Acceleration in x direction: {accx_train_3.ravel()}\n",
    "Acceleration in y direction: {accy_train_3.ravel()}\n",
    "Acceleration in z direction: {accz_train_3.ravel()}\n",
    "\n",
    "4.SITTING\n",
    "Acceleration in x direction: {accx_train_4.ravel()}\n",
    "Acceleration in y direction: {accy_train_4.ravel()}\n",
    "Acceleration in z direction: {accz_train_4.ravel()}\n",
    "\n",
    "5.STANDING\n",
    "Acceleration in x direction: {accx_train_5.ravel()}\n",
    "Acceleration in y direction: {accy_train_5.ravel()}\n",
    "Acceleration in z direction: {accz_train_5.ravel()}\n",
    "\n",
    "6.LAYING\n",
    "Acceleration in x direction: {accx_train_6.ravel()}\n",
    "Acceleration in y direction: {accy_train_6.ravel()}\n",
    "Acceleration in z direction: {accz_train_6.ravel()}\n",
    "\n",
    "\n",
    "your task is to analyse the data given above and then analyse the following raw data and say what is the data representing out of the above mentioned activities\n",
    "Your response should not contain any other explanation just answer in format e.g. 2.WALKING_UPSTAIRS\n",
    "\n",
    "You can perform PCA analysis,statistical analysis like mean,mode,median,standard deviation and other sush relevant analysis to find the typeof activity\n",
    "\n",
    "Acceleration in x direction: {feed_x.ravel()}\n",
    "Acceleration in y direction: {feed_y.ravel()}\n",
    "Acceleration in z direction: {feed_z.ravel()}\n",
    "    \"\"\" \n",
    "    \n",
    "    model_name = model\n",
    "    llm = ChatGroq(model=groq_models[model_name], api_key=Groq_Token, temperature=0)\n",
    "    answer = llm.invoke(query)\n",
    "    \n",
    "    print(answer.content)\n",
    "    words = answer.content.split(\".\")\n",
    "    required = words[-1].split(\":\")[-1]\n",
    "    predictions.append(words[0])\n",
    "    idxs.append(i)\n",
    "    print(\"Predicted: \",predictions[-1])\n",
    "    print(\"Actual: \",y_test[i])\n",
    "    print()\n",
    "        \n"
   ]
  },
  {
   "cell_type": "code",
   "execution_count": 11,
   "id": "4c47f42a-570c-4e0a-a12e-9e08a3b4984b",
   "metadata": {},
   "outputs": [
    {
     "name": "stdout",
     "output_type": "stream",
     "text": [
      "[2, 2, 2, 5, 5, 2, 2, 5, 2, 2, 6, 5, 4, 5, 6, 2, 6, 2, 2, 5, 5, 2, 2, 2, 2, 4, 6, 4, 2, 2, 6, 2, 4, 4, 2, 6, 4, 2, 2, 5, 2, 2, 2, 4, 5, 2, 5, 2, 2, 2, 2, 6, 2, 5]\n",
      "[3 1 2 5 5 1 1 5 3 2 6 5 6 5 6 1 6 5 2 5 4 3 2 2 1 4 6 4 1 2 6 2 4 4 3 6 6\n",
      " 3 1 5 3 2 1 4 4 4 5 1 3 3 3 6 2 4]\n",
      "\n",
      "\n",
      "\n",
      "Total Accuracy of few shot: 53.70%\n",
      "Accuracy in Dynamic activities is 33.33%\n",
      "Accuracy in Static activities is 74.07%\n"
     ]
    }
   ],
   "source": [
    "# Checking the predictions data\n",
    "predictions = [int(i) for i in predictions]\n",
    "print(predictions)\n",
    "print(y_test[idxs])\n",
    "print(\"\\n\\n\")\n",
    "\n",
    "y_test_filtered = y_test[idxs]\n",
    "\n",
    "# Calculate the number of correct predictions\n",
    "correct_predictions = sum(p == y for p, y in zip(predictions, y_test_filtered))\n",
    "\n",
    "# Calculate the accuracy\n",
    "accuracy = correct_predictions / len(predictions)\n",
    "\n",
    "# Print the accuracy\n",
    "print(f\"Total Accuracy of few shot: {accuracy:.2%}\")\n",
    "\n",
    "\n",
    "\n",
    "\n",
    "# Calculating the accuracy of the static and dynamic activities separately to analyse the results \n",
    "\n",
    "dynamic_test = []\n",
    "dynamic_predict = []\n",
    "\n",
    "static_test = []\n",
    "static_predict = []\n",
    "\n",
    "for i in range(len(y_test_filtered)):\n",
    "    if y_test_filtered[i] in [1,2,3]:\n",
    "        dynamic_predict.append(predictions[i])\n",
    "        dynamic_test.append(y_test_filtered[i])\n",
    "    \n",
    "    if y_test_filtered[i] in [4,5,6]:\n",
    "        static_predict.append(predictions[i])\n",
    "        static_test.append(y_test_filtered[i])\n",
    "\n",
    "\n",
    "dynamic_accuracy = sum(p == y for p,y in zip(dynamic_predict,dynamic_test))/len(dynamic_predict)\n",
    "print(f\"Accuracy in Dynamic activities is {dynamic_accuracy:.2%}\")\n",
    "\n",
    "static_accuracy = sum(p == y for p,y in zip(static_predict,static_test))/len(static_predict)\n",
    "print(f\"Accuracy in Static activities is {static_accuracy:.2%}\")"
   ]
  },
  {
   "cell_type": "markdown",
   "id": "9cc7f583",
   "metadata": {},
   "source": [
    "## Applying on featurized data by tsfel"
   ]
  },
  {
   "cell_type": "markdown",
   "id": "4ec41cf9",
   "metadata": {},
   "source": [
    "#### Zero Shot"
   ]
  },
  {
   "cell_type": "code",
   "execution_count": 18,
   "id": "665bcc56",
   "metadata": {},
   "outputs": [
    {
     "name": "stdout",
     "output_type": "stream",
     "text": [
      "4.SITTING\n",
      "Predicted:  4\n",
      "Actual:  3\n",
      "\n",
      "4.SITTING\n",
      "Predicted:  4\n",
      "Actual:  1\n",
      "\n",
      "4.SITTING\n",
      "Predicted:  4\n",
      "Actual:  2\n",
      "\n",
      "2.WALKING_UPSTAIRS\n",
      "Predicted:  2\n",
      "Actual:  5\n",
      "\n",
      "2.WALKING_UPSTAIRS\n",
      "Predicted:  2\n",
      "Actual:  5\n",
      "\n",
      "3.WALKING_DOWNSTAIRS\n",
      "Predicted:  3\n",
      "Actual:  1\n",
      "\n",
      "4.SITTING\n",
      "Predicted:  4\n",
      "Actual:  1\n",
      "\n",
      "2.WALKING_UPSTAIRS\n",
      "Predicted:  2\n",
      "Actual:  5\n",
      "\n",
      "4.SITTING\n",
      "Predicted:  4\n",
      "Actual:  3\n",
      "\n",
      "4.SITTING\n",
      "Predicted:  4\n",
      "Actual:  2\n",
      "\n",
      "4.SITTING\n",
      "Predicted:  4\n",
      "Actual:  6\n",
      "\n",
      "4.SITTING\n",
      "Predicted:  4\n",
      "Actual:  5\n",
      "\n",
      "2.WALKING_UPSTAIRS\n",
      "Predicted:  2\n",
      "Actual:  6\n",
      "\n",
      "4.SITTING\n",
      "Predicted:  4\n",
      "Actual:  5\n",
      "\n",
      "4.SITTING\n",
      "Predicted:  4\n",
      "Actual:  6\n",
      "\n",
      "4.SITTING\n",
      "Predicted:  4\n",
      "Actual:  1\n",
      "\n",
      "4.SITTING\n",
      "Predicted:  4\n",
      "Actual:  6\n",
      "\n",
      "2.WALKING_UPSTAIRS\n",
      "Predicted:  2\n",
      "Actual:  5\n",
      "\n",
      "3.WALKING_DOWNSTAIRS\n",
      "Predicted:  3\n",
      "Actual:  2\n",
      "\n",
      "4.SITTING\n",
      "Predicted:  4\n",
      "Actual:  5\n",
      "\n",
      "4.SITTING\n",
      "Predicted:  4\n",
      "Actual:  4\n",
      "\n",
      "4.SITTING\n",
      "Predicted:  4\n",
      "Actual:  3\n",
      "\n",
      "4.SITTING\n",
      "Predicted:  4\n",
      "Actual:  2\n",
      "\n",
      "4.SITTING\n",
      "Predicted:  4\n",
      "Actual:  2\n",
      "\n",
      "4.SITTING\n",
      "Predicted:  4\n",
      "Actual:  1\n",
      "\n",
      "4.SITTING\n",
      "Predicted:  4\n",
      "Actual:  4\n",
      "\n",
      "4.SITTING\n",
      "Predicted:  4\n",
      "Actual:  6\n",
      "\n",
      "4.SITTING\n",
      "Predicted:  4\n",
      "Actual:  4\n",
      "\n",
      "3.WALKING_DOWNSTAIRS\n",
      "Predicted:  3\n",
      "Actual:  1\n",
      "\n",
      "4.SITTING\n",
      "Predicted:  4\n",
      "Actual:  2\n",
      "\n",
      "4.SITTING\n",
      "Predicted:  4\n",
      "Actual:  6\n",
      "\n",
      "4.SITTING\n",
      "Predicted:  4\n",
      "Actual:  2\n",
      "\n",
      "4.SITTING\n",
      "Predicted:  4\n",
      "Actual:  4\n",
      "\n",
      "4.SITTING\n",
      "Predicted:  4\n",
      "Actual:  4\n",
      "\n",
      "4.SITTING\n",
      "Predicted:  4\n",
      "Actual:  3\n",
      "\n",
      "4.SITTING\n",
      "Predicted:  4\n",
      "Actual:  6\n",
      "\n",
      "2.WALKING_UPSTAIRS\n",
      "Predicted:  2\n",
      "Actual:  6\n",
      "\n",
      "4.SITTING\n",
      "Predicted:  4\n",
      "Actual:  3\n",
      "\n",
      "4.SITTING\n",
      "Predicted:  4\n",
      "Actual:  1\n",
      "\n",
      "2.WALKING_UPSTAIRS\n",
      "Predicted:  2\n",
      "Actual:  5\n",
      "\n",
      "4.SITTING\n",
      "Predicted:  4\n",
      "Actual:  3\n",
      "\n",
      "4.SITTING\n",
      "Predicted:  4\n",
      "Actual:  2\n",
      "\n",
      "4.SITTING\n",
      "Predicted:  4\n",
      "Actual:  1\n",
      "\n",
      "4.SITTING\n",
      "Predicted:  4\n",
      "Actual:  4\n",
      "\n",
      "4.SITTING\n",
      "Predicted:  4\n",
      "Actual:  4\n",
      "\n",
      "2.WALKING_UPSTAIRS\n",
      "Predicted:  2\n",
      "Actual:  4\n",
      "\n",
      "4.SITTING\n",
      "Predicted:  4\n",
      "Actual:  5\n",
      "\n",
      "4.SITTING\n",
      "Predicted:  4\n",
      "Actual:  1\n",
      "\n",
      "4.SITTING\n",
      "Predicted:  4\n",
      "Actual:  3\n",
      "\n",
      "4.SITTING\n",
      "Predicted:  4\n",
      "Actual:  3\n",
      "\n",
      "4.SITTING\n",
      "Predicted:  4\n",
      "Actual:  3\n",
      "\n",
      "4.SITTING\n",
      "Predicted:  4\n",
      "Actual:  6\n",
      "\n",
      "3.WALKING_DOWNSTAIRS\n",
      "Predicted:  3\n",
      "Actual:  2\n",
      "\n",
      "4.SITTING\n",
      "Predicted:  4\n",
      "Actual:  4\n",
      "\n"
     ]
    }
   ],
   "source": [
    "# This code block along with the next block calculates the accuracy of few  shot on the test data made by MakeDataset.py\n",
    "\n",
    "# Predictions array to store the predictions made by the model\n",
    "# idsx array to store the indexes of the values that are predicted without any errors\n",
    "predictions = []\n",
    "idxs = []\n",
    "\n",
    "# Looping through the test data and applying zero shot one by one on each sample\n",
    "for i in range(X_test_tsfel_pca.shape[0]):\n",
    "    feed = X_test_tsfel_pca[i]\n",
    "    \n",
    "    query = f\"\"\"\n",
    "This data is collected from humans performing the following activities:\\\n",
    "The collected data has acceleration of x axis, yaxis and z axis\n",
    "1. Walking\n",
    "2. Walking Upstairs\n",
    "3. Walking Downstairs\n",
    "4. Sitting\n",
    "5. Standing\n",
    "6. Laying\n",
    "\n",
    "\n",
    "The data is then processed by tsfel library and now you will be given the data processed by tsfel and pca is conducted to reducce the features to 10.\n",
    "\n",
    "Your task is to analyze the data and determine which activity is being represented based on the above-mentioned activities. \n",
    "The acceleration data contains multiple readings of the same activity in a 2D array, with the shape (number of samples, number of readings per axis).\n",
    "DATA:\n",
    "{feed}\n",
    "\n",
    "\n",
    "No extra explanation or suggestions required. Just give the answer\n",
    "Give the answer in form number.activity e.g. 3.WALKING_DOWNSTAIRS\n",
    "\"\"\"\n",
    "    \n",
    "    model_name = model\n",
    "    llm = ChatGroq(model=groq_models[model_name], api_key=Groq_Token, temperature=0)\n",
    "    answer = llm.invoke(query)\n",
    "    \n",
    "    print(answer.content)\n",
    "    words = answer.content.split(\".\")\n",
    "    required = words[-1].split(\":\")[-1]\n",
    "    predictions.append(words[0])\n",
    "    idxs.append(i)\n",
    "    print(\"Predicted: \",predictions[-1])\n",
    "    print(\"Actual: \",y_test[i])\n",
    "    print()\n",
    "        \n"
   ]
  },
  {
   "cell_type": "code",
   "execution_count": 19,
   "id": "4d08f244",
   "metadata": {},
   "outputs": [
    {
     "name": "stdout",
     "output_type": "stream",
     "text": [
      "[4, 4, 4, 2, 2, 3, 4, 2, 4, 4, 4, 4, 2, 4, 4, 4, 4, 2, 3, 4, 4, 4, 4, 4, 4, 4, 4, 4, 3, 4, 4, 4, 4, 4, 4, 4, 2, 4, 4, 2, 4, 4, 4, 4, 4, 2, 4, 4, 4, 4, 4, 4, 3, 4]\n",
      "[3 1 2 5 5 1 1 5 3 2 6 5 6 5 6 1 6 5 2 5 4 3 2 2 1 4 6 4 1 2 6 2 4 4 3 6 6\n",
      " 3 1 5 3 2 1 4 4 4 5 1 3 3 3 6 2 4]\n",
      "\n",
      "\n",
      "\n",
      "Total Accuracy of zero shot: 14.81%\n",
      "Accuracy in Dynamic activities is 0.00%\n",
      "Accuracy in Static activities is 29.63%\n"
     ]
    }
   ],
   "source": [
    "# Checking the predictions data\n",
    "predictions = [int(i) for i in predictions]\n",
    "print(predictions)\n",
    "print(y_test[idxs])\n",
    "print(\"\\n\\n\")\n",
    "\n",
    "y_test_filtered = y_test[idxs]\n",
    "\n",
    "# Calculate the number of correct predictions\n",
    "correct_predictions = sum(p == y for p, y in zip(predictions, y_test_filtered))\n",
    "\n",
    "# Calculate the accuracy\n",
    "accuracy = correct_predictions / len(predictions)\n",
    "\n",
    "# Print the accuracy\n",
    "print(f\"Total Accuracy of zero shot: {accuracy:.2%}\")\n",
    "\n",
    "\n",
    "\n",
    "\n",
    "# Calculating the accuracy of the static and dynamic activities separately to analyse the results \n",
    "\n",
    "dynamic_test = []\n",
    "dynamic_predict = []\n",
    "\n",
    "static_test = []\n",
    "static_predict = []\n",
    "\n",
    "for i in range(len(y_test_filtered)):\n",
    "    if y_test_filtered[i] in [1,2,3]:\n",
    "        dynamic_predict.append(predictions[i])\n",
    "        dynamic_test.append(y_test_filtered[i])\n",
    "    \n",
    "    if y_test_filtered[i] in [4,5,6]:\n",
    "        static_predict.append(predictions[i])\n",
    "        static_test.append(y_test_filtered[i])\n",
    "\n",
    "\n",
    "dynamic_accuracy = sum(p == y for p,y in zip(dynamic_predict,dynamic_test))/len(dynamic_predict)\n",
    "print(f\"Accuracy in Dynamic activities is {dynamic_accuracy:.2%}\")\n",
    "\n",
    "static_accuracy = sum(p == y for p,y in zip(static_predict,static_test))/len(static_predict)\n",
    "print(f\"Accuracy in Static activities is {static_accuracy:.2%}\")"
   ]
  },
  {
   "cell_type": "markdown",
   "id": "fb23c308",
   "metadata": {},
   "source": [
    "#### Few Shot"
   ]
  },
  {
   "cell_type": "code",
   "execution_count": 19,
   "id": "a47168f6",
   "metadata": {},
   "outputs": [
    {
     "name": "stdout",
     "output_type": "stream",
     "text": [
      "3.WALKING_DOWNSTAIRS\n",
      "Predicted:  3\n",
      "Actual:  3\n",
      "\n",
      "2.WALKING_UPSTAIRS\n",
      "Predicted:  2\n",
      "Actual:  1\n",
      "\n",
      "2.WALKING_UPSTAIRS\n",
      "Predicted:  2\n",
      "Actual:  2\n",
      "\n",
      "5.STANDING\n",
      "Predicted:  5\n",
      "Actual:  5\n",
      "\n",
      "5.STANDING\n",
      "Predicted:  5\n",
      "Actual:  5\n",
      "\n",
      "2.WALKING_UPSTAIRS\n",
      "Predicted:  2\n",
      "Actual:  1\n",
      "\n",
      "1.WALKING\n",
      "Predicted:  1\n",
      "Actual:  1\n",
      "\n",
      "5.STANDING\n",
      "Predicted:  5\n",
      "Actual:  5\n",
      "\n",
      "3.WALKING_DOWNSTAIRS\n",
      "Predicted:  3\n",
      "Actual:  3\n",
      "\n",
      "2.WALKING_UPSTAIRS\n",
      "Predicted:  2\n",
      "Actual:  2\n",
      "\n",
      "6.LAYING\n",
      "Predicted:  6\n",
      "Actual:  6\n",
      "\n",
      "5.STANDING\n",
      "Predicted:  5\n",
      "Actual:  5\n",
      "\n",
      "6.LAYING\n",
      "Predicted:  6\n",
      "Actual:  6\n",
      "\n",
      "4.SITTING\n",
      "Predicted:  4\n",
      "Actual:  5\n",
      "\n",
      "1.WALKING\n",
      "Predicted:  1\n",
      "Actual:  6\n",
      "\n",
      "2.WALKING_UPSTAIRS\n",
      "Predicted:  2\n",
      "Actual:  1\n",
      "\n",
      "6.LAYING\n",
      "Predicted:  6\n",
      "Actual:  6\n",
      "\n",
      "5.STANDING\n",
      "Predicted:  5\n",
      "Actual:  5\n",
      "\n",
      "1.WALKING\n",
      "Predicted:  1\n",
      "Actual:  2\n",
      "\n",
      "5.STANDING\n",
      "Predicted:  5\n",
      "Actual:  5\n",
      "\n",
      "5.STANDING\n",
      "Predicted:  5\n",
      "Actual:  4\n",
      "\n",
      "3.WALKING_DOWNSTAIRS\n",
      "Predicted:  3\n",
      "Actual:  3\n",
      "\n",
      "3.WALKING_DOWNSTAIRS\n",
      "Predicted:  3\n",
      "Actual:  2\n",
      "\n",
      "3.WALKING_DOWNSTAIRS\n",
      "Predicted:  3\n",
      "Actual:  2\n",
      "\n",
      "2.WALKING_UPSTAIRS\n",
      "Predicted:  2\n",
      "Actual:  1\n",
      "\n",
      "1.WALKING\n",
      "Predicted:  1\n",
      "Actual:  4\n",
      "\n",
      "6.LAYING\n",
      "Predicted:  6\n",
      "Actual:  6\n",
      "\n",
      "4.SITTING\n",
      "Predicted:  4\n",
      "Actual:  4\n",
      "\n",
      "2.WALKING_UPSTAIRS\n",
      "Predicted:  2\n",
      "Actual:  1\n",
      "\n",
      "2.WALKING_UPSTAIRS\n",
      "Predicted:  2\n",
      "Actual:  2\n",
      "\n",
      "6.LAYING\n",
      "Predicted:  6\n",
      "Actual:  6\n",
      "\n",
      "2.WALKING_UPSTAIRS\n",
      "Predicted:  2\n",
      "Actual:  2\n",
      "\n",
      "2.WALKING_UPSTAIRS\n",
      "Predicted:  2\n",
      "Actual:  4\n",
      "\n",
      "2.WALKING_UPSTAIRS\n",
      "Predicted:  2\n",
      "Actual:  4\n",
      "\n",
      "3.WALKING_DOWNSTAIRS\n",
      "Predicted:  3\n",
      "Actual:  3\n",
      "\n",
      "6.LAYING\n",
      "Predicted:  6\n",
      "Actual:  6\n",
      "\n",
      "3.WALKING_DOWNSTAIRS\n",
      "Predicted:  3\n",
      "Actual:  6\n",
      "\n",
      "3.WALKING_DOWNSTAIRS\n",
      "Predicted:  3\n",
      "Actual:  3\n",
      "\n",
      "2.WALKING_UPSTAIRS\n",
      "Predicted:  2\n",
      "Actual:  1\n",
      "\n",
      "5.STANDING\n",
      "Predicted:  5\n",
      "Actual:  5\n",
      "\n",
      "3.WALKING_DOWNSTAIRS\n",
      "Predicted:  3\n",
      "Actual:  3\n",
      "\n",
      "2.WALKING_UPSTAIRS\n",
      "Predicted:  2\n",
      "Actual:  2\n",
      "\n",
      "2.WALKING_UPSTAIRS\n",
      "Predicted:  2\n",
      "Actual:  1\n",
      "\n",
      "4.SITTING\n",
      "Predicted:  4\n",
      "Actual:  4\n",
      "\n",
      "5.STANDING\n",
      "Predicted:  5\n",
      "Actual:  4\n",
      "\n",
      "5.STANDING\n",
      "Predicted:  5\n",
      "Actual:  4\n",
      "\n",
      "4.SITTING\n",
      "Predicted:  4\n",
      "Actual:  5\n",
      "\n",
      "1.WALKING\n",
      "Predicted:  1\n",
      "Actual:  1\n",
      "\n",
      "3.WALKING_DOWNSTAIRS\n",
      "Predicted:  3\n",
      "Actual:  3\n",
      "\n",
      "2.WALKING_UPSTAIRS\n",
      "Predicted:  2\n",
      "Actual:  3\n",
      "\n",
      "2.WALKING_UPSTAIRS\n",
      "Predicted:  2\n",
      "Actual:  3\n",
      "\n",
      "6.LAYING\n",
      "Predicted:  6\n",
      "Actual:  6\n",
      "\n",
      "2.WALKING_UPSTAIRS\n",
      "Predicted:  2\n",
      "Actual:  2\n",
      "\n",
      "4.SITTING\n",
      "Predicted:  4\n",
      "Actual:  4\n",
      "\n"
     ]
    }
   ],
   "source": [
    "# This code block along with the next block calculates the accuracy of few  shot on the test data made by MakeDataset.py\n",
    "\n",
    "# Predictions array to store the predictions made by the model\n",
    "# idsx array to store the indexes of the values that are predicted without any errors\n",
    "predictions = []\n",
    "idxs = []\n",
    "\n",
    "# Looping through the test data and applying zero shot one by one on each sample\n",
    "for i in range(X_test_tsfel_pca.shape[0]):\n",
    "    feed = X_test_tsfel_pca[i]\n",
    "    \n",
    "    query = f\"\"\"\n",
    "Organisation of data:\n",
    "The data of humans performing the below mentioned six activities is recorded. The data contained the accelerations in x axis, y axis and z axis.\n",
    "Then the data is processed using the tsfel library and new features are created out of the given features. \n",
    "Then PCA is conducted on the data to reduce the feature to 5.\n",
    "You are provided with this processed data for each activity.\n",
    "\n",
    "1.WALKING\n",
    "{activity_1_train}\n",
    "\n",
    "2.WALKING_UPSTAIRS\n",
    "{activity_2_train}\n",
    "\n",
    "3.WALKING_DOWNSTAIRS\n",
    "{activity_3_train}\n",
    "\n",
    "4.SITTING\n",
    "{activity_4_train}\n",
    "\n",
    "5.STANDING\n",
    "{activity_5_train}\n",
    "\n",
    "6.LAYING\n",
    "{activity_6_train}\n",
    "\n",
    "\n",
    "Your task is to analyse the data and give predictions for the below given data from the activity.\n",
    "Your response should not contain any other explanation just answer in format e.g. 2.WALKING_UPSTAIRS\n",
    "\n",
    "{feed}\n",
    "\n",
    "\"\"\" \n",
    "    \n",
    "    model_name = model\n",
    "    llm = ChatGroq(model=groq_models[model_name], api_key=Groq_Token, temperature=0)\n",
    "    answer = llm.invoke(query)\n",
    "    \n",
    "    print(answer.content)\n",
    "    words = answer.content.split(\".\")\n",
    "    required = words[-1].split(\":\")[-1]\n",
    "    predictions.append(words[0])\n",
    "    idxs.append(i)\n",
    "    print(\"Predicted: \",predictions[-1])\n",
    "    print(\"Actual: \",y_test[i])\n",
    "    print()\n",
    "        \n"
   ]
  },
  {
   "cell_type": "code",
   "execution_count": 20,
   "id": "b6085e58",
   "metadata": {},
   "outputs": [
    {
     "name": "stdout",
     "output_type": "stream",
     "text": [
      "[3, 2, 2, 5, 5, 2, 1, 5, 3, 2, 6, 5, 6, 4, 1, 2, 6, 5, 1, 5, 5, 3, 3, 3, 2, 1, 6, 4, 2, 2, 6, 2, 2, 2, 3, 6, 3, 3, 2, 5, 3, 2, 2, 4, 5, 5, 4, 1, 3, 2, 2, 6, 2, 4]\n",
      "[3 1 2 5 5 1 1 5 3 2 6 5 6 5 6 1 6 5 2 5 4 3 2 2 1 4 6 4 1 2 6 2 4 4 3 6 6\n",
      " 3 1 5 3 2 1 4 4 4 5 1 3 3 3 6 2 4]\n",
      "\n",
      "\n",
      "\n",
      "Total Accuracy of few shot: 59.26%\n",
      "Accuracy in Dynamic activities is 55.56%\n",
      "Accuracy in Static activities is 62.96%\n"
     ]
    }
   ],
   "source": [
    "# Checking the predictions data\n",
    "predictions = [int(i) for i in predictions]\n",
    "print(predictions)\n",
    "print(y_test[idxs])\n",
    "print(\"\\n\\n\")\n",
    "\n",
    "y_test_filtered = y_test[idxs]\n",
    "\n",
    "# Calculate the number of correct predictions\n",
    "correct_predictions = sum(p == y for p, y in zip(predictions, y_test_filtered))\n",
    "\n",
    "# Calculate the accuracy\n",
    "accuracy = correct_predictions / len(predictions)\n",
    "\n",
    "# Print the accuracy\n",
    "print(f\"Total Accuracy of few shot: {accuracy:.2%}\")\n",
    "\n",
    "\n",
    "\n",
    "\n",
    "# Calculating the accuracy of the static and dynamic activities separately to analyse the results \n",
    "\n",
    "dynamic_test = []\n",
    "dynamic_predict = []\n",
    "\n",
    "static_test = []\n",
    "static_predict = []\n",
    "\n",
    "for i in range(len(y_test_filtered)):\n",
    "    if y_test_filtered[i] in [1,2,3]:\n",
    "        dynamic_predict.append(predictions[i])\n",
    "        dynamic_test.append(y_test_filtered[i])\n",
    "    \n",
    "    if y_test_filtered[i] in [4,5,6]:\n",
    "        static_predict.append(predictions[i])\n",
    "        static_test.append(y_test_filtered[i])\n",
    "\n",
    "\n",
    "dynamic_accuracy = sum(p == y for p,y in zip(dynamic_predict,dynamic_test))/len(dynamic_predict)\n",
    "print(f\"Accuracy in Dynamic activities is {dynamic_accuracy:.2%}\")\n",
    "\n",
    "static_accuracy = sum(p == y for p,y in zip(static_predict,static_test))/len(static_predict)\n",
    "print(f\"Accuracy in Static activities is {static_accuracy:.2%}\")"
   ]
  },
  {
   "cell_type": "markdown",
   "id": "43dbbca2",
   "metadata": {},
   "source": [
    "## Decision Tree"
   ]
  },
  {
   "cell_type": "markdown",
   "id": "ebed6c08",
   "metadata": {},
   "source": [
    "### Raw data"
   ]
  },
  {
   "cell_type": "code",
   "execution_count": 20,
   "id": "ccf02267",
   "metadata": {},
   "outputs": [
    {
     "name": "stdout",
     "output_type": "stream",
     "text": [
      "Shape of X_train_new: (126, 117)\n",
      "Shape of X_test_new: (54, 117)\n"
     ]
    }
   ],
   "source": [
    "from sklearn.tree import DecisionTreeClassifier\n",
    "from sklearn.metrics import accuracy_score\n",
    "import numpy as np\n",
    "\n",
    "# Create the intervals to classify the raw data\n",
    "bin_edges = np.arange(-10, 10, 0.5)\n",
    "\n",
    "# Determine the number of bins\n",
    "num_bins = len(bin_edges) - 1\n",
    "\n",
    "\n",
    "X_train_new = np.zeros((X_train.shape[0], 3 * num_bins))\n",
    "X_test_new = np.zeros((X_test.shape[0], 3 * num_bins))\n",
    "\n",
    "# Iterate over each sample in X_train\n",
    "for i in range(X_train.shape[0]):\n",
    "    # Calculate histogram counts for each axis (x, y, z)\n",
    "    # Calculate the number of examples that falls under certain bin range\n",
    "    counts_x, _ = np.histogram(X_train[i,:,0], bins=bin_edges)\n",
    "    counts_y, _ = np.histogram(X_train[i,:,1], bins=bin_edges)\n",
    "    counts_z, _ = np.histogram(X_train[i,:,2], bins=bin_edges)\n",
    "    # print(counts_x)\n",
    "\n",
    "    X_train_new[i] = np.concatenate([counts_x, counts_y, counts_z])\n",
    "\n",
    "\n",
    "for i in range(X_test.shape[0]):\n",
    "    # Calculate histogram counts for each axis (x, y, z)\n",
    "    # Calculate the number of examples that falls under certain bin range\n",
    "    counts_x, _ = np.histogram(X_test[i,:,0], bins=bin_edges)\n",
    "    counts_y, _ = np.histogram(X_test[i,:,1], bins=bin_edges)\n",
    "    counts_z, _ = np.histogram(X_test[i,:,2], bins=bin_edges)\n",
    "    \n",
    "    # Combine counts and store them as new columns in X_test_new\n",
    "    X_test_new[i] = np.concatenate([counts_x, counts_y, counts_z])\n",
    "\n",
    "\n",
    "print(\"Shape of X_train_new:\", X_train_new.shape)\n",
    "print(\"Shape of X_test_new:\", X_test_new.shape)\n"
   ]
  },
  {
   "cell_type": "code",
   "execution_count": 21,
   "id": "d7100c79",
   "metadata": {},
   "outputs": [
    {
     "name": "stdout",
     "output_type": "stream",
     "text": [
      "Accuracy: 0.72\n"
     ]
    }
   ],
   "source": [
    "\n",
    "\n",
    "# Initialize the Decision Tree Classifier\n",
    "clf = DecisionTreeClassifier(random_state=50)\n",
    "\n",
    "# Train the Decision Tree Classifier on the training data\n",
    "clf.fit(X_train_new, y_train)\n",
    "\n",
    "y_pred = clf.predict(X_test_new)\n",
    "# Evaluate the accuracy of the model\n",
    "accuracy = accuracy_score(y_test, y_pred)\n",
    "print(f\"Accuracy: {accuracy:.2f}\")\n"
   ]
  },
  {
   "cell_type": "markdown",
   "id": "bf6cea27",
   "metadata": {},
   "source": [
    "### TSFEL Data"
   ]
  },
  {
   "cell_type": "code",
   "execution_count": 23,
   "id": "09b63214",
   "metadata": {},
   "outputs": [
    {
     "name": "stdout",
     "output_type": "stream",
     "text": [
      "Accuracy: 0.85\n"
     ]
    }
   ],
   "source": [
    "import numpy as np\n",
    "from sklearn.tree import DecisionTreeClassifier\n",
    "from sklearn.metrics import accuracy_score\n",
    "\n",
    "clf = DecisionTreeClassifier(random_state=50)\n",
    "\n",
    "# Train the Decision Tree \n",
    "clf.fit(X_train_tsfel, y_train)\n",
    "\n",
    "# print(X_train_tsfell.shape,X_test_tsfell.shape)\n",
    "\n",
    "y_pred = clf.predict(X_test_tsfel)\n",
    "\n",
    "# Evaluate the accuracy of the model\n",
    "accuracy = accuracy_score(y_test, y_pred)\n",
    "print(f\"Accuracy: {accuracy:.2f}\")"
   ]
  },
  {
   "cell_type": "markdown",
   "id": "8835d923-d308-4208-b03f-b7df4b50ead6",
   "metadata": {},
   "source": [
    "# Q3\n",
    "## What are the limitations of Zero-Shot Learning and Few-Shot Learning in the context of classifying human activities based on featurized accelerometer data?"
   ]
  },
  {
   "cell_type": "markdown",
   "id": "ea2f2096-171c-4325-b72d-928ff780981b",
   "metadata": {},
   "source": [
    "### Limitations of zero shot and few shot in context of classifying human activities based on featurezied data\n",
    "\n",
    "1) Written Description : ZSL and FSL depends on the quality of prompt we are using to descibe the problem statement.If these prompts are not structured properly then the models ability to recognize the activities may suffer. Somtimes it is difficult to structure the data into semantic manner.  \n",
    "\n",
    "2) Contraints Related to data: At a time we can input only certain quantity of data that to in text format. So the model has very less data to work with leading to very high inaccuracy. Also we have to embed the data into text prompt which limits our capability to featurize the data and provide all the featurized data.If the data is too noisy then the LLM will struggle to learn from the few samples we provided.\n",
    "\n",
    "3) Generalization: These LLMs tries to generalize their understanding for the given data. This error can be reduced if we use FSL where we provide some sample data to model for its training. But in ZSL the LLM tries to generalize completely because it has not seen the data we fed before. So even in FSL there is generalization to some extent. \n",
    "\n",
    "4) Limited Adaptibility: Both ZSL and FSL face challenges when dealing with activities that are inherently complex or involve multiple stages or types of movements. These models often struggle to accurately classify such activities. In the case of FSL, when an activity not represented in the training data is encountered, the model tends to forcefully classify it as one of the known activities rather than recognizing it as an entirely new or different activity."
   ]
  },
  {
   "cell_type": "markdown",
   "id": "fa48b14a-46d7-4d0b-83c3-6e2f5cc27d7e",
   "metadata": {},
   "source": [
    "# Q4\n",
    "## What does the model classify when given input from an entirely new activity that it hasn't seen before?"
   ]
  },
  {
   "cell_type": "markdown",
   "id": "b8465358-5855-4d33-b1a8-c36a52a7e392",
   "metadata": {},
   "source": [
    "In this scenario, the model has been trained on data from only four specific activities, excluding the 'Standing' and 'Walking' activities, although these two activities are included in the list of possible predictions. When the model is given data related to 'Standing' or 'Walking,' it tends to force the data into one of the four activities it has seen during training, often failing to recognize or accurately classify the 'Standing' or 'Walking' activities. As a result, the model consistently misclassifies these activities because it lacks the necessary training data to correctly identify them, despite their presence in the prediction list."
   ]
  },
  {
   "cell_type": "code",
   "execution_count": null,
   "id": "cf04aba2-b217-40fd-9d02-eb711b5dcb0b",
   "metadata": {},
   "outputs": [
    {
     "name": "stdout",
     "output_type": "stream",
     "text": [
      "Analyzing the provided data, I will attempt to identify the activity represented by the raw data.\n",
      "\n",
      "**Observations:**\n",
      "\n",
      "1. The acceleration values in the x, y, and z directions are relatively stable, with some fluctuations.\n",
      "2. The x-axis acceleration values are mostly positive, indicating movement in the forward direction.\n",
      "3. The y-axis acceleration values are mostly negative, indicating movement in the downward direction.\n",
      "4. The z-axis acceleration values are relatively small, indicating minimal movement in the vertical direction.\n",
      "\n",
      "**Comparison with the provided activities:**\n",
      "\n",
      "1. **WALKING**: The x-axis acceleration values are similar to those in the provided walking data, with a range of approximately 0.8 to 1.2. The y-axis acceleration values are also similar, with a range of approximately -0.2 to -0.1.\n",
      "2. **WALKING_UPSTAIRS**: The x-axis acceleration values are higher than those in the provided walking data, with a range of approximately 1.2 to 1.5. The y-axis acceleration values are also higher, with a range of approximately -0.1 to 0.1.\n",
      "3. **WALKING_DOWNSTAIRS**: Not enough data is provided to make a comparison.\n",
      "4. **SITTING**: The x-axis acceleration values are lower than those in the provided walking data, with a range of approximately 0.7 to 0.9. The y-axis acceleration values are also lower, with a range of approximately 0.4 to 0.5.\n",
      "5. **STANDING**: Not enough data is provided to make a comparison.\n",
      "6. **LAYING**: The x-axis acceleration values are lower than those in the provided walking data, with a range of approximately 0.2 to 0.4. The y-axis acceleration values are also lower, with a range of approximately 0.5 to 0.6.\n",
      "\n",
      "**Conclusion:**\n",
      "\n",
      "Based on the observations and comparisons, I conclude that the raw data represents **WALKING**. The x-axis acceleration values are similar to those in the provided walking data, and the y-axis acceleration values are also similar. The z-axis acceleration values are relatively small, indicating minimal movement in the vertical direction, which is consistent with walking.\n",
      "\n",
      "Please note that this analysis is based on a limited dataset and may not be accurate for all cases. A more comprehensive analysis with a larger dataset would be necessary to confirm the results.\n"
     ]
    }
   ],
   "source": [
    "# Applying few shot on entirely new activity\n",
    "\n",
    "query = f\"\"\"\n",
    "You are being provided with the experimental data containing the acceleration in x,y and z directions. \n",
    "This data is collected by humans performing  following activities and the data is 2 dimensional that means that \n",
    "there are multiple data readingsof same activity within the single one provided to you\n",
    "1.WALKING\n",
    "Acceleration in x direction: {accx_train_1.ravel()}\n",
    "Acceleration in y direction: {accy_train_1.ravel()}\n",
    "Acceleration in z direction: {accz_train_1.ravel()}\n",
    "\n",
    "2.WALKING_UPSTAIRS\n",
    "Acceleration in x direction: {accx_train_2.ravel()}\n",
    "Acceleration in y direction: {accy_train_2.ravel()}\n",
    "Acceleration in z direction: {accz_train_2.ravel()}\n",
    "\n",
    "3.WALKING_DOWNSTAIRS\n",
    "\n",
    "4.SITTING\n",
    "Acceleration in x direction: {accx_train_4.ravel()}\n",
    "Acceleration in y direction: {accy_train_4.ravel()}\n",
    "Acceleration in z direction: {accz_train_4.ravel()}\n",
    "\n",
    "5.STANDING\n",
    "\n",
    "6.LAYING\n",
    "Acceleration in x direction: {accx_train_6.ravel()}\n",
    "Acceleration in y direction: {accy_train_6.ravel()}\n",
    "Acceleration in z direction: {accz_train_6.ravel()}\n",
    "\n",
    "\n",
    "your task is to analyse the data given above and then analyse the following raw data and say what is the data representing out of the above mentioned activities\n",
    "Acceleration in x direction: {accx_test_5[5]}\n",
    "Acceleration in y direction: {accy_test_5[5]}\n",
    "Acceleration in z direction: {accz_test_5[5]}\n",
    "\n",
    "\"\"\" \n",
    "\n",
    "model_name = model\n",
    "llm = ChatGroq(model=groq_models[model_name], api_key=Groq_Token, temperature=0)\n",
    "answer = llm.invoke(query)\n",
    "\n",
    "print(answer.content)\n"
   ]
  },
  {
   "cell_type": "markdown",
   "id": "095bdef1-203a-488a-9427-ec4c2ef5a705",
   "metadata": {},
   "source": [
    "# Q5\n",
    "## Test the model with random data (ensuring the data has the same dimensions and range as the previous input) and report the results. "
   ]
  },
  {
   "cell_type": "code",
   "execution_count": null,
   "id": "4f599be2-87a9-452f-b3e6-46dedffd25ec",
   "metadata": {},
   "outputs": [
    {
     "name": "stdout",
     "output_type": "stream",
     "text": [
      "(21, 500)\n"
     ]
    }
   ],
   "source": [
    "# Generating random data\n",
    "\n",
    "previous_input = accx_train_5\n",
    "dim = previous_input.shape\n",
    "randomx = np.random.rand(dim[0],500)\n",
    "randomy = np.random.rand(dim[0],500)\n",
    "randomz = np.random.rand(dim[0],500)\n",
    "print(randomx.shape)"
   ]
  },
  {
   "cell_type": "code",
   "execution_count": null,
   "id": "831381dd-5d72-4ee5-a00f-7a7e0370add0",
   "metadata": {},
   "outputs": [
    {
     "name": "stdout",
     "output_type": "stream",
     "text": [
      "Analyzing the provided acceleration data in x, y, and z directions, we can observe the following patterns and characteristics:\n",
      "\n",
      "1. **Range and Distribution**: The acceleration values in all three directions (x, y, z) range from approximately -1 to 1, with most values concentrated between -0.5 and 0.5. This suggests that the activities being performed do not involve extreme accelerations.\n",
      "\n",
      "2. **Patterns in X Direction**: The acceleration in the x direction appears to have a mix of high and low values, with some periods of relatively consistent values (e.g., around indices 100-150). This could indicate activities that involve walking or moving in a straight line.\n",
      "\n",
      "3. **Patterns in Y Direction**: The acceleration in the y direction shows more variability, with frequent changes in magnitude and direction. This could be indicative of activities that involve movement in multiple directions or changes in elevation (e.g., walking upstairs or downstairs).\n",
      "\n",
      "4. **Patterns in Z Direction**: The acceleration in the z direction exhibits a mix of high and low values, with some periods of relatively consistent values (e.g., around indices 200-250). This could indicate activities that involve movement in a vertical direction (e.g., walking upstairs or downstairs).\n",
      "\n",
      "Based on these observations, it is likely that the data represents activities that involve walking, moving in different directions, and changes in elevation. Specifically, the data may represent the following activities:\n",
      "\n",
      "* **Walking**: The mix of high and low values in the x direction, combined with the variability in the y direction, suggests that walking is a likely activity.\n",
      "* **Walking Upstairs**: The frequent changes in magnitude and direction in the y direction, combined with the consistent values in the z direction, suggest that walking upstairs is a likely activity.\n",
      "* **Walking Downstairs**: The similar patterns in the y and z directions, combined with the variability in the x direction, suggest that walking downstairs is also a likely activity.\n",
      "* **Sitting or Standing**: The relatively consistent values in all three directions, particularly in the x direction, suggest that sitting or standing may be a likely activity.\n",
      "\n",
      "However, without more information about the specific activities being performed or the context in which the data was collected, it is difficult to determine the exact activities being represented by the data.\n",
      "\n",
      "To further analyze the data and determine the specific activities being represented, additional techniques such as:\n",
      "\n",
      "* **Time-frequency analysis**: to examine the frequency content of the acceleration signals and identify patterns that may be indicative of specific activities.\n",
      "* **Machine learning**: to train a model to classify the acceleration data into different activity categories.\n",
      "* **Feature extraction**: to extract relevant features from the acceleration data that can be used to distinguish between different activities.\n",
      "\n",
      "may be employed.\n"
     ]
    }
   ],
   "source": [
    "# feeding random data to zero shot\n",
    "\n",
    "query = f\"\"\"\n",
    "You are being provided with the experimental data containing the acceleration in x,y and z directions. \n",
    "This data is collected by humans performing  following activities \n",
    "1.Walking\n",
    "2.Walking Upstairs\n",
    "3.Walking Downstairs\n",
    "4.Sitting\n",
    "5.Standing\n",
    "6.Laying\n",
    "\n",
    "your task is to analyse the raw data and say what is the data representing out of the above mentioned activities\n",
    "\n",
    "Acceleration in x direction: {randomx[0]}\n",
    "Acceleration in y direction: {randomy[0]}\n",
    "Acceleration in z direction: {randomz[0]}\n",
    "\"\"\" \n",
    "\n",
    " \n",
    "model_name = model\n",
    "llm = ChatGroq(model=groq_models[model_name], api_key=Groq_Token, temperature=0)\n",
    "answer = llm.invoke(query)\n",
    "\n",
    "print(answer.content)"
   ]
  },
  {
   "cell_type": "code",
   "execution_count": null,
   "id": "a4b1d4ef-6c19-45b4-9372-86b1c5f62677",
   "metadata": {},
   "outputs": [
    {
     "name": "stdout",
     "output_type": "stream",
     "text": [
      "Analyzing the provided data, I will attempt to identify the activity represented by the raw data.\n",
      "\n",
      "**Observations:**\n",
      "\n",
      "1. The acceleration values in all three directions (x, y, z) are within the range of -1 to 1, which is consistent with the data provided for the six activities.\n",
      "2. The x-axis acceleration values are mostly positive, with some negative values, indicating movement in both forward and backward directions.\n",
      "3. The y-axis acceleration values are mostly positive, with some negative values, indicating movement in both upward and downward directions.\n",
      "4. The z-axis acceleration values are mostly positive, indicating movement in the upward direction.\n",
      "\n",
      "**Comparison with the provided data:**\n",
      "\n",
      "1. **Walking**: The x-axis acceleration values are mostly positive, with some negative values, which is consistent with the walking data. However, the y-axis acceleration values are more positive than the walking data, indicating more upward movement.\n",
      "2. **Walking Upstairs**: The x-axis acceleration values are mostly positive, with some negative values, which is consistent with the walking upstairs data. The y-axis acceleration values are more positive than the walking data, indicating more upward movement, which is consistent with walking upstairs.\n",
      "3. **Walking Downstairs**: The x-axis acceleration values are mostly positive, with some negative values, which is consistent with the walking downstairs data. However, the y-axis acceleration values are more negative than the walking data, indicating more downward movement, which is not consistent with the provided data.\n",
      "4. **Sitting**: The x-axis acceleration values are mostly positive, with some negative values, which is not consistent with the sitting data. The y-axis acceleration values are mostly positive, which is not consistent with the sitting data.\n",
      "5. **Standing**: The x-axis acceleration values are mostly positive, with some negative values, which is consistent with the standing data. However, the y-axis acceleration values are more positive than the standing data, indicating more upward movement, which is not consistent with the provided data.\n",
      "6. **Laying**: The x-axis acceleration values are mostly positive, with some negative values, which is not consistent with the laying data. The y-axis acceleration values are mostly positive, which is not consistent with the laying data.\n",
      "\n",
      "**Conclusion:**\n",
      "\n",
      "Based on the analysis, I would conclude that the raw data represents **Walking Upstairs**. The x-axis acceleration values are mostly positive, with some negative values, indicating movement in both forward and backward directions. The y-axis acceleration values are more positive than the walking data, indicating more upward movement, which is consistent with walking upstairs. The z-axis acceleration values are mostly positive, indicating movement in the upward direction, which is also consistent with walking upstairs.\n",
      "\n",
      "Please note that this analysis is based on a visual inspection of the data and may not be entirely accurate. A more rigorous analysis using machine learning algorithms or statistical methods may be necessary to confirm the results.\n"
     ]
    }
   ],
   "source": [
    "# feeding random data to few shot shot\n",
    "\n",
    "query = f\"\"\"\n",
    "You are being provided with the experimental data containing the acceleration in x,y and z directions. \n",
    "This data is collected by humans performing  following activities and the data is 2 dimensional that means that \n",
    "there are multiple data readingsof same activity within the single one provided to you\n",
    "1.WALKING\n",
    "Acceleration in x direction: {accx_train_1.ravel()}\n",
    "Acceleration in y direction: {accy_train_1.ravel()}\n",
    "Acceleration in z direction: {accz_train_1.ravel()}\n",
    "\n",
    "2.WALKING_UPSTAIRS\n",
    "Acceleration in x direction: {accx_train_2.ravel()}\n",
    "Acceleration in y direction: {accy_train_2.ravel()}\n",
    "Acceleration in z direction: {accz_train_2.ravel()}\n",
    "\n",
    "3.WALKING_DOWNSTAIRS\n",
    "Acceleration in x direction: {accx_train_3.ravel()}\n",
    "Acceleration in y direction: {accy_train_3.ravel()}\n",
    "Acceleration in z direction: {accz_train_3.ravel()}\n",
    "\n",
    "4.SITTING\n",
    "Acceleration in x direction: {accx_train_4.ravel()}\n",
    "Acceleration in y direction: {accy_train_4.ravel()}\n",
    "Acceleration in z direction: {accz_train_4.ravel()}\n",
    "\n",
    "5.STANDING\n",
    "Acceleration in x direction: {accx_train_5.ravel()}\n",
    "Acceleration in y direction: {accy_train_5.ravel()}\n",
    "Acceleration in z direction: {accz_train_5.ravel()}\n",
    "\n",
    "6.LAYING\n",
    "Acceleration in x direction: {accx_train_6.ravel()}\n",
    "Acceleration in y direction: {accy_train_6.ravel()}\n",
    "Acceleration in z direction: {accz_train_6.ravel()}\n",
    "\n",
    "\n",
    "\n",
    "your task is to analyse the data given above and then analyse the following raw data and say what is the data representing out of the above mentioned activities\n",
    "Acceleration in x direction: {randomx[4]}\n",
    "Acceleration in y direction: {randomy[4]}\n",
    "Acceleration in z direction: {randomz[4]}\n",
    "\n",
    "\"\"\" \n",
    "\n",
    "model_name = model\n",
    "llm = ChatGroq(model=groq_models[model_name], api_key=Groq_Token, temperature=0)\n",
    "answer = llm.invoke(query)\n",
    "\n",
    "print(answer.content)\n"
   ]
  },
  {
   "cell_type": "code",
   "execution_count": null,
   "id": "67f67ded-cf57-40bf-b4e2-b32d3b5d66f8",
   "metadata": {},
   "outputs": [],
   "source": []
  }
 ],
 "metadata": {
  "kernelspec": {
   "display_name": "Python 3 (ipykernel)",
   "language": "python",
   "name": "python3"
  },
  "language_info": {
   "codemirror_mode": {
    "name": "ipython",
    "version": 3
   },
   "file_extension": ".py",
   "mimetype": "text/x-python",
   "name": "python",
   "nbconvert_exporter": "python",
   "pygments_lexer": "ipython3",
   "version": "3.12.3"
  }
 },
 "nbformat": 4,
 "nbformat_minor": 5
}
